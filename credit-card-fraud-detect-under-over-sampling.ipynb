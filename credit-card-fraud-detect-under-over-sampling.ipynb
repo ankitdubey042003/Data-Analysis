{
 "cells": [
  {
   "cell_type": "code",
   "execution_count": 1,
   "id": "9c18df3a",
   "metadata": {
    "_cell_guid": "b1076dfc-b9ad-4769-8c92-a6c4dae69d19",
    "_uuid": "8f2839f25d086af736a60e9eeb907d3b93b6e0e5",
    "execution": {
     "iopub.execute_input": "2022-10-07T09:59:03.417171Z",
     "iopub.status.busy": "2022-10-07T09:59:03.416156Z",
     "iopub.status.idle": "2022-10-07T09:59:03.436298Z",
     "shell.execute_reply": "2022-10-07T09:59:03.435399Z"
    },
    "papermill": {
     "duration": 0.051235,
     "end_time": "2022-10-07T09:59:03.439583",
     "exception": false,
     "start_time": "2022-10-07T09:59:03.388348",
     "status": "completed"
    },
    "tags": []
   },
   "outputs": [],
   "source": [
    "\n",
    "import numpy as np \n",
    "import pandas as pd \n",
    "\n",
    "\n",
    "import os\n",
    "for dirname, _, filenames in os.walk('/kaggle/input'):\n",
    "    for filename in filenames:\n",
    "        print(os.path.join(dirname, filename))\n",
    "\n"
   ]
  },
  {
   "cell_type": "code",
   "execution_count": 2,
   "id": "e80c4e27",
   "metadata": {
    "execution": {
     "iopub.execute_input": "2022-10-07T09:59:03.536209Z",
     "iopub.status.busy": "2022-10-07T09:59:03.535244Z",
     "iopub.status.idle": "2022-10-07T09:59:03.539716Z",
     "shell.execute_reply": "2022-10-07T09:59:03.538875Z"
    },
    "papermill": {
     "duration": 0.031258,
     "end_time": "2022-10-07T09:59:03.541956",
     "exception": false,
     "start_time": "2022-10-07T09:59:03.510698",
     "status": "completed"
    },
    "tags": []
   },
   "outputs": [],
   "source": [
    "import warnings\n",
    "warnings.filterwarnings('ignore')"
   ]
  },
  {
   "cell_type": "code",
   "execution_count": 4,
   "id": "33d27140",
   "metadata": {
    "execution": {
     "iopub.execute_input": "2022-10-07T09:59:03.589731Z",
     "iopub.status.busy": "2022-10-07T09:59:03.589017Z",
     "iopub.status.idle": "2022-10-07T09:59:08.215929Z",
     "shell.execute_reply": "2022-10-07T09:59:08.214677Z"
    },
    "papermill": {
     "duration": 4.653959,
     "end_time": "2022-10-07T09:59:08.218767",
     "exception": false,
     "start_time": "2022-10-07T09:59:03.564808",
     "status": "completed"
    },
    "tags": []
   },
   "outputs": [],
   "source": [
    "data = pd.read_csv('creditcard.csv')"
   ]
  },
  {
   "cell_type": "code",
   "execution_count": 5,
   "id": "e154a87e",
   "metadata": {
    "execution": {
     "iopub.execute_input": "2022-10-07T09:59:08.265890Z",
     "iopub.status.busy": "2022-10-07T09:59:08.265465Z",
     "iopub.status.idle": "2022-10-07T09:59:08.270943Z",
     "shell.execute_reply": "2022-10-07T09:59:08.269649Z"
    },
    "papermill": {
     "duration": 0.031878,
     "end_time": "2022-10-07T09:59:08.273300",
     "exception": false,
     "start_time": "2022-10-07T09:59:08.241422",
     "status": "completed"
    },
    "tags": []
   },
   "outputs": [],
   "source": [
    "pd.options.display.max_columns = None"
   ]
  },
  {
   "cell_type": "markdown",
   "id": "f6284a59",
   "metadata": {
    "papermill": {
     "duration": 0.022187,
     "end_time": "2022-10-07T09:59:08.318251",
     "exception": false,
     "start_time": "2022-10-07T09:59:08.296064",
     "status": "completed"
    },
    "tags": []
   },
   "source": [
    "# 1. Display Top 5 Rows of The Dataset"
   ]
  },
  {
   "cell_type": "code",
   "execution_count": 6,
   "id": "82eae24c",
   "metadata": {
    "execution": {
     "iopub.execute_input": "2022-10-07T09:59:08.365125Z",
     "iopub.status.busy": "2022-10-07T09:59:08.364698Z",
     "iopub.status.idle": "2022-10-07T09:59:08.412758Z",
     "shell.execute_reply": "2022-10-07T09:59:08.411556Z"
    },
    "papermill": {
     "duration": 0.074493,
     "end_time": "2022-10-07T09:59:08.415287",
     "exception": false,
     "start_time": "2022-10-07T09:59:08.340794",
     "status": "completed"
    },
    "tags": []
   },
   "outputs": [
    {
     "data": {
      "text/html": [
       "<div>\n",
       "<style scoped>\n",
       "    .dataframe tbody tr th:only-of-type {\n",
       "        vertical-align: middle;\n",
       "    }\n",
       "\n",
       "    .dataframe tbody tr th {\n",
       "        vertical-align: top;\n",
       "    }\n",
       "\n",
       "    .dataframe thead th {\n",
       "        text-align: right;\n",
       "    }\n",
       "</style>\n",
       "<table border=\"1\" class=\"dataframe\">\n",
       "  <thead>\n",
       "    <tr style=\"text-align: right;\">\n",
       "      <th></th>\n",
       "      <th>Time</th>\n",
       "      <th>V1</th>\n",
       "      <th>V2</th>\n",
       "      <th>V3</th>\n",
       "      <th>V4</th>\n",
       "      <th>V5</th>\n",
       "      <th>V6</th>\n",
       "      <th>V7</th>\n",
       "      <th>V8</th>\n",
       "      <th>V9</th>\n",
       "      <th>V10</th>\n",
       "      <th>V11</th>\n",
       "      <th>V12</th>\n",
       "      <th>V13</th>\n",
       "      <th>V14</th>\n",
       "      <th>V15</th>\n",
       "      <th>V16</th>\n",
       "      <th>V17</th>\n",
       "      <th>V18</th>\n",
       "      <th>V19</th>\n",
       "      <th>V20</th>\n",
       "      <th>V21</th>\n",
       "      <th>V22</th>\n",
       "      <th>V23</th>\n",
       "      <th>V24</th>\n",
       "      <th>V25</th>\n",
       "      <th>V26</th>\n",
       "      <th>V27</th>\n",
       "      <th>V28</th>\n",
       "      <th>Amount</th>\n",
       "      <th>Class</th>\n",
       "    </tr>\n",
       "  </thead>\n",
       "  <tbody>\n",
       "    <tr>\n",
       "      <th>0</th>\n",
       "      <td>0.0</td>\n",
       "      <td>-1.359807</td>\n",
       "      <td>-0.072781</td>\n",
       "      <td>2.536347</td>\n",
       "      <td>1.378155</td>\n",
       "      <td>-0.338321</td>\n",
       "      <td>0.462388</td>\n",
       "      <td>0.239599</td>\n",
       "      <td>0.098698</td>\n",
       "      <td>0.363787</td>\n",
       "      <td>0.090794</td>\n",
       "      <td>-0.551600</td>\n",
       "      <td>-0.617801</td>\n",
       "      <td>-0.991390</td>\n",
       "      <td>-0.311169</td>\n",
       "      <td>1.468177</td>\n",
       "      <td>-0.470401</td>\n",
       "      <td>0.207971</td>\n",
       "      <td>0.025791</td>\n",
       "      <td>0.403993</td>\n",
       "      <td>0.251412</td>\n",
       "      <td>-0.018307</td>\n",
       "      <td>0.277838</td>\n",
       "      <td>-0.110474</td>\n",
       "      <td>0.066928</td>\n",
       "      <td>0.128539</td>\n",
       "      <td>-0.189115</td>\n",
       "      <td>0.133558</td>\n",
       "      <td>-0.021053</td>\n",
       "      <td>149.62</td>\n",
       "      <td>0</td>\n",
       "    </tr>\n",
       "    <tr>\n",
       "      <th>1</th>\n",
       "      <td>0.0</td>\n",
       "      <td>1.191857</td>\n",
       "      <td>0.266151</td>\n",
       "      <td>0.166480</td>\n",
       "      <td>0.448154</td>\n",
       "      <td>0.060018</td>\n",
       "      <td>-0.082361</td>\n",
       "      <td>-0.078803</td>\n",
       "      <td>0.085102</td>\n",
       "      <td>-0.255425</td>\n",
       "      <td>-0.166974</td>\n",
       "      <td>1.612727</td>\n",
       "      <td>1.065235</td>\n",
       "      <td>0.489095</td>\n",
       "      <td>-0.143772</td>\n",
       "      <td>0.635558</td>\n",
       "      <td>0.463917</td>\n",
       "      <td>-0.114805</td>\n",
       "      <td>-0.183361</td>\n",
       "      <td>-0.145783</td>\n",
       "      <td>-0.069083</td>\n",
       "      <td>-0.225775</td>\n",
       "      <td>-0.638672</td>\n",
       "      <td>0.101288</td>\n",
       "      <td>-0.339846</td>\n",
       "      <td>0.167170</td>\n",
       "      <td>0.125895</td>\n",
       "      <td>-0.008983</td>\n",
       "      <td>0.014724</td>\n",
       "      <td>2.69</td>\n",
       "      <td>0</td>\n",
       "    </tr>\n",
       "    <tr>\n",
       "      <th>2</th>\n",
       "      <td>1.0</td>\n",
       "      <td>-1.358354</td>\n",
       "      <td>-1.340163</td>\n",
       "      <td>1.773209</td>\n",
       "      <td>0.379780</td>\n",
       "      <td>-0.503198</td>\n",
       "      <td>1.800499</td>\n",
       "      <td>0.791461</td>\n",
       "      <td>0.247676</td>\n",
       "      <td>-1.514654</td>\n",
       "      <td>0.207643</td>\n",
       "      <td>0.624501</td>\n",
       "      <td>0.066084</td>\n",
       "      <td>0.717293</td>\n",
       "      <td>-0.165946</td>\n",
       "      <td>2.345865</td>\n",
       "      <td>-2.890083</td>\n",
       "      <td>1.109969</td>\n",
       "      <td>-0.121359</td>\n",
       "      <td>-2.261857</td>\n",
       "      <td>0.524980</td>\n",
       "      <td>0.247998</td>\n",
       "      <td>0.771679</td>\n",
       "      <td>0.909412</td>\n",
       "      <td>-0.689281</td>\n",
       "      <td>-0.327642</td>\n",
       "      <td>-0.139097</td>\n",
       "      <td>-0.055353</td>\n",
       "      <td>-0.059752</td>\n",
       "      <td>378.66</td>\n",
       "      <td>0</td>\n",
       "    </tr>\n",
       "    <tr>\n",
       "      <th>3</th>\n",
       "      <td>1.0</td>\n",
       "      <td>-0.966272</td>\n",
       "      <td>-0.185226</td>\n",
       "      <td>1.792993</td>\n",
       "      <td>-0.863291</td>\n",
       "      <td>-0.010309</td>\n",
       "      <td>1.247203</td>\n",
       "      <td>0.237609</td>\n",
       "      <td>0.377436</td>\n",
       "      <td>-1.387024</td>\n",
       "      <td>-0.054952</td>\n",
       "      <td>-0.226487</td>\n",
       "      <td>0.178228</td>\n",
       "      <td>0.507757</td>\n",
       "      <td>-0.287924</td>\n",
       "      <td>-0.631418</td>\n",
       "      <td>-1.059647</td>\n",
       "      <td>-0.684093</td>\n",
       "      <td>1.965775</td>\n",
       "      <td>-1.232622</td>\n",
       "      <td>-0.208038</td>\n",
       "      <td>-0.108300</td>\n",
       "      <td>0.005274</td>\n",
       "      <td>-0.190321</td>\n",
       "      <td>-1.175575</td>\n",
       "      <td>0.647376</td>\n",
       "      <td>-0.221929</td>\n",
       "      <td>0.062723</td>\n",
       "      <td>0.061458</td>\n",
       "      <td>123.50</td>\n",
       "      <td>0</td>\n",
       "    </tr>\n",
       "    <tr>\n",
       "      <th>4</th>\n",
       "      <td>2.0</td>\n",
       "      <td>-1.158233</td>\n",
       "      <td>0.877737</td>\n",
       "      <td>1.548718</td>\n",
       "      <td>0.403034</td>\n",
       "      <td>-0.407193</td>\n",
       "      <td>0.095921</td>\n",
       "      <td>0.592941</td>\n",
       "      <td>-0.270533</td>\n",
       "      <td>0.817739</td>\n",
       "      <td>0.753074</td>\n",
       "      <td>-0.822843</td>\n",
       "      <td>0.538196</td>\n",
       "      <td>1.345852</td>\n",
       "      <td>-1.119670</td>\n",
       "      <td>0.175121</td>\n",
       "      <td>-0.451449</td>\n",
       "      <td>-0.237033</td>\n",
       "      <td>-0.038195</td>\n",
       "      <td>0.803487</td>\n",
       "      <td>0.408542</td>\n",
       "      <td>-0.009431</td>\n",
       "      <td>0.798278</td>\n",
       "      <td>-0.137458</td>\n",
       "      <td>0.141267</td>\n",
       "      <td>-0.206010</td>\n",
       "      <td>0.502292</td>\n",
       "      <td>0.219422</td>\n",
       "      <td>0.215153</td>\n",
       "      <td>69.99</td>\n",
       "      <td>0</td>\n",
       "    </tr>\n",
       "  </tbody>\n",
       "</table>\n",
       "</div>"
      ],
      "text/plain": [
       "   Time        V1        V2        V3        V4        V5        V6        V7  \\\n",
       "0   0.0 -1.359807 -0.072781  2.536347  1.378155 -0.338321  0.462388  0.239599   \n",
       "1   0.0  1.191857  0.266151  0.166480  0.448154  0.060018 -0.082361 -0.078803   \n",
       "2   1.0 -1.358354 -1.340163  1.773209  0.379780 -0.503198  1.800499  0.791461   \n",
       "3   1.0 -0.966272 -0.185226  1.792993 -0.863291 -0.010309  1.247203  0.237609   \n",
       "4   2.0 -1.158233  0.877737  1.548718  0.403034 -0.407193  0.095921  0.592941   \n",
       "\n",
       "         V8        V9       V10       V11       V12       V13       V14  \\\n",
       "0  0.098698  0.363787  0.090794 -0.551600 -0.617801 -0.991390 -0.311169   \n",
       "1  0.085102 -0.255425 -0.166974  1.612727  1.065235  0.489095 -0.143772   \n",
       "2  0.247676 -1.514654  0.207643  0.624501  0.066084  0.717293 -0.165946   \n",
       "3  0.377436 -1.387024 -0.054952 -0.226487  0.178228  0.507757 -0.287924   \n",
       "4 -0.270533  0.817739  0.753074 -0.822843  0.538196  1.345852 -1.119670   \n",
       "\n",
       "        V15       V16       V17       V18       V19       V20       V21  \\\n",
       "0  1.468177 -0.470401  0.207971  0.025791  0.403993  0.251412 -0.018307   \n",
       "1  0.635558  0.463917 -0.114805 -0.183361 -0.145783 -0.069083 -0.225775   \n",
       "2  2.345865 -2.890083  1.109969 -0.121359 -2.261857  0.524980  0.247998   \n",
       "3 -0.631418 -1.059647 -0.684093  1.965775 -1.232622 -0.208038 -0.108300   \n",
       "4  0.175121 -0.451449 -0.237033 -0.038195  0.803487  0.408542 -0.009431   \n",
       "\n",
       "        V22       V23       V24       V25       V26       V27       V28  \\\n",
       "0  0.277838 -0.110474  0.066928  0.128539 -0.189115  0.133558 -0.021053   \n",
       "1 -0.638672  0.101288 -0.339846  0.167170  0.125895 -0.008983  0.014724   \n",
       "2  0.771679  0.909412 -0.689281 -0.327642 -0.139097 -0.055353 -0.059752   \n",
       "3  0.005274 -0.190321 -1.175575  0.647376 -0.221929  0.062723  0.061458   \n",
       "4  0.798278 -0.137458  0.141267 -0.206010  0.502292  0.219422  0.215153   \n",
       "\n",
       "   Amount  Class  \n",
       "0  149.62      0  \n",
       "1    2.69      0  \n",
       "2  378.66      0  \n",
       "3  123.50      0  \n",
       "4   69.99      0  "
      ]
     },
     "execution_count": 6,
     "metadata": {},
     "output_type": "execute_result"
    }
   ],
   "source": [
    "data.head()"
   ]
  },
  {
   "cell_type": "markdown",
   "id": "9b8c46ae",
   "metadata": {
    "papermill": {
     "duration": 0.024666,
     "end_time": "2022-10-07T09:59:08.463499",
     "exception": false,
     "start_time": "2022-10-07T09:59:08.438833",
     "status": "completed"
    },
    "tags": []
   },
   "source": [
    "# 2. Check Last 5 Rows of The Dataset"
   ]
  },
  {
   "cell_type": "code",
   "execution_count": 7,
   "id": "71677b36",
   "metadata": {
    "execution": {
     "iopub.execute_input": "2022-10-07T09:59:08.511294Z",
     "iopub.status.busy": "2022-10-07T09:59:08.510846Z",
     "iopub.status.idle": "2022-10-07T09:59:08.545289Z",
     "shell.execute_reply": "2022-10-07T09:59:08.544049Z"
    },
    "papermill": {
     "duration": 0.061243,
     "end_time": "2022-10-07T09:59:08.547891",
     "exception": false,
     "start_time": "2022-10-07T09:59:08.486648",
     "status": "completed"
    },
    "tags": []
   },
   "outputs": [
    {
     "data": {
      "text/html": [
       "<div>\n",
       "<style scoped>\n",
       "    .dataframe tbody tr th:only-of-type {\n",
       "        vertical-align: middle;\n",
       "    }\n",
       "\n",
       "    .dataframe tbody tr th {\n",
       "        vertical-align: top;\n",
       "    }\n",
       "\n",
       "    .dataframe thead th {\n",
       "        text-align: right;\n",
       "    }\n",
       "</style>\n",
       "<table border=\"1\" class=\"dataframe\">\n",
       "  <thead>\n",
       "    <tr style=\"text-align: right;\">\n",
       "      <th></th>\n",
       "      <th>Time</th>\n",
       "      <th>V1</th>\n",
       "      <th>V2</th>\n",
       "      <th>V3</th>\n",
       "      <th>V4</th>\n",
       "      <th>V5</th>\n",
       "      <th>V6</th>\n",
       "      <th>V7</th>\n",
       "      <th>V8</th>\n",
       "      <th>V9</th>\n",
       "      <th>V10</th>\n",
       "      <th>V11</th>\n",
       "      <th>V12</th>\n",
       "      <th>V13</th>\n",
       "      <th>V14</th>\n",
       "      <th>V15</th>\n",
       "      <th>V16</th>\n",
       "      <th>V17</th>\n",
       "      <th>V18</th>\n",
       "      <th>V19</th>\n",
       "      <th>V20</th>\n",
       "      <th>V21</th>\n",
       "      <th>V22</th>\n",
       "      <th>V23</th>\n",
       "      <th>V24</th>\n",
       "      <th>V25</th>\n",
       "      <th>V26</th>\n",
       "      <th>V27</th>\n",
       "      <th>V28</th>\n",
       "      <th>Amount</th>\n",
       "      <th>Class</th>\n",
       "    </tr>\n",
       "  </thead>\n",
       "  <tbody>\n",
       "    <tr>\n",
       "      <th>284802</th>\n",
       "      <td>172786.0</td>\n",
       "      <td>-11.881118</td>\n",
       "      <td>10.071785</td>\n",
       "      <td>-9.834783</td>\n",
       "      <td>-2.066656</td>\n",
       "      <td>-5.364473</td>\n",
       "      <td>-2.606837</td>\n",
       "      <td>-4.918215</td>\n",
       "      <td>7.305334</td>\n",
       "      <td>1.914428</td>\n",
       "      <td>4.356170</td>\n",
       "      <td>-1.593105</td>\n",
       "      <td>2.711941</td>\n",
       "      <td>-0.689256</td>\n",
       "      <td>4.626942</td>\n",
       "      <td>-0.924459</td>\n",
       "      <td>1.107641</td>\n",
       "      <td>1.991691</td>\n",
       "      <td>0.510632</td>\n",
       "      <td>-0.682920</td>\n",
       "      <td>1.475829</td>\n",
       "      <td>0.213454</td>\n",
       "      <td>0.111864</td>\n",
       "      <td>1.014480</td>\n",
       "      <td>-0.509348</td>\n",
       "      <td>1.436807</td>\n",
       "      <td>0.250034</td>\n",
       "      <td>0.943651</td>\n",
       "      <td>0.823731</td>\n",
       "      <td>0.77</td>\n",
       "      <td>0</td>\n",
       "    </tr>\n",
       "    <tr>\n",
       "      <th>284803</th>\n",
       "      <td>172787.0</td>\n",
       "      <td>-0.732789</td>\n",
       "      <td>-0.055080</td>\n",
       "      <td>2.035030</td>\n",
       "      <td>-0.738589</td>\n",
       "      <td>0.868229</td>\n",
       "      <td>1.058415</td>\n",
       "      <td>0.024330</td>\n",
       "      <td>0.294869</td>\n",
       "      <td>0.584800</td>\n",
       "      <td>-0.975926</td>\n",
       "      <td>-0.150189</td>\n",
       "      <td>0.915802</td>\n",
       "      <td>1.214756</td>\n",
       "      <td>-0.675143</td>\n",
       "      <td>1.164931</td>\n",
       "      <td>-0.711757</td>\n",
       "      <td>-0.025693</td>\n",
       "      <td>-1.221179</td>\n",
       "      <td>-1.545556</td>\n",
       "      <td>0.059616</td>\n",
       "      <td>0.214205</td>\n",
       "      <td>0.924384</td>\n",
       "      <td>0.012463</td>\n",
       "      <td>-1.016226</td>\n",
       "      <td>-0.606624</td>\n",
       "      <td>-0.395255</td>\n",
       "      <td>0.068472</td>\n",
       "      <td>-0.053527</td>\n",
       "      <td>24.79</td>\n",
       "      <td>0</td>\n",
       "    </tr>\n",
       "    <tr>\n",
       "      <th>284804</th>\n",
       "      <td>172788.0</td>\n",
       "      <td>1.919565</td>\n",
       "      <td>-0.301254</td>\n",
       "      <td>-3.249640</td>\n",
       "      <td>-0.557828</td>\n",
       "      <td>2.630515</td>\n",
       "      <td>3.031260</td>\n",
       "      <td>-0.296827</td>\n",
       "      <td>0.708417</td>\n",
       "      <td>0.432454</td>\n",
       "      <td>-0.484782</td>\n",
       "      <td>0.411614</td>\n",
       "      <td>0.063119</td>\n",
       "      <td>-0.183699</td>\n",
       "      <td>-0.510602</td>\n",
       "      <td>1.329284</td>\n",
       "      <td>0.140716</td>\n",
       "      <td>0.313502</td>\n",
       "      <td>0.395652</td>\n",
       "      <td>-0.577252</td>\n",
       "      <td>0.001396</td>\n",
       "      <td>0.232045</td>\n",
       "      <td>0.578229</td>\n",
       "      <td>-0.037501</td>\n",
       "      <td>0.640134</td>\n",
       "      <td>0.265745</td>\n",
       "      <td>-0.087371</td>\n",
       "      <td>0.004455</td>\n",
       "      <td>-0.026561</td>\n",
       "      <td>67.88</td>\n",
       "      <td>0</td>\n",
       "    </tr>\n",
       "    <tr>\n",
       "      <th>284805</th>\n",
       "      <td>172788.0</td>\n",
       "      <td>-0.240440</td>\n",
       "      <td>0.530483</td>\n",
       "      <td>0.702510</td>\n",
       "      <td>0.689799</td>\n",
       "      <td>-0.377961</td>\n",
       "      <td>0.623708</td>\n",
       "      <td>-0.686180</td>\n",
       "      <td>0.679145</td>\n",
       "      <td>0.392087</td>\n",
       "      <td>-0.399126</td>\n",
       "      <td>-1.933849</td>\n",
       "      <td>-0.962886</td>\n",
       "      <td>-1.042082</td>\n",
       "      <td>0.449624</td>\n",
       "      <td>1.962563</td>\n",
       "      <td>-0.608577</td>\n",
       "      <td>0.509928</td>\n",
       "      <td>1.113981</td>\n",
       "      <td>2.897849</td>\n",
       "      <td>0.127434</td>\n",
       "      <td>0.265245</td>\n",
       "      <td>0.800049</td>\n",
       "      <td>-0.163298</td>\n",
       "      <td>0.123205</td>\n",
       "      <td>-0.569159</td>\n",
       "      <td>0.546668</td>\n",
       "      <td>0.108821</td>\n",
       "      <td>0.104533</td>\n",
       "      <td>10.00</td>\n",
       "      <td>0</td>\n",
       "    </tr>\n",
       "    <tr>\n",
       "      <th>284806</th>\n",
       "      <td>172792.0</td>\n",
       "      <td>-0.533413</td>\n",
       "      <td>-0.189733</td>\n",
       "      <td>0.703337</td>\n",
       "      <td>-0.506271</td>\n",
       "      <td>-0.012546</td>\n",
       "      <td>-0.649617</td>\n",
       "      <td>1.577006</td>\n",
       "      <td>-0.414650</td>\n",
       "      <td>0.486180</td>\n",
       "      <td>-0.915427</td>\n",
       "      <td>-1.040458</td>\n",
       "      <td>-0.031513</td>\n",
       "      <td>-0.188093</td>\n",
       "      <td>-0.084316</td>\n",
       "      <td>0.041333</td>\n",
       "      <td>-0.302620</td>\n",
       "      <td>-0.660377</td>\n",
       "      <td>0.167430</td>\n",
       "      <td>-0.256117</td>\n",
       "      <td>0.382948</td>\n",
       "      <td>0.261057</td>\n",
       "      <td>0.643078</td>\n",
       "      <td>0.376777</td>\n",
       "      <td>0.008797</td>\n",
       "      <td>-0.473649</td>\n",
       "      <td>-0.818267</td>\n",
       "      <td>-0.002415</td>\n",
       "      <td>0.013649</td>\n",
       "      <td>217.00</td>\n",
       "      <td>0</td>\n",
       "    </tr>\n",
       "  </tbody>\n",
       "</table>\n",
       "</div>"
      ],
      "text/plain": [
       "            Time         V1         V2        V3        V4        V5  \\\n",
       "284802  172786.0 -11.881118  10.071785 -9.834783 -2.066656 -5.364473   \n",
       "284803  172787.0  -0.732789  -0.055080  2.035030 -0.738589  0.868229   \n",
       "284804  172788.0   1.919565  -0.301254 -3.249640 -0.557828  2.630515   \n",
       "284805  172788.0  -0.240440   0.530483  0.702510  0.689799 -0.377961   \n",
       "284806  172792.0  -0.533413  -0.189733  0.703337 -0.506271 -0.012546   \n",
       "\n",
       "              V6        V7        V8        V9       V10       V11       V12  \\\n",
       "284802 -2.606837 -4.918215  7.305334  1.914428  4.356170 -1.593105  2.711941   \n",
       "284803  1.058415  0.024330  0.294869  0.584800 -0.975926 -0.150189  0.915802   \n",
       "284804  3.031260 -0.296827  0.708417  0.432454 -0.484782  0.411614  0.063119   \n",
       "284805  0.623708 -0.686180  0.679145  0.392087 -0.399126 -1.933849 -0.962886   \n",
       "284806 -0.649617  1.577006 -0.414650  0.486180 -0.915427 -1.040458 -0.031513   \n",
       "\n",
       "             V13       V14       V15       V16       V17       V18       V19  \\\n",
       "284802 -0.689256  4.626942 -0.924459  1.107641  1.991691  0.510632 -0.682920   \n",
       "284803  1.214756 -0.675143  1.164931 -0.711757 -0.025693 -1.221179 -1.545556   \n",
       "284804 -0.183699 -0.510602  1.329284  0.140716  0.313502  0.395652 -0.577252   \n",
       "284805 -1.042082  0.449624  1.962563 -0.608577  0.509928  1.113981  2.897849   \n",
       "284806 -0.188093 -0.084316  0.041333 -0.302620 -0.660377  0.167430 -0.256117   \n",
       "\n",
       "             V20       V21       V22       V23       V24       V25       V26  \\\n",
       "284802  1.475829  0.213454  0.111864  1.014480 -0.509348  1.436807  0.250034   \n",
       "284803  0.059616  0.214205  0.924384  0.012463 -1.016226 -0.606624 -0.395255   \n",
       "284804  0.001396  0.232045  0.578229 -0.037501  0.640134  0.265745 -0.087371   \n",
       "284805  0.127434  0.265245  0.800049 -0.163298  0.123205 -0.569159  0.546668   \n",
       "284806  0.382948  0.261057  0.643078  0.376777  0.008797 -0.473649 -0.818267   \n",
       "\n",
       "             V27       V28  Amount  Class  \n",
       "284802  0.943651  0.823731    0.77      0  \n",
       "284803  0.068472 -0.053527   24.79      0  \n",
       "284804  0.004455 -0.026561   67.88      0  \n",
       "284805  0.108821  0.104533   10.00      0  \n",
       "284806 -0.002415  0.013649  217.00      0  "
      ]
     },
     "execution_count": 7,
     "metadata": {},
     "output_type": "execute_result"
    }
   ],
   "source": [
    "data.tail()"
   ]
  },
  {
   "cell_type": "markdown",
   "id": "f200c303",
   "metadata": {
    "papermill": {
     "duration": 0.02369,
     "end_time": "2022-10-07T09:59:08.595551",
     "exception": false,
     "start_time": "2022-10-07T09:59:08.571861",
     "status": "completed"
    },
    "tags": []
   },
   "source": [
    "# 3. Find Shape of Our Dataset (Number of Rows And Number of Columns)"
   ]
  },
  {
   "cell_type": "code",
   "execution_count": 8,
   "id": "0a85bd55",
   "metadata": {
    "execution": {
     "iopub.execute_input": "2022-10-07T09:59:08.645051Z",
     "iopub.status.busy": "2022-10-07T09:59:08.643955Z",
     "iopub.status.idle": "2022-10-07T09:59:08.651223Z",
     "shell.execute_reply": "2022-10-07T09:59:08.650175Z"
    },
    "papermill": {
     "duration": 0.034194,
     "end_time": "2022-10-07T09:59:08.653391",
     "exception": false,
     "start_time": "2022-10-07T09:59:08.619197",
     "status": "completed"
    },
    "tags": []
   },
   "outputs": [
    {
     "data": {
      "text/plain": [
       "(284807, 31)"
      ]
     },
     "execution_count": 8,
     "metadata": {},
     "output_type": "execute_result"
    }
   ],
   "source": [
    "data.shape"
   ]
  },
  {
   "cell_type": "code",
   "execution_count": 9,
   "id": "109f25fd",
   "metadata": {
    "execution": {
     "iopub.execute_input": "2022-10-07T09:59:08.702500Z",
     "iopub.status.busy": "2022-10-07T09:59:08.701497Z",
     "iopub.status.idle": "2022-10-07T09:59:08.708496Z",
     "shell.execute_reply": "2022-10-07T09:59:08.706783Z"
    },
    "papermill": {
     "duration": 0.034513,
     "end_time": "2022-10-07T09:59:08.711236",
     "exception": false,
     "start_time": "2022-10-07T09:59:08.676723",
     "status": "completed"
    },
    "tags": []
   },
   "outputs": [
    {
     "name": "stdout",
     "output_type": "stream",
     "text": [
      "Number of Rows 284807\n",
      "Number of Columns 31\n"
     ]
    }
   ],
   "source": [
    "print(\"Number of Rows\",data.shape[0])\n",
    "print(\"Number of Columns\",data.shape[1])"
   ]
  },
  {
   "cell_type": "markdown",
   "id": "f278e038",
   "metadata": {
    "papermill": {
     "duration": 0.023373,
     "end_time": "2022-10-07T09:59:08.759119",
     "exception": false,
     "start_time": "2022-10-07T09:59:08.735746",
     "status": "completed"
    },
    "tags": []
   },
   "source": [
    "# 4. Get Information About Our Dataset Like Total Number Rows, Total Number of Columns, Datatypes of Each Column And Memory Requirement"
   ]
  },
  {
   "cell_type": "code",
   "execution_count": 10,
   "id": "16f4d2ec",
   "metadata": {
    "execution": {
     "iopub.execute_input": "2022-10-07T09:59:08.808571Z",
     "iopub.status.busy": "2022-10-07T09:59:08.807862Z",
     "iopub.status.idle": "2022-10-07T09:59:08.858874Z",
     "shell.execute_reply": "2022-10-07T09:59:08.857017Z"
    },
    "papermill": {
     "duration": 0.079033,
     "end_time": "2022-10-07T09:59:08.861781",
     "exception": false,
     "start_time": "2022-10-07T09:59:08.782748",
     "status": "completed"
    },
    "tags": []
   },
   "outputs": [
    {
     "name": "stdout",
     "output_type": "stream",
     "text": [
      "<class 'pandas.core.frame.DataFrame'>\n",
      "RangeIndex: 284807 entries, 0 to 284806\n",
      "Data columns (total 31 columns):\n",
      " #   Column  Non-Null Count   Dtype  \n",
      "---  ------  --------------   -----  \n",
      " 0   Time    284807 non-null  float64\n",
      " 1   V1      284807 non-null  float64\n",
      " 2   V2      284807 non-null  float64\n",
      " 3   V3      284807 non-null  float64\n",
      " 4   V4      284807 non-null  float64\n",
      " 5   V5      284807 non-null  float64\n",
      " 6   V6      284807 non-null  float64\n",
      " 7   V7      284807 non-null  float64\n",
      " 8   V8      284807 non-null  float64\n",
      " 9   V9      284807 non-null  float64\n",
      " 10  V10     284807 non-null  float64\n",
      " 11  V11     284807 non-null  float64\n",
      " 12  V12     284807 non-null  float64\n",
      " 13  V13     284807 non-null  float64\n",
      " 14  V14     284807 non-null  float64\n",
      " 15  V15     284807 non-null  float64\n",
      " 16  V16     284807 non-null  float64\n",
      " 17  V17     284807 non-null  float64\n",
      " 18  V18     284807 non-null  float64\n",
      " 19  V19     284807 non-null  float64\n",
      " 20  V20     284807 non-null  float64\n",
      " 21  V21     284807 non-null  float64\n",
      " 22  V22     284807 non-null  float64\n",
      " 23  V23     284807 non-null  float64\n",
      " 24  V24     284807 non-null  float64\n",
      " 25  V25     284807 non-null  float64\n",
      " 26  V26     284807 non-null  float64\n",
      " 27  V27     284807 non-null  float64\n",
      " 28  V28     284807 non-null  float64\n",
      " 29  Amount  284807 non-null  float64\n",
      " 30  Class   284807 non-null  int64  \n",
      "dtypes: float64(30), int64(1)\n",
      "memory usage: 67.4 MB\n"
     ]
    }
   ],
   "source": [
    "data.info()"
   ]
  },
  {
   "cell_type": "markdown",
   "id": "266b10d5",
   "metadata": {
    "papermill": {
     "duration": 0.023623,
     "end_time": "2022-10-07T09:59:08.909169",
     "exception": false,
     "start_time": "2022-10-07T09:59:08.885546",
     "status": "completed"
    },
    "tags": []
   },
   "source": [
    "# 5. Check Null Values In The Dataset"
   ]
  },
  {
   "cell_type": "code",
   "execution_count": 11,
   "id": "bd38182c",
   "metadata": {
    "execution": {
     "iopub.execute_input": "2022-10-07T09:59:08.958476Z",
     "iopub.status.busy": "2022-10-07T09:59:08.958085Z",
     "iopub.status.idle": "2022-10-07T09:59:08.986354Z",
     "shell.execute_reply": "2022-10-07T09:59:08.985201Z"
    },
    "papermill": {
     "duration": 0.055832,
     "end_time": "2022-10-07T09:59:08.988783",
     "exception": false,
     "start_time": "2022-10-07T09:59:08.932951",
     "status": "completed"
    },
    "tags": []
   },
   "outputs": [
    {
     "data": {
      "text/plain": [
       "Time      0\n",
       "V1        0\n",
       "V2        0\n",
       "V3        0\n",
       "V4        0\n",
       "V5        0\n",
       "V6        0\n",
       "V7        0\n",
       "V8        0\n",
       "V9        0\n",
       "V10       0\n",
       "V11       0\n",
       "V12       0\n",
       "V13       0\n",
       "V14       0\n",
       "V15       0\n",
       "V16       0\n",
       "V17       0\n",
       "V18       0\n",
       "V19       0\n",
       "V20       0\n",
       "V21       0\n",
       "V22       0\n",
       "V23       0\n",
       "V24       0\n",
       "V25       0\n",
       "V26       0\n",
       "V27       0\n",
       "V28       0\n",
       "Amount    0\n",
       "Class     0\n",
       "dtype: int64"
      ]
     },
     "execution_count": 11,
     "metadata": {},
     "output_type": "execute_result"
    }
   ],
   "source": [
    "data.isnull().sum()"
   ]
  },
  {
   "cell_type": "markdown",
   "id": "ae6a84df",
   "metadata": {
    "papermill": {
     "duration": 0.023782,
     "end_time": "2022-10-07T09:59:09.036389",
     "exception": false,
     "start_time": "2022-10-07T09:59:09.012607",
     "status": "completed"
    },
    "tags": []
   },
   "source": [
    "# Feature Scaling"
   ]
  },
  {
   "cell_type": "code",
   "execution_count": 12,
   "id": "82f331d6",
   "metadata": {
    "execution": {
     "iopub.execute_input": "2022-10-07T09:59:09.087160Z",
     "iopub.status.busy": "2022-10-07T09:59:09.086396Z",
     "iopub.status.idle": "2022-10-07T09:59:10.087891Z",
     "shell.execute_reply": "2022-10-07T09:59:10.086481Z"
    },
    "papermill": {
     "duration": 1.030284,
     "end_time": "2022-10-07T09:59:10.091228",
     "exception": false,
     "start_time": "2022-10-07T09:59:09.060944",
     "status": "completed"
    },
    "tags": []
   },
   "outputs": [],
   "source": [
    "from sklearn.preprocessing import StandardScaler"
   ]
  },
  {
   "cell_type": "code",
   "execution_count": 13,
   "id": "8021aee7",
   "metadata": {
    "execution": {
     "iopub.execute_input": "2022-10-07T09:59:10.140566Z",
     "iopub.status.busy": "2022-10-07T09:59:10.140104Z",
     "iopub.status.idle": "2022-10-07T09:59:10.153256Z",
     "shell.execute_reply": "2022-10-07T09:59:10.152338Z"
    },
    "papermill": {
     "duration": 0.040494,
     "end_time": "2022-10-07T09:59:10.155637",
     "exception": false,
     "start_time": "2022-10-07T09:59:10.115143",
     "status": "completed"
    },
    "tags": []
   },
   "outputs": [],
   "source": [
    "sc = StandardScaler()\n",
    "data['Amount']=sc.fit_transform(pd.DataFrame(data['Amount']))"
   ]
  },
  {
   "cell_type": "code",
   "execution_count": 14,
   "id": "15531fb9",
   "metadata": {
    "execution": {
     "iopub.execute_input": "2022-10-07T09:59:10.206053Z",
     "iopub.status.busy": "2022-10-07T09:59:10.204912Z",
     "iopub.status.idle": "2022-10-07T09:59:10.236963Z",
     "shell.execute_reply": "2022-10-07T09:59:10.235847Z"
    },
    "papermill": {
     "duration": 0.059938,
     "end_time": "2022-10-07T09:59:10.239582",
     "exception": false,
     "start_time": "2022-10-07T09:59:10.179644",
     "status": "completed"
    },
    "tags": []
   },
   "outputs": [
    {
     "data": {
      "text/html": [
       "<div>\n",
       "<style scoped>\n",
       "    .dataframe tbody tr th:only-of-type {\n",
       "        vertical-align: middle;\n",
       "    }\n",
       "\n",
       "    .dataframe tbody tr th {\n",
       "        vertical-align: top;\n",
       "    }\n",
       "\n",
       "    .dataframe thead th {\n",
       "        text-align: right;\n",
       "    }\n",
       "</style>\n",
       "<table border=\"1\" class=\"dataframe\">\n",
       "  <thead>\n",
       "    <tr style=\"text-align: right;\">\n",
       "      <th></th>\n",
       "      <th>Time</th>\n",
       "      <th>V1</th>\n",
       "      <th>V2</th>\n",
       "      <th>V3</th>\n",
       "      <th>V4</th>\n",
       "      <th>V5</th>\n",
       "      <th>V6</th>\n",
       "      <th>V7</th>\n",
       "      <th>V8</th>\n",
       "      <th>V9</th>\n",
       "      <th>V10</th>\n",
       "      <th>V11</th>\n",
       "      <th>V12</th>\n",
       "      <th>V13</th>\n",
       "      <th>V14</th>\n",
       "      <th>V15</th>\n",
       "      <th>V16</th>\n",
       "      <th>V17</th>\n",
       "      <th>V18</th>\n",
       "      <th>V19</th>\n",
       "      <th>V20</th>\n",
       "      <th>V21</th>\n",
       "      <th>V22</th>\n",
       "      <th>V23</th>\n",
       "      <th>V24</th>\n",
       "      <th>V25</th>\n",
       "      <th>V26</th>\n",
       "      <th>V27</th>\n",
       "      <th>V28</th>\n",
       "      <th>Amount</th>\n",
       "      <th>Class</th>\n",
       "    </tr>\n",
       "  </thead>\n",
       "  <tbody>\n",
       "    <tr>\n",
       "      <th>0</th>\n",
       "      <td>0.0</td>\n",
       "      <td>-1.359807</td>\n",
       "      <td>-0.072781</td>\n",
       "      <td>2.536347</td>\n",
       "      <td>1.378155</td>\n",
       "      <td>-0.338321</td>\n",
       "      <td>0.462388</td>\n",
       "      <td>0.239599</td>\n",
       "      <td>0.098698</td>\n",
       "      <td>0.363787</td>\n",
       "      <td>0.090794</td>\n",
       "      <td>-0.551600</td>\n",
       "      <td>-0.617801</td>\n",
       "      <td>-0.991390</td>\n",
       "      <td>-0.311169</td>\n",
       "      <td>1.468177</td>\n",
       "      <td>-0.470401</td>\n",
       "      <td>0.207971</td>\n",
       "      <td>0.025791</td>\n",
       "      <td>0.403993</td>\n",
       "      <td>0.251412</td>\n",
       "      <td>-0.018307</td>\n",
       "      <td>0.277838</td>\n",
       "      <td>-0.110474</td>\n",
       "      <td>0.066928</td>\n",
       "      <td>0.128539</td>\n",
       "      <td>-0.189115</td>\n",
       "      <td>0.133558</td>\n",
       "      <td>-0.021053</td>\n",
       "      <td>0.244964</td>\n",
       "      <td>0</td>\n",
       "    </tr>\n",
       "    <tr>\n",
       "      <th>1</th>\n",
       "      <td>0.0</td>\n",
       "      <td>1.191857</td>\n",
       "      <td>0.266151</td>\n",
       "      <td>0.166480</td>\n",
       "      <td>0.448154</td>\n",
       "      <td>0.060018</td>\n",
       "      <td>-0.082361</td>\n",
       "      <td>-0.078803</td>\n",
       "      <td>0.085102</td>\n",
       "      <td>-0.255425</td>\n",
       "      <td>-0.166974</td>\n",
       "      <td>1.612727</td>\n",
       "      <td>1.065235</td>\n",
       "      <td>0.489095</td>\n",
       "      <td>-0.143772</td>\n",
       "      <td>0.635558</td>\n",
       "      <td>0.463917</td>\n",
       "      <td>-0.114805</td>\n",
       "      <td>-0.183361</td>\n",
       "      <td>-0.145783</td>\n",
       "      <td>-0.069083</td>\n",
       "      <td>-0.225775</td>\n",
       "      <td>-0.638672</td>\n",
       "      <td>0.101288</td>\n",
       "      <td>-0.339846</td>\n",
       "      <td>0.167170</td>\n",
       "      <td>0.125895</td>\n",
       "      <td>-0.008983</td>\n",
       "      <td>0.014724</td>\n",
       "      <td>-0.342475</td>\n",
       "      <td>0</td>\n",
       "    </tr>\n",
       "    <tr>\n",
       "      <th>2</th>\n",
       "      <td>1.0</td>\n",
       "      <td>-1.358354</td>\n",
       "      <td>-1.340163</td>\n",
       "      <td>1.773209</td>\n",
       "      <td>0.379780</td>\n",
       "      <td>-0.503198</td>\n",
       "      <td>1.800499</td>\n",
       "      <td>0.791461</td>\n",
       "      <td>0.247676</td>\n",
       "      <td>-1.514654</td>\n",
       "      <td>0.207643</td>\n",
       "      <td>0.624501</td>\n",
       "      <td>0.066084</td>\n",
       "      <td>0.717293</td>\n",
       "      <td>-0.165946</td>\n",
       "      <td>2.345865</td>\n",
       "      <td>-2.890083</td>\n",
       "      <td>1.109969</td>\n",
       "      <td>-0.121359</td>\n",
       "      <td>-2.261857</td>\n",
       "      <td>0.524980</td>\n",
       "      <td>0.247998</td>\n",
       "      <td>0.771679</td>\n",
       "      <td>0.909412</td>\n",
       "      <td>-0.689281</td>\n",
       "      <td>-0.327642</td>\n",
       "      <td>-0.139097</td>\n",
       "      <td>-0.055353</td>\n",
       "      <td>-0.059752</td>\n",
       "      <td>1.160686</td>\n",
       "      <td>0</td>\n",
       "    </tr>\n",
       "    <tr>\n",
       "      <th>3</th>\n",
       "      <td>1.0</td>\n",
       "      <td>-0.966272</td>\n",
       "      <td>-0.185226</td>\n",
       "      <td>1.792993</td>\n",
       "      <td>-0.863291</td>\n",
       "      <td>-0.010309</td>\n",
       "      <td>1.247203</td>\n",
       "      <td>0.237609</td>\n",
       "      <td>0.377436</td>\n",
       "      <td>-1.387024</td>\n",
       "      <td>-0.054952</td>\n",
       "      <td>-0.226487</td>\n",
       "      <td>0.178228</td>\n",
       "      <td>0.507757</td>\n",
       "      <td>-0.287924</td>\n",
       "      <td>-0.631418</td>\n",
       "      <td>-1.059647</td>\n",
       "      <td>-0.684093</td>\n",
       "      <td>1.965775</td>\n",
       "      <td>-1.232622</td>\n",
       "      <td>-0.208038</td>\n",
       "      <td>-0.108300</td>\n",
       "      <td>0.005274</td>\n",
       "      <td>-0.190321</td>\n",
       "      <td>-1.175575</td>\n",
       "      <td>0.647376</td>\n",
       "      <td>-0.221929</td>\n",
       "      <td>0.062723</td>\n",
       "      <td>0.061458</td>\n",
       "      <td>0.140534</td>\n",
       "      <td>0</td>\n",
       "    </tr>\n",
       "    <tr>\n",
       "      <th>4</th>\n",
       "      <td>2.0</td>\n",
       "      <td>-1.158233</td>\n",
       "      <td>0.877737</td>\n",
       "      <td>1.548718</td>\n",
       "      <td>0.403034</td>\n",
       "      <td>-0.407193</td>\n",
       "      <td>0.095921</td>\n",
       "      <td>0.592941</td>\n",
       "      <td>-0.270533</td>\n",
       "      <td>0.817739</td>\n",
       "      <td>0.753074</td>\n",
       "      <td>-0.822843</td>\n",
       "      <td>0.538196</td>\n",
       "      <td>1.345852</td>\n",
       "      <td>-1.119670</td>\n",
       "      <td>0.175121</td>\n",
       "      <td>-0.451449</td>\n",
       "      <td>-0.237033</td>\n",
       "      <td>-0.038195</td>\n",
       "      <td>0.803487</td>\n",
       "      <td>0.408542</td>\n",
       "      <td>-0.009431</td>\n",
       "      <td>0.798278</td>\n",
       "      <td>-0.137458</td>\n",
       "      <td>0.141267</td>\n",
       "      <td>-0.206010</td>\n",
       "      <td>0.502292</td>\n",
       "      <td>0.219422</td>\n",
       "      <td>0.215153</td>\n",
       "      <td>-0.073403</td>\n",
       "      <td>0</td>\n",
       "    </tr>\n",
       "  </tbody>\n",
       "</table>\n",
       "</div>"
      ],
      "text/plain": [
       "   Time        V1        V2        V3        V4        V5        V6        V7  \\\n",
       "0   0.0 -1.359807 -0.072781  2.536347  1.378155 -0.338321  0.462388  0.239599   \n",
       "1   0.0  1.191857  0.266151  0.166480  0.448154  0.060018 -0.082361 -0.078803   \n",
       "2   1.0 -1.358354 -1.340163  1.773209  0.379780 -0.503198  1.800499  0.791461   \n",
       "3   1.0 -0.966272 -0.185226  1.792993 -0.863291 -0.010309  1.247203  0.237609   \n",
       "4   2.0 -1.158233  0.877737  1.548718  0.403034 -0.407193  0.095921  0.592941   \n",
       "\n",
       "         V8        V9       V10       V11       V12       V13       V14  \\\n",
       "0  0.098698  0.363787  0.090794 -0.551600 -0.617801 -0.991390 -0.311169   \n",
       "1  0.085102 -0.255425 -0.166974  1.612727  1.065235  0.489095 -0.143772   \n",
       "2  0.247676 -1.514654  0.207643  0.624501  0.066084  0.717293 -0.165946   \n",
       "3  0.377436 -1.387024 -0.054952 -0.226487  0.178228  0.507757 -0.287924   \n",
       "4 -0.270533  0.817739  0.753074 -0.822843  0.538196  1.345852 -1.119670   \n",
       "\n",
       "        V15       V16       V17       V18       V19       V20       V21  \\\n",
       "0  1.468177 -0.470401  0.207971  0.025791  0.403993  0.251412 -0.018307   \n",
       "1  0.635558  0.463917 -0.114805 -0.183361 -0.145783 -0.069083 -0.225775   \n",
       "2  2.345865 -2.890083  1.109969 -0.121359 -2.261857  0.524980  0.247998   \n",
       "3 -0.631418 -1.059647 -0.684093  1.965775 -1.232622 -0.208038 -0.108300   \n",
       "4  0.175121 -0.451449 -0.237033 -0.038195  0.803487  0.408542 -0.009431   \n",
       "\n",
       "        V22       V23       V24       V25       V26       V27       V28  \\\n",
       "0  0.277838 -0.110474  0.066928  0.128539 -0.189115  0.133558 -0.021053   \n",
       "1 -0.638672  0.101288 -0.339846  0.167170  0.125895 -0.008983  0.014724   \n",
       "2  0.771679  0.909412 -0.689281 -0.327642 -0.139097 -0.055353 -0.059752   \n",
       "3  0.005274 -0.190321 -1.175575  0.647376 -0.221929  0.062723  0.061458   \n",
       "4  0.798278 -0.137458  0.141267 -0.206010  0.502292  0.219422  0.215153   \n",
       "\n",
       "     Amount  Class  \n",
       "0  0.244964      0  \n",
       "1 -0.342475      0  \n",
       "2  1.160686      0  \n",
       "3  0.140534      0  \n",
       "4 -0.073403      0  "
      ]
     },
     "execution_count": 14,
     "metadata": {},
     "output_type": "execute_result"
    }
   ],
   "source": [
    "data.head()"
   ]
  },
  {
   "cell_type": "code",
   "execution_count": 15,
   "id": "af7d0edf",
   "metadata": {
    "execution": {
     "iopub.execute_input": "2022-10-07T09:59:10.290579Z",
     "iopub.status.busy": "2022-10-07T09:59:10.290174Z",
     "iopub.status.idle": "2022-10-07T09:59:10.328204Z",
     "shell.execute_reply": "2022-10-07T09:59:10.327002Z"
    },
    "papermill": {
     "duration": 0.066587,
     "end_time": "2022-10-07T09:59:10.330999",
     "exception": false,
     "start_time": "2022-10-07T09:59:10.264412",
     "status": "completed"
    },
    "tags": []
   },
   "outputs": [],
   "source": [
    "data = data.drop(['Time'],axis=1)"
   ]
  },
  {
   "cell_type": "code",
   "execution_count": 16,
   "id": "79dd1868",
   "metadata": {
    "execution": {
     "iopub.execute_input": "2022-10-07T09:59:10.381725Z",
     "iopub.status.busy": "2022-10-07T09:59:10.381276Z",
     "iopub.status.idle": "2022-10-07T09:59:10.413457Z",
     "shell.execute_reply": "2022-10-07T09:59:10.412219Z"
    },
    "papermill": {
     "duration": 0.060338,
     "end_time": "2022-10-07T09:59:10.415917",
     "exception": false,
     "start_time": "2022-10-07T09:59:10.355579",
     "status": "completed"
    },
    "tags": []
   },
   "outputs": [
    {
     "data": {
      "text/html": [
       "<div>\n",
       "<style scoped>\n",
       "    .dataframe tbody tr th:only-of-type {\n",
       "        vertical-align: middle;\n",
       "    }\n",
       "\n",
       "    .dataframe tbody tr th {\n",
       "        vertical-align: top;\n",
       "    }\n",
       "\n",
       "    .dataframe thead th {\n",
       "        text-align: right;\n",
       "    }\n",
       "</style>\n",
       "<table border=\"1\" class=\"dataframe\">\n",
       "  <thead>\n",
       "    <tr style=\"text-align: right;\">\n",
       "      <th></th>\n",
       "      <th>V1</th>\n",
       "      <th>V2</th>\n",
       "      <th>V3</th>\n",
       "      <th>V4</th>\n",
       "      <th>V5</th>\n",
       "      <th>V6</th>\n",
       "      <th>V7</th>\n",
       "      <th>V8</th>\n",
       "      <th>V9</th>\n",
       "      <th>V10</th>\n",
       "      <th>V11</th>\n",
       "      <th>V12</th>\n",
       "      <th>V13</th>\n",
       "      <th>V14</th>\n",
       "      <th>V15</th>\n",
       "      <th>V16</th>\n",
       "      <th>V17</th>\n",
       "      <th>V18</th>\n",
       "      <th>V19</th>\n",
       "      <th>V20</th>\n",
       "      <th>V21</th>\n",
       "      <th>V22</th>\n",
       "      <th>V23</th>\n",
       "      <th>V24</th>\n",
       "      <th>V25</th>\n",
       "      <th>V26</th>\n",
       "      <th>V27</th>\n",
       "      <th>V28</th>\n",
       "      <th>Amount</th>\n",
       "      <th>Class</th>\n",
       "    </tr>\n",
       "  </thead>\n",
       "  <tbody>\n",
       "    <tr>\n",
       "      <th>0</th>\n",
       "      <td>-1.359807</td>\n",
       "      <td>-0.072781</td>\n",
       "      <td>2.536347</td>\n",
       "      <td>1.378155</td>\n",
       "      <td>-0.338321</td>\n",
       "      <td>0.462388</td>\n",
       "      <td>0.239599</td>\n",
       "      <td>0.098698</td>\n",
       "      <td>0.363787</td>\n",
       "      <td>0.090794</td>\n",
       "      <td>-0.551600</td>\n",
       "      <td>-0.617801</td>\n",
       "      <td>-0.991390</td>\n",
       "      <td>-0.311169</td>\n",
       "      <td>1.468177</td>\n",
       "      <td>-0.470401</td>\n",
       "      <td>0.207971</td>\n",
       "      <td>0.025791</td>\n",
       "      <td>0.403993</td>\n",
       "      <td>0.251412</td>\n",
       "      <td>-0.018307</td>\n",
       "      <td>0.277838</td>\n",
       "      <td>-0.110474</td>\n",
       "      <td>0.066928</td>\n",
       "      <td>0.128539</td>\n",
       "      <td>-0.189115</td>\n",
       "      <td>0.133558</td>\n",
       "      <td>-0.021053</td>\n",
       "      <td>0.244964</td>\n",
       "      <td>0</td>\n",
       "    </tr>\n",
       "    <tr>\n",
       "      <th>1</th>\n",
       "      <td>1.191857</td>\n",
       "      <td>0.266151</td>\n",
       "      <td>0.166480</td>\n",
       "      <td>0.448154</td>\n",
       "      <td>0.060018</td>\n",
       "      <td>-0.082361</td>\n",
       "      <td>-0.078803</td>\n",
       "      <td>0.085102</td>\n",
       "      <td>-0.255425</td>\n",
       "      <td>-0.166974</td>\n",
       "      <td>1.612727</td>\n",
       "      <td>1.065235</td>\n",
       "      <td>0.489095</td>\n",
       "      <td>-0.143772</td>\n",
       "      <td>0.635558</td>\n",
       "      <td>0.463917</td>\n",
       "      <td>-0.114805</td>\n",
       "      <td>-0.183361</td>\n",
       "      <td>-0.145783</td>\n",
       "      <td>-0.069083</td>\n",
       "      <td>-0.225775</td>\n",
       "      <td>-0.638672</td>\n",
       "      <td>0.101288</td>\n",
       "      <td>-0.339846</td>\n",
       "      <td>0.167170</td>\n",
       "      <td>0.125895</td>\n",
       "      <td>-0.008983</td>\n",
       "      <td>0.014724</td>\n",
       "      <td>-0.342475</td>\n",
       "      <td>0</td>\n",
       "    </tr>\n",
       "    <tr>\n",
       "      <th>2</th>\n",
       "      <td>-1.358354</td>\n",
       "      <td>-1.340163</td>\n",
       "      <td>1.773209</td>\n",
       "      <td>0.379780</td>\n",
       "      <td>-0.503198</td>\n",
       "      <td>1.800499</td>\n",
       "      <td>0.791461</td>\n",
       "      <td>0.247676</td>\n",
       "      <td>-1.514654</td>\n",
       "      <td>0.207643</td>\n",
       "      <td>0.624501</td>\n",
       "      <td>0.066084</td>\n",
       "      <td>0.717293</td>\n",
       "      <td>-0.165946</td>\n",
       "      <td>2.345865</td>\n",
       "      <td>-2.890083</td>\n",
       "      <td>1.109969</td>\n",
       "      <td>-0.121359</td>\n",
       "      <td>-2.261857</td>\n",
       "      <td>0.524980</td>\n",
       "      <td>0.247998</td>\n",
       "      <td>0.771679</td>\n",
       "      <td>0.909412</td>\n",
       "      <td>-0.689281</td>\n",
       "      <td>-0.327642</td>\n",
       "      <td>-0.139097</td>\n",
       "      <td>-0.055353</td>\n",
       "      <td>-0.059752</td>\n",
       "      <td>1.160686</td>\n",
       "      <td>0</td>\n",
       "    </tr>\n",
       "    <tr>\n",
       "      <th>3</th>\n",
       "      <td>-0.966272</td>\n",
       "      <td>-0.185226</td>\n",
       "      <td>1.792993</td>\n",
       "      <td>-0.863291</td>\n",
       "      <td>-0.010309</td>\n",
       "      <td>1.247203</td>\n",
       "      <td>0.237609</td>\n",
       "      <td>0.377436</td>\n",
       "      <td>-1.387024</td>\n",
       "      <td>-0.054952</td>\n",
       "      <td>-0.226487</td>\n",
       "      <td>0.178228</td>\n",
       "      <td>0.507757</td>\n",
       "      <td>-0.287924</td>\n",
       "      <td>-0.631418</td>\n",
       "      <td>-1.059647</td>\n",
       "      <td>-0.684093</td>\n",
       "      <td>1.965775</td>\n",
       "      <td>-1.232622</td>\n",
       "      <td>-0.208038</td>\n",
       "      <td>-0.108300</td>\n",
       "      <td>0.005274</td>\n",
       "      <td>-0.190321</td>\n",
       "      <td>-1.175575</td>\n",
       "      <td>0.647376</td>\n",
       "      <td>-0.221929</td>\n",
       "      <td>0.062723</td>\n",
       "      <td>0.061458</td>\n",
       "      <td>0.140534</td>\n",
       "      <td>0</td>\n",
       "    </tr>\n",
       "    <tr>\n",
       "      <th>4</th>\n",
       "      <td>-1.158233</td>\n",
       "      <td>0.877737</td>\n",
       "      <td>1.548718</td>\n",
       "      <td>0.403034</td>\n",
       "      <td>-0.407193</td>\n",
       "      <td>0.095921</td>\n",
       "      <td>0.592941</td>\n",
       "      <td>-0.270533</td>\n",
       "      <td>0.817739</td>\n",
       "      <td>0.753074</td>\n",
       "      <td>-0.822843</td>\n",
       "      <td>0.538196</td>\n",
       "      <td>1.345852</td>\n",
       "      <td>-1.119670</td>\n",
       "      <td>0.175121</td>\n",
       "      <td>-0.451449</td>\n",
       "      <td>-0.237033</td>\n",
       "      <td>-0.038195</td>\n",
       "      <td>0.803487</td>\n",
       "      <td>0.408542</td>\n",
       "      <td>-0.009431</td>\n",
       "      <td>0.798278</td>\n",
       "      <td>-0.137458</td>\n",
       "      <td>0.141267</td>\n",
       "      <td>-0.206010</td>\n",
       "      <td>0.502292</td>\n",
       "      <td>0.219422</td>\n",
       "      <td>0.215153</td>\n",
       "      <td>-0.073403</td>\n",
       "      <td>0</td>\n",
       "    </tr>\n",
       "  </tbody>\n",
       "</table>\n",
       "</div>"
      ],
      "text/plain": [
       "         V1        V2        V3        V4        V5        V6        V7  \\\n",
       "0 -1.359807 -0.072781  2.536347  1.378155 -0.338321  0.462388  0.239599   \n",
       "1  1.191857  0.266151  0.166480  0.448154  0.060018 -0.082361 -0.078803   \n",
       "2 -1.358354 -1.340163  1.773209  0.379780 -0.503198  1.800499  0.791461   \n",
       "3 -0.966272 -0.185226  1.792993 -0.863291 -0.010309  1.247203  0.237609   \n",
       "4 -1.158233  0.877737  1.548718  0.403034 -0.407193  0.095921  0.592941   \n",
       "\n",
       "         V8        V9       V10       V11       V12       V13       V14  \\\n",
       "0  0.098698  0.363787  0.090794 -0.551600 -0.617801 -0.991390 -0.311169   \n",
       "1  0.085102 -0.255425 -0.166974  1.612727  1.065235  0.489095 -0.143772   \n",
       "2  0.247676 -1.514654  0.207643  0.624501  0.066084  0.717293 -0.165946   \n",
       "3  0.377436 -1.387024 -0.054952 -0.226487  0.178228  0.507757 -0.287924   \n",
       "4 -0.270533  0.817739  0.753074 -0.822843  0.538196  1.345852 -1.119670   \n",
       "\n",
       "        V15       V16       V17       V18       V19       V20       V21  \\\n",
       "0  1.468177 -0.470401  0.207971  0.025791  0.403993  0.251412 -0.018307   \n",
       "1  0.635558  0.463917 -0.114805 -0.183361 -0.145783 -0.069083 -0.225775   \n",
       "2  2.345865 -2.890083  1.109969 -0.121359 -2.261857  0.524980  0.247998   \n",
       "3 -0.631418 -1.059647 -0.684093  1.965775 -1.232622 -0.208038 -0.108300   \n",
       "4  0.175121 -0.451449 -0.237033 -0.038195  0.803487  0.408542 -0.009431   \n",
       "\n",
       "        V22       V23       V24       V25       V26       V27       V28  \\\n",
       "0  0.277838 -0.110474  0.066928  0.128539 -0.189115  0.133558 -0.021053   \n",
       "1 -0.638672  0.101288 -0.339846  0.167170  0.125895 -0.008983  0.014724   \n",
       "2  0.771679  0.909412 -0.689281 -0.327642 -0.139097 -0.055353 -0.059752   \n",
       "3  0.005274 -0.190321 -1.175575  0.647376 -0.221929  0.062723  0.061458   \n",
       "4  0.798278 -0.137458  0.141267 -0.206010  0.502292  0.219422  0.215153   \n",
       "\n",
       "     Amount  Class  \n",
       "0  0.244964      0  \n",
       "1 -0.342475      0  \n",
       "2  1.160686      0  \n",
       "3  0.140534      0  \n",
       "4 -0.073403      0  "
      ]
     },
     "execution_count": 16,
     "metadata": {},
     "output_type": "execute_result"
    }
   ],
   "source": [
    "data.head()"
   ]
  },
  {
   "cell_type": "code",
   "execution_count": 17,
   "id": "310ec916",
   "metadata": {
    "execution": {
     "iopub.execute_input": "2022-10-07T09:59:10.469724Z",
     "iopub.status.busy": "2022-10-07T09:59:10.468639Z",
     "iopub.status.idle": "2022-10-07T09:59:10.475845Z",
     "shell.execute_reply": "2022-10-07T09:59:10.474987Z"
    },
    "papermill": {
     "duration": 0.036135,
     "end_time": "2022-10-07T09:59:10.477932",
     "exception": false,
     "start_time": "2022-10-07T09:59:10.441797",
     "status": "completed"
    },
    "tags": []
   },
   "outputs": [
    {
     "data": {
      "text/plain": [
       "(284807, 30)"
      ]
     },
     "execution_count": 17,
     "metadata": {},
     "output_type": "execute_result"
    }
   ],
   "source": [
    "data.shape"
   ]
  },
  {
   "cell_type": "code",
   "execution_count": 18,
   "id": "4310f024",
   "metadata": {
    "execution": {
     "iopub.execute_input": "2022-10-07T09:59:10.529622Z",
     "iopub.status.busy": "2022-10-07T09:59:10.528989Z",
     "iopub.status.idle": "2022-10-07T09:59:11.533691Z",
     "shell.execute_reply": "2022-10-07T09:59:11.532404Z"
    },
    "papermill": {
     "duration": 1.033495,
     "end_time": "2022-10-07T09:59:11.536276",
     "exception": false,
     "start_time": "2022-10-07T09:59:10.502781",
     "status": "completed"
    },
    "tags": []
   },
   "outputs": [
    {
     "data": {
      "text/plain": [
       "True"
      ]
     },
     "execution_count": 18,
     "metadata": {},
     "output_type": "execute_result"
    }
   ],
   "source": [
    "data.duplicated().any()"
   ]
  },
  {
   "cell_type": "markdown",
   "id": "91c23081",
   "metadata": {
    "papermill": {
     "duration": 0.0248,
     "end_time": "2022-10-07T09:59:11.586417",
     "exception": false,
     "start_time": "2022-10-07T09:59:11.561617",
     "status": "completed"
    },
    "tags": []
   },
   "source": [
    "# Let's Remove Duplicated Values"
   ]
  },
  {
   "cell_type": "code",
   "execution_count": 19,
   "id": "1c5879ff",
   "metadata": {
    "execution": {
     "iopub.execute_input": "2022-10-07T09:59:11.638563Z",
     "iopub.status.busy": "2022-10-07T09:59:11.638103Z",
     "iopub.status.idle": "2022-10-07T09:59:12.731803Z",
     "shell.execute_reply": "2022-10-07T09:59:12.730663Z"
    },
    "papermill": {
     "duration": 1.12272,
     "end_time": "2022-10-07T09:59:12.734348",
     "exception": false,
     "start_time": "2022-10-07T09:59:11.611628",
     "status": "completed"
    },
    "tags": []
   },
   "outputs": [],
   "source": [
    "data = data.drop_duplicates()"
   ]
  },
  {
   "cell_type": "code",
   "execution_count": 20,
   "id": "ad911036",
   "metadata": {
    "execution": {
     "iopub.execute_input": "2022-10-07T09:59:12.786318Z",
     "iopub.status.busy": "2022-10-07T09:59:12.785875Z",
     "iopub.status.idle": "2022-10-07T09:59:12.792911Z",
     "shell.execute_reply": "2022-10-07T09:59:12.791815Z"
    },
    "papermill": {
     "duration": 0.035635,
     "end_time": "2022-10-07T09:59:12.794955",
     "exception": false,
     "start_time": "2022-10-07T09:59:12.759320",
     "status": "completed"
    },
    "tags": []
   },
   "outputs": [
    {
     "data": {
      "text/plain": [
       "(275663, 30)"
      ]
     },
     "execution_count": 20,
     "metadata": {},
     "output_type": "execute_result"
    }
   ],
   "source": [
    "data.shape"
   ]
  },
  {
   "cell_type": "code",
   "execution_count": 21,
   "id": "689d7bfb",
   "metadata": {
    "execution": {
     "iopub.execute_input": "2022-10-07T09:59:12.846915Z",
     "iopub.status.busy": "2022-10-07T09:59:12.846095Z",
     "iopub.status.idle": "2022-10-07T09:59:12.852748Z",
     "shell.execute_reply": "2022-10-07T09:59:12.851825Z"
    },
    "papermill": {
     "duration": 0.034958,
     "end_time": "2022-10-07T09:59:12.854849",
     "exception": false,
     "start_time": "2022-10-07T09:59:12.819891",
     "status": "completed"
    },
    "tags": []
   },
   "outputs": [
    {
     "data": {
      "text/plain": [
       "9144"
      ]
     },
     "execution_count": 21,
     "metadata": {},
     "output_type": "execute_result"
    }
   ],
   "source": [
    "284807- 275663"
   ]
  },
  {
   "cell_type": "markdown",
   "id": "81986dd2",
   "metadata": {
    "papermill": {
     "duration": 0.025338,
     "end_time": "2022-10-07T09:59:12.905260",
     "exception": false,
     "start_time": "2022-10-07T09:59:12.879922",
     "status": "completed"
    },
    "tags": []
   },
   "source": [
    "# 6. Not Handling Imbalanced"
   ]
  },
  {
   "cell_type": "code",
   "execution_count": 22,
   "id": "617c774d",
   "metadata": {
    "execution": {
     "iopub.execute_input": "2022-10-07T09:59:12.959585Z",
     "iopub.status.busy": "2022-10-07T09:59:12.959166Z",
     "iopub.status.idle": "2022-10-07T09:59:12.970778Z",
     "shell.execute_reply": "2022-10-07T09:59:12.969455Z"
    },
    "papermill": {
     "duration": 0.042718,
     "end_time": "2022-10-07T09:59:12.973134",
     "exception": false,
     "start_time": "2022-10-07T09:59:12.930416",
     "status": "completed"
    },
    "tags": []
   },
   "outputs": [
    {
     "data": {
      "text/plain": [
       "Class\n",
       "0    275190\n",
       "1       473\n",
       "Name: count, dtype: int64"
      ]
     },
     "execution_count": 22,
     "metadata": {},
     "output_type": "execute_result"
    }
   ],
   "source": [
    "data['Class'].value_counts()"
   ]
  },
  {
   "cell_type": "code",
   "execution_count": 23,
   "id": "5baf3a44",
   "metadata": {
    "execution": {
     "iopub.execute_input": "2022-10-07T09:59:13.027786Z",
     "iopub.status.busy": "2022-10-07T09:59:13.025501Z",
     "iopub.status.idle": "2022-10-07T09:59:13.206723Z",
     "shell.execute_reply": "2022-10-07T09:59:13.205287Z"
    },
    "papermill": {
     "duration": 0.210874,
     "end_time": "2022-10-07T09:59:13.209498",
     "exception": false,
     "start_time": "2022-10-07T09:59:12.998624",
     "status": "completed"
    },
    "tags": []
   },
   "outputs": [],
   "source": [
    "import seaborn as sns"
   ]
  },
  {
   "cell_type": "code",
   "execution_count": 24,
   "id": "9c12368f",
   "metadata": {
    "execution": {
     "iopub.execute_input": "2022-10-07T09:59:13.263361Z",
     "iopub.status.busy": "2022-10-07T09:59:13.262660Z",
     "iopub.status.idle": "2022-10-07T09:59:13.458716Z",
     "shell.execute_reply": "2022-10-07T09:59:13.457422Z"
    },
    "papermill": {
     "duration": 0.225889,
     "end_time": "2022-10-07T09:59:13.461331",
     "exception": false,
     "start_time": "2022-10-07T09:59:13.235442",
     "status": "completed"
    },
    "tags": []
   },
   "outputs": [
    {
     "data": {
      "text/plain": [
       "<Axes: ylabel='count'>"
      ]
     },
     "execution_count": 24,
     "metadata": {},
     "output_type": "execute_result"
    },
    {
     "data": {
      "image/png": "[encoded data removed]",
      "text/plain": [
       "<Figure size 640x480 with 1 Axes>"
      ]
     },
     "metadata": {},
     "output_type": "display_data"
    }
   ],
   "source": [
    "sns.countplot(data['Class'])"
   ]
  },
  {
   "cell_type": "markdown",
   "id": "dc4e2fa9",
   "metadata": {
    "papermill": {
     "duration": 0.025916,
     "end_time": "2022-10-07T09:59:13.513634",
     "exception": false,
     "start_time": "2022-10-07T09:59:13.487718",
     "status": "completed"
    },
    "tags": []
   },
   "source": [
    "# 7. Store Feature Matrix In X And Response (Target) In Vector y"
   ]
  },
  {
   "cell_type": "code",
   "execution_count": 25,
   "id": "d805d347",
   "metadata": {
    "execution": {
     "iopub.execute_input": "2022-10-07T09:59:13.567319Z",
     "iopub.status.busy": "2022-10-07T09:59:13.566508Z",
     "iopub.status.idle": "2022-10-07T09:59:13.601529Z",
     "shell.execute_reply": "2022-10-07T09:59:13.600617Z"
    },
    "papermill": {
     "duration": 0.064826,
     "end_time": "2022-10-07T09:59:13.604092",
     "exception": false,
     "start_time": "2022-10-07T09:59:13.539266",
     "status": "completed"
    },
    "tags": []
   },
   "outputs": [],
   "source": [
    "X = data.drop('Class',axis=1)\n",
    "y = data['Class']"
   ]
  },
  {
   "cell_type": "markdown",
   "id": "35086618",
   "metadata": {
    "papermill": {
     "duration": 0.025397,
     "end_time": "2022-10-07T09:59:13.654993",
     "exception": false,
     "start_time": "2022-10-07T09:59:13.629596",
     "status": "completed"
    },
    "tags": []
   },
   "source": [
    "# 8. Splitting The Dataset Into The Training Set And Test Set"
   ]
  },
  {
   "cell_type": "code",
   "execution_count": 26,
   "id": "842367de",
   "metadata": {
    "execution": {
     "iopub.execute_input": "2022-10-07T09:59:13.708655Z",
     "iopub.status.busy": "2022-10-07T09:59:13.707864Z",
     "iopub.status.idle": "2022-10-07T09:59:13.863328Z",
     "shell.execute_reply": "2022-10-07T09:59:13.862188Z"
    },
    "papermill": {
     "duration": 0.185679,
     "end_time": "2022-10-07T09:59:13.866156",
     "exception": false,
     "start_time": "2022-10-07T09:59:13.680477",
     "status": "completed"
    },
    "tags": []
   },
   "outputs": [],
   "source": [
    "from sklearn.model_selection import train_test_split\n",
    "X_train,X_test,y_train,y_test = train_test_split(X,y,test_size=0.20,\n",
    "                                                 random_state=42)"
   ]
  },
  {
   "cell_type": "markdown",
   "id": "93fe8791",
   "metadata": {
    "papermill": {
     "duration": 0.025362,
     "end_time": "2022-10-07T09:59:13.917659",
     "exception": false,
     "start_time": "2022-10-07T09:59:13.892297",
     "status": "completed"
    },
    "tags": []
   },
   "source": [
    "# 9. Handling Imbalanced Dataset"
   ]
  },
  {
   "cell_type": "markdown",
   "id": "d855368b",
   "metadata": {
    "papermill": {
     "duration": 0.025731,
     "end_time": "2022-10-07T09:59:13.969120",
     "exception": false,
     "start_time": "2022-10-07T09:59:13.943389",
     "status": "completed"
    },
    "tags": []
   },
   "source": [
    "# Undersampling"
   ]
  },
  {
   "cell_type": "code",
   "execution_count": 27,
   "id": "e39ab39e",
   "metadata": {
    "execution": {
     "iopub.execute_input": "2022-10-07T09:59:14.022594Z",
     "iopub.status.busy": "2022-10-07T09:59:14.021546Z",
     "iopub.status.idle": "2022-10-07T09:59:14.083792Z",
     "shell.execute_reply": "2022-10-07T09:59:14.082523Z"
    },
    "papermill": {
     "duration": 0.092092,
     "end_time": "2022-10-07T09:59:14.086782",
     "exception": false,
     "start_time": "2022-10-07T09:59:13.994690",
     "status": "completed"
    },
    "tags": []
   },
   "outputs": [],
   "source": [
    "normal = data[data['Class']==0]\n",
    "fraud = data[data['Class']==1]"
   ]
  },
  {
   "cell_type": "code",
   "execution_count": 28,
   "id": "3d446b6b",
   "metadata": {
    "execution": {
     "iopub.execute_input": "2022-10-07T09:59:14.141227Z",
     "iopub.status.busy": "2022-10-07T09:59:14.139797Z",
     "iopub.status.idle": "2022-10-07T09:59:14.146751Z",
     "shell.execute_reply": "2022-10-07T09:59:14.145600Z"
    },
    "papermill": {
     "duration": 0.035747,
     "end_time": "2022-10-07T09:59:14.148894",
     "exception": false,
     "start_time": "2022-10-07T09:59:14.113147",
     "status": "completed"
    },
    "tags": []
   },
   "outputs": [
    {
     "data": {
      "text/plain": [
       "(275190, 30)"
      ]
     },
     "execution_count": 28,
     "metadata": {},
     "output_type": "execute_result"
    }
   ],
   "source": [
    "normal.shape"
   ]
  },
  {
   "cell_type": "code",
   "execution_count": 29,
   "id": "01eba895",
   "metadata": {
    "execution": {
     "iopub.execute_input": "2022-10-07T09:59:14.202664Z",
     "iopub.status.busy": "2022-10-07T09:59:14.201884Z",
     "iopub.status.idle": "2022-10-07T09:59:14.208103Z",
     "shell.execute_reply": "2022-10-07T09:59:14.207228Z"
    },
    "papermill": {
     "duration": 0.035344,
     "end_time": "2022-10-07T09:59:14.210137",
     "exception": false,
     "start_time": "2022-10-07T09:59:14.174793",
     "status": "completed"
    },
    "tags": []
   },
   "outputs": [
    {
     "data": {
      "text/plain": [
       "(473, 30)"
      ]
     },
     "execution_count": 29,
     "metadata": {},
     "output_type": "execute_result"
    }
   ],
   "source": [
    "fraud.shape"
   ]
  },
  {
   "cell_type": "code",
   "execution_count": 30,
   "id": "68c58fce",
   "metadata": {
    "execution": {
     "iopub.execute_input": "2022-10-07T09:59:14.264583Z",
     "iopub.status.busy": "2022-10-07T09:59:14.263831Z",
     "iopub.status.idle": "2022-10-07T09:59:14.276616Z",
     "shell.execute_reply": "2022-10-07T09:59:14.275556Z"
    },
    "papermill": {
     "duration": 0.04325,
     "end_time": "2022-10-07T09:59:14.279122",
     "exception": false,
     "start_time": "2022-10-07T09:59:14.235872",
     "status": "completed"
    },
    "tags": []
   },
   "outputs": [],
   "source": [
    "normal_sample=normal.sample(n=473)"
   ]
  },
  {
   "cell_type": "code",
   "execution_count": 31,
   "id": "054b2f68",
   "metadata": {
    "execution": {
     "iopub.execute_input": "2022-10-07T09:59:14.332823Z",
     "iopub.status.busy": "2022-10-07T09:59:14.332167Z",
     "iopub.status.idle": "2022-10-07T09:59:14.338352Z",
     "shell.execute_reply": "2022-10-07T09:59:14.337233Z"
    },
    "papermill": {
     "duration": 0.035656,
     "end_time": "2022-10-07T09:59:14.340769",
     "exception": false,
     "start_time": "2022-10-07T09:59:14.305113",
     "status": "completed"
    },
    "tags": []
   },
   "outputs": [
    {
     "data": {
      "text/plain": [
       "(473, 30)"
      ]
     },
     "execution_count": 31,
     "metadata": {},
     "output_type": "execute_result"
    }
   ],
   "source": [
    "normal_sample.shape"
   ]
  },
  {
   "cell_type": "code",
   "execution_count": 32,
   "id": "aa65f5c5",
   "metadata": {
    "execution": {
     "iopub.execute_input": "2022-10-07T09:59:14.394651Z",
     "iopub.status.busy": "2022-10-07T09:59:14.394244Z",
     "iopub.status.idle": "2022-10-07T09:59:14.400475Z",
     "shell.execute_reply": "2022-10-07T09:59:14.399314Z"
    },
    "papermill": {
     "duration": 0.035942,
     "end_time": "2022-10-07T09:59:14.402596",
     "exception": false,
     "start_time": "2022-10-07T09:59:14.366654",
     "status": "completed"
    },
    "tags": []
   },
   "outputs": [],
   "source": [
    "new_data = pd.concat([normal_sample,fraud],ignore_index=True)"
   ]
  },
  {
   "cell_type": "code",
   "execution_count": 33,
   "id": "416bbd89",
   "metadata": {
    "execution": {
     "iopub.execute_input": "2022-10-07T09:59:14.457073Z",
     "iopub.status.busy": "2022-10-07T09:59:14.456357Z",
     "iopub.status.idle": "2022-10-07T09:59:14.464693Z",
     "shell.execute_reply": "2022-10-07T09:59:14.463725Z"
    },
    "papermill": {
     "duration": 0.038291,
     "end_time": "2022-10-07T09:59:14.466866",
     "exception": false,
     "start_time": "2022-10-07T09:59:14.428575",
     "status": "completed"
    },
    "tags": []
   },
   "outputs": [
    {
     "data": {
      "text/plain": [
       "Class\n",
       "0    473\n",
       "1    473\n",
       "Name: count, dtype: int64"
      ]
     },
     "execution_count": 33,
     "metadata": {},
     "output_type": "execute_result"
    }
   ],
   "source": [
    "new_data['Class'].value_counts()"
   ]
  },
  {
   "cell_type": "code",
   "execution_count": 34,
   "id": "da2bd53e",
   "metadata": {
    "execution": {
     "iopub.execute_input": "2022-10-07T09:59:14.519717Z",
     "iopub.status.busy": "2022-10-07T09:59:14.519305Z",
     "iopub.status.idle": "2022-10-07T09:59:14.551493Z",
     "shell.execute_reply": "2022-10-07T09:59:14.550282Z"
    },
    "papermill": {
     "duration": 0.061487,
     "end_time": "2022-10-07T09:59:14.554092",
     "exception": false,
     "start_time": "2022-10-07T09:59:14.492605",
     "status": "completed"
    },
    "tags": []
   },
   "outputs": [
    {
     "data": {
      "text/html": [
       "<div>\n",
       "<style scoped>\n",
       "    .dataframe tbody tr th:only-of-type {\n",
       "        vertical-align: middle;\n",
       "    }\n",
       "\n",
       "    .dataframe tbody tr th {\n",
       "        vertical-align: top;\n",
       "    }\n",
       "\n",
       "    .dataframe thead th {\n",
       "        text-align: right;\n",
       "    }\n",
       "</style>\n",
       "<table border=\"1\" class=\"dataframe\">\n",
       "  <thead>\n",
       "    <tr style=\"text-align: right;\">\n",
       "      <th></th>\n",
       "      <th>V1</th>\n",
       "      <th>V2</th>\n",
       "      <th>V3</th>\n",
       "      <th>V4</th>\n",
       "      <th>V5</th>\n",
       "      <th>V6</th>\n",
       "      <th>V7</th>\n",
       "      <th>V8</th>\n",
       "      <th>V9</th>\n",
       "      <th>V10</th>\n",
       "      <th>V11</th>\n",
       "      <th>V12</th>\n",
       "      <th>V13</th>\n",
       "      <th>V14</th>\n",
       "      <th>V15</th>\n",
       "      <th>V16</th>\n",
       "      <th>V17</th>\n",
       "      <th>V18</th>\n",
       "      <th>V19</th>\n",
       "      <th>V20</th>\n",
       "      <th>V21</th>\n",
       "      <th>V22</th>\n",
       "      <th>V23</th>\n",
       "      <th>V24</th>\n",
       "      <th>V25</th>\n",
       "      <th>V26</th>\n",
       "      <th>V27</th>\n",
       "      <th>V28</th>\n",
       "      <th>Amount</th>\n",
       "      <th>Class</th>\n",
       "    </tr>\n",
       "  </thead>\n",
       "  <tbody>\n",
       "    <tr>\n",
       "      <th>0</th>\n",
       "      <td>-1.213990</td>\n",
       "      <td>0.673301</td>\n",
       "      <td>1.146411</td>\n",
       "      <td>0.005007</td>\n",
       "      <td>1.347501</td>\n",
       "      <td>-1.276989</td>\n",
       "      <td>1.883140</td>\n",
       "      <td>-1.205430</td>\n",
       "      <td>-0.017578</td>\n",
       "      <td>0.637531</td>\n",
       "      <td>-0.193933</td>\n",
       "      <td>0.026658</td>\n",
       "      <td>0.498562</td>\n",
       "      <td>-0.539127</td>\n",
       "      <td>0.082110</td>\n",
       "      <td>-0.353825</td>\n",
       "      <td>-1.001857</td>\n",
       "      <td>-0.483574</td>\n",
       "      <td>-0.746907</td>\n",
       "      <td>-0.306062</td>\n",
       "      <td>-0.048950</td>\n",
       "      <td>0.525822</td>\n",
       "      <td>-0.030602</td>\n",
       "      <td>0.413710</td>\n",
       "      <td>0.086343</td>\n",
       "      <td>-0.650213</td>\n",
       "      <td>-1.019247</td>\n",
       "      <td>-0.390534</td>\n",
       "      <td>-0.350271</td>\n",
       "      <td>0</td>\n",
       "    </tr>\n",
       "    <tr>\n",
       "      <th>1</th>\n",
       "      <td>-3.065822</td>\n",
       "      <td>0.688125</td>\n",
       "      <td>0.950612</td>\n",
       "      <td>0.325237</td>\n",
       "      <td>0.895170</td>\n",
       "      <td>-0.372729</td>\n",
       "      <td>1.628160</td>\n",
       "      <td>-1.563618</td>\n",
       "      <td>1.492193</td>\n",
       "      <td>2.684577</td>\n",
       "      <td>0.322311</td>\n",
       "      <td>-0.274060</td>\n",
       "      <td>0.163518</td>\n",
       "      <td>-1.350295</td>\n",
       "      <td>1.348851</td>\n",
       "      <td>-0.733039</td>\n",
       "      <td>-0.764041</td>\n",
       "      <td>-0.780623</td>\n",
       "      <td>-0.429438</td>\n",
       "      <td>-0.767729</td>\n",
       "      <td>-0.268801</td>\n",
       "      <td>0.597363</td>\n",
       "      <td>0.206369</td>\n",
       "      <td>0.097627</td>\n",
       "      <td>0.242743</td>\n",
       "      <td>-0.576822</td>\n",
       "      <td>-2.277086</td>\n",
       "      <td>-0.108908</td>\n",
       "      <td>-0.298855</td>\n",
       "      <td>0</td>\n",
       "    </tr>\n",
       "    <tr>\n",
       "      <th>2</th>\n",
       "      <td>-0.480953</td>\n",
       "      <td>0.698292</td>\n",
       "      <td>1.753443</td>\n",
       "      <td>3.254043</td>\n",
       "      <td>0.066956</td>\n",
       "      <td>0.466265</td>\n",
       "      <td>-0.019383</td>\n",
       "      <td>0.212123</td>\n",
       "      <td>-0.656805</td>\n",
       "      <td>1.102455</td>\n",
       "      <td>-1.481512</td>\n",
       "      <td>-0.745052</td>\n",
       "      <td>-0.329126</td>\n",
       "      <td>-0.374066</td>\n",
       "      <td>-0.272750</td>\n",
       "      <td>1.307022</td>\n",
       "      <td>-0.973820</td>\n",
       "      <td>0.208288</td>\n",
       "      <td>-1.570136</td>\n",
       "      <td>-0.334415</td>\n",
       "      <td>0.138087</td>\n",
       "      <td>0.426042</td>\n",
       "      <td>0.398033</td>\n",
       "      <td>-0.088563</td>\n",
       "      <td>-1.165903</td>\n",
       "      <td>-0.256661</td>\n",
       "      <td>-0.062344</td>\n",
       "      <td>0.169390</td>\n",
       "      <td>-0.233127</td>\n",
       "      <td>0</td>\n",
       "    </tr>\n",
       "    <tr>\n",
       "      <th>3</th>\n",
       "      <td>1.905946</td>\n",
       "      <td>-0.475914</td>\n",
       "      <td>0.328314</td>\n",
       "      <td>0.473088</td>\n",
       "      <td>-0.980298</td>\n",
       "      <td>-0.104467</td>\n",
       "      <td>-1.075199</td>\n",
       "      <td>0.100213</td>\n",
       "      <td>2.383088</td>\n",
       "      <td>-0.234585</td>\n",
       "      <td>1.917562</td>\n",
       "      <td>-1.355149</td>\n",
       "      <td>1.859909</td>\n",
       "      <td>1.292582</td>\n",
       "      <td>-0.644024</td>\n",
       "      <td>0.739935</td>\n",
       "      <td>-0.071786</td>\n",
       "      <td>0.660921</td>\n",
       "      <td>-0.332137</td>\n",
       "      <td>-0.197316</td>\n",
       "      <td>-0.048065</td>\n",
       "      <td>0.228876</td>\n",
       "      <td>0.329209</td>\n",
       "      <td>-0.012018</td>\n",
       "      <td>-0.676353</td>\n",
       "      <td>0.422109</td>\n",
       "      <td>-0.039793</td>\n",
       "      <td>-0.052576</td>\n",
       "      <td>-0.289460</td>\n",
       "      <td>0</td>\n",
       "    </tr>\n",
       "    <tr>\n",
       "      <th>4</th>\n",
       "      <td>2.264876</td>\n",
       "      <td>-0.722758</td>\n",
       "      <td>-1.611333</td>\n",
       "      <td>-1.049922</td>\n",
       "      <td>-0.262712</td>\n",
       "      <td>-0.860625</td>\n",
       "      <td>-0.410285</td>\n",
       "      <td>-0.286346</td>\n",
       "      <td>-0.437363</td>\n",
       "      <td>0.891980</td>\n",
       "      <td>-1.014488</td>\n",
       "      <td>-1.065479</td>\n",
       "      <td>-0.292880</td>\n",
       "      <td>0.107982</td>\n",
       "      <td>0.454035</td>\n",
       "      <td>1.023914</td>\n",
       "      <td>0.044729</td>\n",
       "      <td>-1.098392</td>\n",
       "      <td>0.556413</td>\n",
       "      <td>-0.038173</td>\n",
       "      <td>0.397813</td>\n",
       "      <td>1.115936</td>\n",
       "      <td>-0.005302</td>\n",
       "      <td>0.517888</td>\n",
       "      <td>0.246363</td>\n",
       "      <td>0.053850</td>\n",
       "      <td>-0.047346</td>\n",
       "      <td>-0.063561</td>\n",
       "      <td>-0.313249</td>\n",
       "      <td>0</td>\n",
       "    </tr>\n",
       "  </tbody>\n",
       "</table>\n",
       "</div>"
      ],
      "text/plain": [
       "         V1        V2        V3        V4        V5        V6        V7  \\\n",
       "0 -1.213990  0.673301  1.146411  0.005007  1.347501 -1.276989  1.883140   \n",
       "1 -3.065822  0.688125  0.950612  0.325237  0.895170 -0.372729  1.628160   \n",
       "2 -0.480953  0.698292  1.753443  3.254043  0.066956  0.466265 -0.019383   \n",
       "3  1.905946 -0.475914  0.328314  0.473088 -0.980298 -0.104467 -1.075199   \n",
       "4  2.264876 -0.722758 -1.611333 -1.049922 -0.262712 -0.860625 -0.410285   \n",
       "\n",
       "         V8        V9       V10       V11       V12       V13       V14  \\\n",
       "0 -1.205430 -0.017578  0.637531 -0.193933  0.026658  0.498562 -0.539127   \n",
       "1 -1.563618  1.492193  2.684577  0.322311 -0.274060  0.163518 -1.350295   \n",
       "2  0.212123 -0.656805  1.102455 -1.481512 -0.745052 -0.329126 -0.374066   \n",
       "3  0.100213  2.383088 -0.234585  1.917562 -1.355149  1.859909  1.292582   \n",
       "4 -0.286346 -0.437363  0.891980 -1.014488 -1.065479 -0.292880  0.107982   \n",
       "\n",
       "        V15       V16       V17       V18       V19       V20       V21  \\\n",
       "0  0.082110 -0.353825 -1.001857 -0.483574 -0.746907 -0.306062 -0.048950   \n",
       "1  1.348851 -0.733039 -0.764041 -0.780623 -0.429438 -0.767729 -0.268801   \n",
       "2 -0.272750  1.307022 -0.973820  0.208288 -1.570136 -0.334415  0.138087   \n",
       "3 -0.644024  0.739935 -0.071786  0.660921 -0.332137 -0.197316 -0.048065   \n",
       "4  0.454035  1.023914  0.044729 -1.098392  0.556413 -0.038173  0.397813   \n",
       "\n",
       "        V22       V23       V24       V25       V26       V27       V28  \\\n",
       "0  0.525822 -0.030602  0.413710  0.086343 -0.650213 -1.019247 -0.390534   \n",
       "1  0.597363  0.206369  0.097627  0.242743 -0.576822 -2.277086 -0.108908   \n",
       "2  0.426042  0.398033 -0.088563 -1.165903 -0.256661 -0.062344  0.169390   \n",
       "3  0.228876  0.329209 -0.012018 -0.676353  0.422109 -0.039793 -0.052576   \n",
       "4  1.115936 -0.005302  0.517888  0.246363  0.053850 -0.047346 -0.063561   \n",
       "\n",
       "     Amount  Class  \n",
       "0 -0.350271      0  \n",
       "1 -0.298855      0  \n",
       "2 -0.233127      0  \n",
       "3 -0.289460      0  \n",
       "4 -0.313249      0  "
      ]
     },
     "execution_count": 34,
     "metadata": {},
     "output_type": "execute_result"
    }
   ],
   "source": [
    "new_data.head()"
   ]
  },
  {
   "cell_type": "code",
   "execution_count": 35,
   "id": "3dbc4194",
   "metadata": {
    "execution": {
     "iopub.execute_input": "2022-10-07T09:59:14.609028Z",
     "iopub.status.busy": "2022-10-07T09:59:14.608258Z",
     "iopub.status.idle": "2022-10-07T09:59:14.614539Z",
     "shell.execute_reply": "2022-10-07T09:59:14.613495Z"
    },
    "papermill": {
     "duration": 0.036409,
     "end_time": "2022-10-07T09:59:14.616835",
     "exception": false,
     "start_time": "2022-10-07T09:59:14.580426",
     "status": "completed"
    },
    "tags": []
   },
   "outputs": [],
   "source": [
    "X = new_data.drop('Class',axis=1)\n",
    "y = new_data['Class']"
   ]
  },
  {
   "cell_type": "code",
   "execution_count": 36,
   "id": "78350bb5",
   "metadata": {
    "execution": {
     "iopub.execute_input": "2022-10-07T09:59:14.671662Z",
     "iopub.status.busy": "2022-10-07T09:59:14.671262Z",
     "iopub.status.idle": "2022-10-07T09:59:14.679717Z",
     "shell.execute_reply": "2022-10-07T09:59:14.678800Z"
    },
    "papermill": {
     "duration": 0.039147,
     "end_time": "2022-10-07T09:59:14.681986",
     "exception": false,
     "start_time": "2022-10-07T09:59:14.642839",
     "status": "completed"
    },
    "tags": []
   },
   "outputs": [],
   "source": [
    "from sklearn.model_selection import train_test_split\n",
    "X_train,X_test,y_train,y_test = train_test_split(X,y,test_size=0.20,\n",
    "                                                 random_state=42)"
   ]
  },
  {
   "cell_type": "markdown",
   "id": "bad60334",
   "metadata": {
    "papermill": {
     "duration": 0.025713,
     "end_time": "2022-10-07T09:59:14.733927",
     "exception": false,
     "start_time": "2022-10-07T09:59:14.708214",
     "status": "completed"
    },
    "tags": []
   },
   "source": [
    "# 10. Logistic Regression"
   ]
  },
  {
   "cell_type": "code",
   "execution_count": 1,
   "id": "33eb6ab5",
   "metadata": {
    "execution": {
     "iopub.execute_input": "2022-10-07T09:59:14.788120Z",
     "iopub.status.busy": "2022-10-07T09:59:14.787670Z",
     "iopub.status.idle": "2022-10-07T09:59:14.897822Z",
     "shell.execute_reply": "2022-10-07T09:59:14.896506Z"
    },
    "papermill": {
     "duration": 0.141129,
     "end_time": "2022-10-07T09:59:14.901126",
     "exception": false,
     "start_time": "2022-10-07T09:59:14.759997",
     "status": "completed"
    },
    "tags": []
   },
   "outputs": [
    {
     "ename": "NameError",
     "evalue": "name 'X_train' is not defined",
     "output_type": "error",
     "traceback": [
      "\u001b[1;31m---------------------------------------------------------------------------\u001b[0m",
      "\u001b[1;31mNameError\u001b[0m                                 Traceback (most recent call last)",
      "Cell \u001b[1;32mIn[1], line 3\u001b[0m\n\u001b[0;32m      1\u001b[0m \u001b[38;5;28;01mfrom\u001b[39;00m \u001b[38;5;21;01msklearn\u001b[39;00m\u001b[38;5;21;01m.\u001b[39;00m\u001b[38;5;21;01mlinear_model\u001b[39;00m \u001b[38;5;28;01mimport\u001b[39;00m LogisticRegression\n\u001b[0;32m      2\u001b[0m log \u001b[38;5;241m=\u001b[39m LogisticRegression()\n\u001b[1;32m----> 3\u001b[0m log\u001b[38;5;241m.\u001b[39mfit(X_train,y_train)\n",
      "\u001b[1;31mNameError\u001b[0m: name 'X_train' is not defined"
     ]
    }
   ],
   "source": [
    "from sklearn.linear_model import LogisticRegression\n",
    "log = LogisticRegression()\n",
    "log.fit(X_train,y_train)"
   ]
  },
  {
   "cell_type": "code",
   "execution_count": 38,
   "id": "1a82f69b",
   "metadata": {
    "execution": {
     "iopub.execute_input": "2022-10-07T09:59:14.993151Z",
     "iopub.status.busy": "2022-10-07T09:59:14.992521Z",
     "iopub.status.idle": "2022-10-07T09:59:15.003154Z",
     "shell.execute_reply": "2022-10-07T09:59:15.001124Z"
    },
    "papermill": {
     "duration": 0.059573,
     "end_time": "2022-10-07T09:59:15.007280",
     "exception": false,
     "start_time": "2022-10-07T09:59:14.947707",
     "status": "completed"
    },
    "tags": []
   },
   "outputs": [],
   "source": [
    "y_pred1 = log.predict(X_test)"
   ]
  },
  {
   "cell_type": "code",
   "execution_count": 39,
   "id": "65a97b19",
   "metadata": {
    "execution": {
     "iopub.execute_input": "2022-10-07T09:59:15.064750Z",
     "iopub.status.busy": "2022-10-07T09:59:15.063515Z",
     "iopub.status.idle": "2022-10-07T09:59:15.069333Z",
     "shell.execute_reply": "2022-10-07T09:59:15.068458Z"
    },
    "papermill": {
     "duration": 0.036131,
     "end_time": "2022-10-07T09:59:15.071668",
     "exception": false,
     "start_time": "2022-10-07T09:59:15.035537",
     "status": "completed"
    },
    "tags": []
   },
   "outputs": [],
   "source": [
    "from sklearn.metrics import accuracy_score"
   ]
  },
  {
   "cell_type": "code",
   "execution_count": 40,
   "id": "aec6b581",
   "metadata": {
    "execution": {
     "iopub.execute_input": "2022-10-07T09:59:15.127319Z",
     "iopub.status.busy": "2022-10-07T09:59:15.126519Z",
     "iopub.status.idle": "2022-10-07T09:59:15.134902Z",
     "shell.execute_reply": "2022-10-07T09:59:15.133451Z"
    },
    "papermill": {
     "duration": 0.039024,
     "end_time": "2022-10-07T09:59:15.137398",
     "exception": false,
     "start_time": "2022-10-07T09:59:15.098374",
     "status": "completed"
    },
    "tags": []
   },
   "outputs": [
    {
     "data": {
      "text/plain": [
       "0.9526315789473684"
      ]
     },
     "execution_count": 40,
     "metadata": {},
     "output_type": "execute_result"
    }
   ],
   "source": [
    "accuracy_score(y_test,y_pred1)"
   ]
  },
  {
   "cell_type": "code",
   "execution_count": 41,
   "id": "8e164f75",
   "metadata": {
    "execution": {
     "iopub.execute_input": "2022-10-07T09:59:15.192045Z",
     "iopub.status.busy": "2022-10-07T09:59:15.190858Z",
     "iopub.status.idle": "2022-10-07T09:59:15.196371Z",
     "shell.execute_reply": "2022-10-07T09:59:15.195469Z"
    },
    "papermill": {
     "duration": 0.035061,
     "end_time": "2022-10-07T09:59:15.198567",
     "exception": false,
     "start_time": "2022-10-07T09:59:15.163506",
     "status": "completed"
    },
    "tags": []
   },
   "outputs": [],
   "source": [
    "from sklearn.metrics import precision_score,recall_score,f1_score"
   ]
  },
  {
   "cell_type": "code",
   "execution_count": 42,
   "id": "d52bb0d1",
   "metadata": {
    "execution": {
     "iopub.execute_input": "2022-10-07T09:59:15.253675Z",
     "iopub.status.busy": "2022-10-07T09:59:15.253019Z",
     "iopub.status.idle": "2022-10-07T09:59:15.261504Z",
     "shell.execute_reply": "2022-10-07T09:59:15.260204Z"
    },
    "papermill": {
     "duration": 0.03848,
     "end_time": "2022-10-07T09:59:15.263802",
     "exception": false,
     "start_time": "2022-10-07T09:59:15.225322",
     "status": "completed"
    },
    "tags": []
   },
   "outputs": [
    {
     "data": {
      "text/plain": [
       "0.979381443298969"
      ]
     },
     "execution_count": 42,
     "metadata": {},
     "output_type": "execute_result"
    }
   ],
   "source": [
    "precision_score(y_test,y_pred1)"
   ]
  },
  {
   "cell_type": "code",
   "execution_count": 43,
   "id": "b1853940",
   "metadata": {
    "execution": {
     "iopub.execute_input": "2022-10-07T09:59:15.318575Z",
     "iopub.status.busy": "2022-10-07T09:59:15.317892Z",
     "iopub.status.idle": "2022-10-07T09:59:15.327224Z",
     "shell.execute_reply": "2022-10-07T09:59:15.326251Z"
    },
    "papermill": {
     "duration": 0.039005,
     "end_time": "2022-10-07T09:59:15.329363",
     "exception": false,
     "start_time": "2022-10-07T09:59:15.290358",
     "status": "completed"
    },
    "tags": []
   },
   "outputs": [
    {
     "data": {
      "text/plain": [
       "0.9313725490196079"
      ]
     },
     "execution_count": 43,
     "metadata": {},
     "output_type": "execute_result"
    }
   ],
   "source": [
    "recall_score(y_test,y_pred1)"
   ]
  },
  {
   "cell_type": "code",
   "execution_count": 44,
   "id": "ad629770",
   "metadata": {
    "execution": {
     "iopub.execute_input": "2022-10-07T09:59:15.384523Z",
     "iopub.status.busy": "2022-10-07T09:59:15.383847Z",
     "iopub.status.idle": "2022-10-07T09:59:15.392274Z",
     "shell.execute_reply": "2022-10-07T09:59:15.391115Z"
    },
    "papermill": {
     "duration": 0.038671,
     "end_time": "2022-10-07T09:59:15.394490",
     "exception": false,
     "start_time": "2022-10-07T09:59:15.355819",
     "status": "completed"
    },
    "tags": []
   },
   "outputs": [
    {
     "data": {
      "text/plain": [
       "0.9547738693467337"
      ]
     },
     "execution_count": 44,
     "metadata": {},
     "output_type": "execute_result"
    }
   ],
   "source": [
    "f1_score(y_test,y_pred1)"
   ]
  },
  {
   "cell_type": "markdown",
   "id": "2184c452",
   "metadata": {
    "papermill": {
     "duration": 0.02602,
     "end_time": "2022-10-07T09:59:15.447137",
     "exception": false,
     "start_time": "2022-10-07T09:59:15.421117",
     "status": "completed"
    },
    "tags": []
   },
   "source": [
    "# 11. Decision Tree Classifier"
   ]
  },
  {
   "cell_type": "code",
   "execution_count": 45,
   "id": "db82e8c7",
   "metadata": {
    "execution": {
     "iopub.execute_input": "2022-10-07T09:59:15.502761Z",
     "iopub.status.busy": "2022-10-07T09:59:15.502110Z",
     "iopub.status.idle": "2022-10-07T09:59:15.608351Z",
     "shell.execute_reply": "2022-10-07T09:59:15.607025Z"
    },
    "papermill": {
     "duration": 0.136578,
     "end_time": "2022-10-07T09:59:15.610754",
     "exception": false,
     "start_time": "2022-10-07T09:59:15.474176",
     "status": "completed"
    },
    "tags": []
   },
   "outputs": [
    {
     "data": {
      "text/html": [
       "<style>#sk-container-id-2 {color: black;}#sk-container-id-2 pre{padding: 0;}#sk-container-id-2 div.sk-toggleable {background-color: white;}#sk-container-id-2 label.sk-toggleable__label {cursor: pointer;display: block;width: 100%;margin-bottom: 0;padding: 0.3em;box-sizing: border-box;text-align: center;}#sk-container-id-2 label.sk-toggleable__label-arrow:before {content: \"▸\";float: left;margin-right: 0.25em;color: #696969;}#sk-container-id-2 label.sk-toggleable__label-arrow:hover:before {color: black;}#sk-container-id-2 div.sk-estimator:hover label.sk-toggleable__label-arrow:before {color: black;}#sk-container-id-2 div.sk-toggleable__content {max-height: 0;max-width: 0;overflow: hidden;text-align: left;background-color: #f0f8ff;}#sk-container-id-2 div.sk-toggleable__content pre {margin: 0.2em;color: black;border-radius: 0.25em;background-color: #f0f8ff;}#sk-container-id-2 input.sk-toggleable__control:checked~div.sk-toggleable__content {max-height: 200px;max-width: 100%;overflow: auto;}#sk-container-id-2 input.sk-toggleable__control:checked~label.sk-toggleable__label-arrow:before {content: \"▾\";}#sk-container-id-2 div.sk-estimator input.sk-toggleable__control:checked~label.sk-toggleable__label {background-color: #d4ebff;}#sk-container-id-2 div.sk-label input.sk-toggleable__control:checked~label.sk-toggleable__label {background-color: #d4ebff;}#sk-container-id-2 input.sk-hidden--visually {border: 0;clip: rect(1px 1px 1px 1px);clip: rect(1px, 1px, 1px, 1px);height: 1px;margin: -1px;overflow: hidden;padding: 0;position: absolute;width: 1px;}#sk-container-id-2 div.sk-estimator {font-family: monospace;background-color: #f0f8ff;border: 1px dotted black;border-radius: 0.25em;box-sizing: border-box;margin-bottom: 0.5em;}#sk-container-id-2 div.sk-estimator:hover {background-color: #d4ebff;}#sk-container-id-2 div.sk-parallel-item::after {content: \"\";width: 100%;border-bottom: 1px solid gray;flex-grow: 1;}#sk-container-id-2 div.sk-label:hover label.sk-toggleable__label {background-color: #d4ebff;}#sk-container-id-2 div.sk-serial::before {content: \"\";position: absolute;border-left: 1px solid gray;box-sizing: border-box;top: 0;bottom: 0;left: 50%;z-index: 0;}#sk-container-id-2 div.sk-serial {display: flex;flex-direction: column;align-items: center;background-color: white;padding-right: 0.2em;padding-left: 0.2em;position: relative;}#sk-container-id-2 div.sk-item {position: relative;z-index: 1;}#sk-container-id-2 div.sk-parallel {display: flex;align-items: stretch;justify-content: center;background-color: white;position: relative;}#sk-container-id-2 div.sk-item::before, #sk-container-id-2 div.sk-parallel-item::before {content: \"\";position: absolute;border-left: 1px solid gray;box-sizing: border-box;top: 0;bottom: 0;left: 50%;z-index: -1;}#sk-container-id-2 div.sk-parallel-item {display: flex;flex-direction: column;z-index: 1;position: relative;background-color: white;}#sk-container-id-2 div.sk-parallel-item:first-child::after {align-self: flex-end;width: 50%;}#sk-container-id-2 div.sk-parallel-item:last-child::after {align-self: flex-start;width: 50%;}#sk-container-id-2 div.sk-parallel-item:only-child::after {width: 0;}#sk-container-id-2 div.sk-dashed-wrapped {border: 1px dashed gray;margin: 0 0.4em 0.5em 0.4em;box-sizing: border-box;padding-bottom: 0.4em;background-color: white;}#sk-container-id-2 div.sk-label label {font-family: monospace;font-weight: bold;display: inline-block;line-height: 1.2em;}#sk-container-id-2 div.sk-label-container {text-align: center;}#sk-container-id-2 div.sk-container {/* jupyter's `normalize.less` sets `[hidden] { display: none; }` but bootstrap.min.css set `[hidden] { display: none !important; }` so we also need the `!important` here to be able to override the default hidden behavior on the sphinx rendered scikit-learn.org. See: https://github.com/scikit-learn/scikit-learn/issues/21755 */display: inline-block !important;position: relative;}#sk-container-id-2 div.sk-text-repr-fallback {display: none;}</style><div id=\"sk-container-id-2\" class=\"sk-top-container\"><div class=\"sk-text-repr-fallback\"><pre>DecisionTreeClassifier()</pre><b>In a Jupyter environment, please rerun this cell to show the HTML representation or trust the notebook. <br />On GitHub, the HTML representation is unable to render, please try loading this page with nbviewer.org.</b></div><div class=\"sk-container\" hidden><div class=\"sk-item\"><div class=\"sk-estimator sk-toggleable\"><input class=\"sk-toggleable__control sk-hidden--visually\" id=\"sk-estimator-id-2\" type=\"checkbox\" checked><label for=\"sk-estimator-id-2\" class=\"sk-toggleable__label sk-toggleable__label-arrow\">DecisionTreeClassifier</label><div class=\"sk-toggleable__content\"><pre>DecisionTreeClassifier()</pre></div></div></div></div></div>"
      ],
      "text/plain": [
       "DecisionTreeClassifier()"
      ]
     },
     "execution_count": 45,
     "metadata": {},
     "output_type": "execute_result"
    }
   ],
   "source": [
    "from sklearn.tree import DecisionTreeClassifier\n",
    "dt = DecisionTreeClassifier()\n",
    "dt.fit(X_train,y_train)"
   ]
  },
  {
   "cell_type": "code",
   "execution_count": 46,
   "id": "77d72ace",
   "metadata": {
    "execution": {
     "iopub.execute_input": "2022-10-07T09:59:15.665683Z",
     "iopub.status.busy": "2022-10-07T09:59:15.665251Z",
     "iopub.status.idle": "2022-10-07T09:59:15.671893Z",
     "shell.execute_reply": "2022-10-07T09:59:15.670929Z"
    },
    "papermill": {
     "duration": 0.036851,
     "end_time": "2022-10-07T09:59:15.674320",
     "exception": false,
     "start_time": "2022-10-07T09:59:15.637469",
     "status": "completed"
    },
    "tags": []
   },
   "outputs": [],
   "source": [
    "y_pred2 = dt.predict(X_test)"
   ]
  },
  {
   "cell_type": "code",
   "execution_count": 47,
   "id": "f212c195",
   "metadata": {
    "execution": {
     "iopub.execute_input": "2022-10-07T09:59:15.729817Z",
     "iopub.status.busy": "2022-10-07T09:59:15.729078Z",
     "iopub.status.idle": "2022-10-07T09:59:15.736477Z",
     "shell.execute_reply": "2022-10-07T09:59:15.735344Z"
    },
    "papermill": {
     "duration": 0.037811,
     "end_time": "2022-10-07T09:59:15.738858",
     "exception": false,
     "start_time": "2022-10-07T09:59:15.701047",
     "status": "completed"
    },
    "tags": []
   },
   "outputs": [
    {
     "data": {
      "text/plain": [
       "0.9315789473684211"
      ]
     },
     "execution_count": 47,
     "metadata": {},
     "output_type": "execute_result"
    }
   ],
   "source": [
    "accuracy_score(y_test,y_pred2)"
   ]
  },
  {
   "cell_type": "code",
   "execution_count": 48,
   "id": "e2418a44",
   "metadata": {
    "execution": {
     "iopub.execute_input": "2022-10-07T09:59:15.795146Z",
     "iopub.status.busy": "2022-10-07T09:59:15.794716Z",
     "iopub.status.idle": "2022-10-07T09:59:15.804005Z",
     "shell.execute_reply": "2022-10-07T09:59:15.803023Z"
    },
    "papermill": {
     "duration": 0.040463,
     "end_time": "2022-10-07T09:59:15.806205",
     "exception": false,
     "start_time": "2022-10-07T09:59:15.765742",
     "status": "completed"
    },
    "tags": []
   },
   "outputs": [
    {
     "data": {
      "text/plain": [
       "0.9320388349514563"
      ]
     },
     "execution_count": 48,
     "metadata": {},
     "output_type": "execute_result"
    }
   ],
   "source": [
    "precision_score(y_test,y_pred2)"
   ]
  },
  {
   "cell_type": "code",
   "execution_count": 49,
   "id": "f68a4a37",
   "metadata": {
    "execution": {
     "iopub.execute_input": "2022-10-07T09:59:15.861742Z",
     "iopub.status.busy": "2022-10-07T09:59:15.861317Z",
     "iopub.status.idle": "2022-10-07T09:59:15.871019Z",
     "shell.execute_reply": "2022-10-07T09:59:15.869678Z"
    },
    "papermill": {
     "duration": 0.040269,
     "end_time": "2022-10-07T09:59:15.873382",
     "exception": false,
     "start_time": "2022-10-07T09:59:15.833113",
     "status": "completed"
    },
    "tags": []
   },
   "outputs": [
    {
     "data": {
      "text/plain": [
       "0.9411764705882353"
      ]
     },
     "execution_count": 49,
     "metadata": {},
     "output_type": "execute_result"
    }
   ],
   "source": [
    "recall_score(y_test,y_pred2)"
   ]
  },
  {
   "cell_type": "code",
   "execution_count": 50,
   "id": "6ea7960b",
   "metadata": {
    "execution": {
     "iopub.execute_input": "2022-10-07T09:59:15.929536Z",
     "iopub.status.busy": "2022-10-07T09:59:15.929129Z",
     "iopub.status.idle": "2022-10-07T09:59:15.939821Z",
     "shell.execute_reply": "2022-10-07T09:59:15.938758Z"
    },
    "papermill": {
     "duration": 0.04206,
     "end_time": "2022-10-07T09:59:15.942747",
     "exception": false,
     "start_time": "2022-10-07T09:59:15.900687",
     "status": "completed"
    },
    "tags": []
   },
   "outputs": [
    {
     "data": {
      "text/plain": [
       "0.9365853658536586"
      ]
     },
     "execution_count": 50,
     "metadata": {},
     "output_type": "execute_result"
    }
   ],
   "source": [
    "f1_score(y_test,y_pred2)"
   ]
  },
  {
   "cell_type": "markdown",
   "id": "b0d6adcf",
   "metadata": {
    "papermill": {
     "duration": 0.035694,
     "end_time": "2022-10-07T09:59:16.009589",
     "exception": false,
     "start_time": "2022-10-07T09:59:15.973895",
     "status": "completed"
    },
    "tags": []
   },
   "source": [
    "# 12. Random Forest Classifier"
   ]
  },
  {
   "cell_type": "code",
   "execution_count": 51,
   "id": "7c76219e",
   "metadata": {
    "execution": {
     "iopub.execute_input": "2022-10-07T09:59:16.073559Z",
     "iopub.status.busy": "2022-10-07T09:59:16.073119Z",
     "iopub.status.idle": "2022-10-07T09:59:16.456558Z",
     "shell.execute_reply": "2022-10-07T09:59:16.455260Z"
    },
    "papermill": {
     "duration": 0.415394,
     "end_time": "2022-10-07T09:59:16.459016",
     "exception": false,
     "start_time": "2022-10-07T09:59:16.043622",
     "status": "completed"
    },
    "tags": []
   },
   "outputs": [
    {
     "data": {
      "text/html": [
       "<style>#sk-container-id-3 {color: black;}#sk-container-id-3 pre{padding: 0;}#sk-container-id-3 div.sk-toggleable {background-color: white;}#sk-container-id-3 label.sk-toggleable__label {cursor: pointer;display: block;width: 100%;margin-bottom: 0;padding: 0.3em;box-sizing: border-box;text-align: center;}#sk-container-id-3 label.sk-toggleable__label-arrow:before {content: \"▸\";float: left;margin-right: 0.25em;color: #696969;}#sk-container-id-3 label.sk-toggleable__label-arrow:hover:before {color: black;}#sk-container-id-3 div.sk-estimator:hover label.sk-toggleable__label-arrow:before {color: black;}#sk-container-id-3 div.sk-toggleable__content {max-height: 0;max-width: 0;overflow: hidden;text-align: left;background-color: #f0f8ff;}#sk-container-id-3 div.sk-toggleable__content pre {margin: 0.2em;color: black;border-radius: 0.25em;background-color: #f0f8ff;}#sk-container-id-3 input.sk-toggleable__control:checked~div.sk-toggleable__content {max-height: 200px;max-width: 100%;overflow: auto;}#sk-container-id-3 input.sk-toggleable__control:checked~label.sk-toggleable__label-arrow:before {content: \"▾\";}#sk-container-id-3 div.sk-estimator input.sk-toggleable__control:checked~label.sk-toggleable__label {background-color: #d4ebff;}#sk-container-id-3 div.sk-label input.sk-toggleable__control:checked~label.sk-toggleable__label {background-color: #d4ebff;}#sk-container-id-3 input.sk-hidden--visually {border: 0;clip: rect(1px 1px 1px 1px);clip: rect(1px, 1px, 1px, 1px);height: 1px;margin: -1px;overflow: hidden;padding: 0;position: absolute;width: 1px;}#sk-container-id-3 div.sk-estimator {font-family: monospace;background-color: #f0f8ff;border: 1px dotted black;border-radius: 0.25em;box-sizing: border-box;margin-bottom: 0.5em;}#sk-container-id-3 div.sk-estimator:hover {background-color: #d4ebff;}#sk-container-id-3 div.sk-parallel-item::after {content: \"\";width: 100%;border-bottom: 1px solid gray;flex-grow: 1;}#sk-container-id-3 div.sk-label:hover label.sk-toggleable__label {background-color: #d4ebff;}#sk-container-id-3 div.sk-serial::before {content: \"\";position: absolute;border-left: 1px solid gray;box-sizing: border-box;top: 0;bottom: 0;left: 50%;z-index: 0;}#sk-container-id-3 div.sk-serial {display: flex;flex-direction: column;align-items: center;background-color: white;padding-right: 0.2em;padding-left: 0.2em;position: relative;}#sk-container-id-3 div.sk-item {position: relative;z-index: 1;}#sk-container-id-3 div.sk-parallel {display: flex;align-items: stretch;justify-content: center;background-color: white;position: relative;}#sk-container-id-3 div.sk-item::before, #sk-container-id-3 div.sk-parallel-item::before {content: \"\";position: absolute;border-left: 1px solid gray;box-sizing: border-box;top: 0;bottom: 0;left: 50%;z-index: -1;}#sk-container-id-3 div.sk-parallel-item {display: flex;flex-direction: column;z-index: 1;position: relative;background-color: white;}#sk-container-id-3 div.sk-parallel-item:first-child::after {align-self: flex-end;width: 50%;}#sk-container-id-3 div.sk-parallel-item:last-child::after {align-self: flex-start;width: 50%;}#sk-container-id-3 div.sk-parallel-item:only-child::after {width: 0;}#sk-container-id-3 div.sk-dashed-wrapped {border: 1px dashed gray;margin: 0 0.4em 0.5em 0.4em;box-sizing: border-box;padding-bottom: 0.4em;background-color: white;}#sk-container-id-3 div.sk-label label {font-family: monospace;font-weight: bold;display: inline-block;line-height: 1.2em;}#sk-container-id-3 div.sk-label-container {text-align: center;}#sk-container-id-3 div.sk-container {/* jupyter's `normalize.less` sets `[hidden] { display: none; }` but bootstrap.min.css set `[hidden] { display: none !important; }` so we also need the `!important` here to be able to override the default hidden behavior on the sphinx rendered scikit-learn.org. See: https://github.com/scikit-learn/scikit-learn/issues/21755 */display: inline-block !important;position: relative;}#sk-container-id-3 div.sk-text-repr-fallback {display: none;}</style><div id=\"sk-container-id-3\" class=\"sk-top-container\"><div class=\"sk-text-repr-fallback\"><pre>RandomForestClassifier()</pre><b>In a Jupyter environment, please rerun this cell to show the HTML representation or trust the notebook. <br />On GitHub, the HTML representation is unable to render, please try loading this page with nbviewer.org.</b></div><div class=\"sk-container\" hidden><div class=\"sk-item\"><div class=\"sk-estimator sk-toggleable\"><input class=\"sk-toggleable__control sk-hidden--visually\" id=\"sk-estimator-id-3\" type=\"checkbox\" checked><label for=\"sk-estimator-id-3\" class=\"sk-toggleable__label sk-toggleable__label-arrow\">RandomForestClassifier</label><div class=\"sk-toggleable__content\"><pre>RandomForestClassifier()</pre></div></div></div></div></div>"
      ],
      "text/plain": [
       "RandomForestClassifier()"
      ]
     },
     "execution_count": 51,
     "metadata": {},
     "output_type": "execute_result"
    }
   ],
   "source": [
    "from sklearn.ensemble import RandomForestClassifier\n",
    "rf = RandomForestClassifier()\n",
    "rf.fit(X_train,y_train)"
   ]
  },
  {
   "cell_type": "code",
   "execution_count": 52,
   "id": "8d38ca90",
   "metadata": {
    "execution": {
     "iopub.execute_input": "2022-10-07T09:59:16.516388Z",
     "iopub.status.busy": "2022-10-07T09:59:16.515904Z",
     "iopub.status.idle": "2022-10-07T09:59:16.535735Z",
     "shell.execute_reply": "2022-10-07T09:59:16.534814Z"
    },
    "papermill": {
     "duration": 0.050946,
     "end_time": "2022-10-07T09:59:16.538264",
     "exception": false,
     "start_time": "2022-10-07T09:59:16.487318",
     "status": "completed"
    },
    "tags": []
   },
   "outputs": [],
   "source": [
    "y_pred3 = rf.predict(X_test)"
   ]
  },
  {
   "cell_type": "code",
   "execution_count": 53,
   "id": "270640f8",
   "metadata": {
    "execution": {
     "iopub.execute_input": "2022-10-07T09:59:16.595366Z",
     "iopub.status.busy": "2022-10-07T09:59:16.594658Z",
     "iopub.status.idle": "2022-10-07T09:59:16.601428Z",
     "shell.execute_reply": "2022-10-07T09:59:16.600567Z"
    },
    "papermill": {
     "duration": 0.037954,
     "end_time": "2022-10-07T09:59:16.603669",
     "exception": false,
     "start_time": "2022-10-07T09:59:16.565715",
     "status": "completed"
    },
    "tags": []
   },
   "outputs": [
    {
     "data": {
      "text/plain": [
       "0.9421052631578948"
      ]
     },
     "execution_count": 53,
     "metadata": {},
     "output_type": "execute_result"
    }
   ],
   "source": [
    "accuracy_score(y_test,y_pred3)"
   ]
  },
  {
   "cell_type": "code",
   "execution_count": 54,
   "id": "377bbdc9",
   "metadata": {
    "execution": {
     "iopub.execute_input": "2022-10-07T09:59:16.660682Z",
     "iopub.status.busy": "2022-10-07T09:59:16.659999Z",
     "iopub.status.idle": "2022-10-07T09:59:16.667533Z",
     "shell.execute_reply": "2022-10-07T09:59:16.666460Z"
    },
    "papermill": {
     "duration": 0.038637,
     "end_time": "2022-10-07T09:59:16.669851",
     "exception": false,
     "start_time": "2022-10-07T09:59:16.631214",
     "status": "completed"
    },
    "tags": []
   },
   "outputs": [
    {
     "data": {
      "text/plain": [
       "0.989247311827957"
      ]
     },
     "execution_count": 54,
     "metadata": {},
     "output_type": "execute_result"
    }
   ],
   "source": [
    "precision_score(y_test,y_pred3)"
   ]
  },
  {
   "cell_type": "code",
   "execution_count": 55,
   "id": "7f900516",
   "metadata": {
    "execution": {
     "iopub.execute_input": "2022-10-07T09:59:16.726618Z",
     "iopub.status.busy": "2022-10-07T09:59:16.726209Z",
     "iopub.status.idle": "2022-10-07T09:59:16.734327Z",
     "shell.execute_reply": "2022-10-07T09:59:16.733273Z"
    },
    "papermill": {
     "duration": 0.0392,
     "end_time": "2022-10-07T09:59:16.736662",
     "exception": false,
     "start_time": "2022-10-07T09:59:16.697462",
     "status": "completed"
    },
    "tags": []
   },
   "outputs": [
    {
     "data": {
      "text/plain": [
       "0.9019607843137255"
      ]
     },
     "execution_count": 55,
     "metadata": {},
     "output_type": "execute_result"
    }
   ],
   "source": [
    "recall_score(y_test,y_pred3)"
   ]
  },
  {
   "cell_type": "code",
   "execution_count": 56,
   "id": "3b286f17",
   "metadata": {
    "execution": {
     "iopub.execute_input": "2022-10-07T09:59:16.794346Z",
     "iopub.status.busy": "2022-10-07T09:59:16.793908Z",
     "iopub.status.idle": "2022-10-07T09:59:16.803212Z",
     "shell.execute_reply": "2022-10-07T09:59:16.802145Z"
    },
    "papermill": {
     "duration": 0.040685,
     "end_time": "2022-10-07T09:59:16.805476",
     "exception": false,
     "start_time": "2022-10-07T09:59:16.764791",
     "status": "completed"
    },
    "tags": []
   },
   "outputs": [
    {
     "data": {
      "text/plain": [
       "0.9435897435897437"
      ]
     },
     "execution_count": 56,
     "metadata": {},
     "output_type": "execute_result"
    }
   ],
   "source": [
    "f1_score(y_test,y_pred3)"
   ]
  },
  {
   "cell_type": "code",
   "execution_count": 57,
   "id": "1c9642e6",
   "metadata": {
    "execution": {
     "iopub.execute_input": "2022-10-07T09:59:16.863061Z",
     "iopub.status.busy": "2022-10-07T09:59:16.862623Z",
     "iopub.status.idle": "2022-10-07T09:59:16.870461Z",
     "shell.execute_reply": "2022-10-07T09:59:16.869319Z"
    },
    "papermill": {
     "duration": 0.039567,
     "end_time": "2022-10-07T09:59:16.872747",
     "exception": false,
     "start_time": "2022-10-07T09:59:16.833180",
     "status": "completed"
    },
    "tags": []
   },
   "outputs": [],
   "source": [
    "final_data = pd.DataFrame({'Models':['LR','DT','RF'],\n",
    "              \"ACC\":[accuracy_score(y_test,y_pred1)*100,\n",
    "                     accuracy_score(y_test,y_pred2)*100,\n",
    "                     accuracy_score(y_test,y_pred3)*100\n",
    "                    ]})"
   ]
  },
  {
   "cell_type": "code",
   "execution_count": 58,
   "id": "799f8e29",
   "metadata": {
    "execution": {
     "iopub.execute_input": "2022-10-07T09:59:16.930210Z",
     "iopub.status.busy": "2022-10-07T09:59:16.929773Z",
     "iopub.status.idle": "2022-10-07T09:59:16.939522Z",
     "shell.execute_reply": "2022-10-07T09:59:16.938584Z"
    },
    "papermill": {
     "duration": 0.041344,
     "end_time": "2022-10-07T09:59:16.941780",
     "exception": false,
     "start_time": "2022-10-07T09:59:16.900436",
     "status": "completed"
    },
    "tags": []
   },
   "outputs": [
    {
     "data": {
      "text/html": [
       "<div>\n",
       "<style scoped>\n",
       "    .dataframe tbody tr th:only-of-type {\n",
       "        vertical-align: middle;\n",
       "    }\n",
       "\n",
       "    .dataframe tbody tr th {\n",
       "        vertical-align: top;\n",
       "    }\n",
       "\n",
       "    .dataframe thead th {\n",
       "        text-align: right;\n",
       "    }\n",
       "</style>\n",
       "<table border=\"1\" class=\"dataframe\">\n",
       "  <thead>\n",
       "    <tr style=\"text-align: right;\">\n",
       "      <th></th>\n",
       "      <th>Models</th>\n",
       "      <th>ACC</th>\n",
       "    </tr>\n",
       "  </thead>\n",
       "  <tbody>\n",
       "    <tr>\n",
       "      <th>0</th>\n",
       "      <td>LR</td>\n",
       "      <td>95.263158</td>\n",
       "    </tr>\n",
       "    <tr>\n",
       "      <th>1</th>\n",
       "      <td>DT</td>\n",
       "      <td>93.157895</td>\n",
       "    </tr>\n",
       "    <tr>\n",
       "      <th>2</th>\n",
       "      <td>RF</td>\n",
       "      <td>94.210526</td>\n",
       "    </tr>\n",
       "  </tbody>\n",
       "</table>\n",
       "</div>"
      ],
      "text/plain": [
       "  Models        ACC\n",
       "0     LR  95.263158\n",
       "1     DT  93.157895\n",
       "2     RF  94.210526"
      ]
     },
     "execution_count": 58,
     "metadata": {},
     "output_type": "execute_result"
    }
   ],
   "source": [
    "final_data"
   ]
  },
  {
   "cell_type": "code",
   "execution_count": null,
   "id": "c0a5484f",
   "metadata": {
    "execution": {
     "iopub.execute_input": "2022-10-07T09:59:16.999925Z",
     "iopub.status.busy": "2022-10-07T09:59:16.998807Z",
     "iopub.status.idle": "2022-10-07T09:59:17.121730Z",
     "shell.execute_reply": "2022-10-07T09:59:17.120470Z"
    },
    "papermill": {
     "duration": 0.155566,
     "end_time": "2022-10-07T09:59:17.125121",
     "exception": false,
     "start_time": "2022-10-07T09:59:16.969555",
     "status": "completed"
    },
    "tags": []
   },
   "outputs": [],
   "source": []
  },
  {
   "cell_type": "markdown",
   "id": "b0c7e332",
   "metadata": {
    "papermill": {
     "duration": 0.02835,
     "end_time": "2022-10-07T09:59:17.181948",
     "exception": false,
     "start_time": "2022-10-07T09:59:17.153598",
     "status": "completed"
    },
    "tags": []
   },
   "source": [
    "# Oversampling"
   ]
  },
  {
   "cell_type": "code",
   "execution_count": 62,
   "id": "bae9da96",
   "metadata": {
    "execution": {
     "iopub.execute_input": "2022-10-07T09:59:17.240511Z",
     "iopub.status.busy": "2022-10-07T09:59:17.239701Z",
     "iopub.status.idle": "2022-10-07T09:59:17.267612Z",
     "shell.execute_reply": "2022-10-07T09:59:17.266548Z"
    },
    "papermill": {
     "duration": 0.060065,
     "end_time": "2022-10-07T09:59:17.270185",
     "exception": false,
     "start_time": "2022-10-07T09:59:17.210120",
     "status": "completed"
    },
    "tags": []
   },
   "outputs": [],
   "source": [
    "X = data.drop('Class',axis=1)\n",
    "y = data['Class']"
   ]
  },
  {
   "cell_type": "code",
   "execution_count": 63,
   "id": "058e1837",
   "metadata": {
    "execution": {
     "iopub.execute_input": "2022-10-07T09:59:17.329076Z",
     "iopub.status.busy": "2022-10-07T09:59:17.328288Z",
     "iopub.status.idle": "2022-10-07T09:59:17.335354Z",
     "shell.execute_reply": "2022-10-07T09:59:17.334336Z"
    },
    "papermill": {
     "duration": 0.039272,
     "end_time": "2022-10-07T09:59:17.337645",
     "exception": false,
     "start_time": "2022-10-07T09:59:17.298373",
     "status": "completed"
    },
    "tags": []
   },
   "outputs": [
    {
     "data": {
      "text/plain": [
       "(275663, 29)"
      ]
     },
     "execution_count": 63,
     "metadata": {},
     "output_type": "execute_result"
    }
   ],
   "source": [
    "X.shape"
   ]
  },
  {
   "cell_type": "code",
   "execution_count": 64,
   "id": "3caaee8f",
   "metadata": {
    "execution": {
     "iopub.execute_input": "2022-10-07T09:59:17.395849Z",
     "iopub.status.busy": "2022-10-07T09:59:17.395152Z",
     "iopub.status.idle": "2022-10-07T09:59:17.401385Z",
     "shell.execute_reply": "2022-10-07T09:59:17.400271Z"
    },
    "papermill": {
     "duration": 0.037907,
     "end_time": "2022-10-07T09:59:17.403686",
     "exception": false,
     "start_time": "2022-10-07T09:59:17.365779",
     "status": "completed"
    },
    "tags": []
   },
   "outputs": [
    {
     "data": {
      "text/plain": [
       "(275663,)"
      ]
     },
     "execution_count": 64,
     "metadata": {},
     "output_type": "execute_result"
    }
   ],
   "source": [
    "y.shape"
   ]
  },
  {
   "cell_type": "code",
   "execution_count": 65,
   "id": "7b89bc08",
   "metadata": {
    "execution": {
     "iopub.execute_input": "2022-10-07T09:59:17.462721Z",
     "iopub.status.busy": "2022-10-07T09:59:17.461953Z",
     "iopub.status.idle": "2022-10-07T09:59:17.596449Z",
     "shell.execute_reply": "2022-10-07T09:59:17.595277Z"
    },
    "papermill": {
     "duration": 0.167182,
     "end_time": "2022-10-07T09:59:17.599374",
     "exception": false,
     "start_time": "2022-10-07T09:59:17.432192",
     "status": "completed"
    },
    "tags": []
   },
   "outputs": [
    {
     "ename": "ImportError",
     "evalue": "cannot import name '_MissingValues' from 'sklearn.utils._param_validation' (C:\\ProgramData\\anaconda3\\Lib\\site-packages\\sklearn\\utils\\_param_validation.py)",
     "output_type": "error",
     "traceback": [
      "\u001b[1;31m---------------------------------------------------------------------------\u001b[0m",
      "\u001b[1;31mImportError\u001b[0m                               Traceback (most recent call last)",
      "Cell \u001b[1;32mIn[65], line 1\u001b[0m\n\u001b[1;32m----> 1\u001b[0m \u001b[38;5;28;01mfrom\u001b[39;00m \u001b[38;5;21;01mimblearn\u001b[39;00m\u001b[38;5;21;01m.\u001b[39;00m\u001b[38;5;21;01mover_sampling\u001b[39;00m \u001b[38;5;28;01mimport\u001b[39;00m SMOTE\n",
      "File \u001b[1;32mC:\\ProgramData\\anaconda3\\Lib\\site-packages\\imblearn\\__init__.py:52\u001b[0m\n\u001b[0;32m     48\u001b[0m     sys\u001b[38;5;241m.\u001b[39mstderr\u001b[38;5;241m.\u001b[39mwrite(\u001b[38;5;124m\"\u001b[39m\u001b[38;5;124mPartial import of imblearn during the build process.\u001b[39m\u001b[38;5;130;01m\\n\u001b[39;00m\u001b[38;5;124m\"\u001b[39m)\n\u001b[0;32m     49\u001b[0m     \u001b[38;5;66;03m# We are not importing the rest of scikit-learn during the build\u001b[39;00m\n\u001b[0;32m     50\u001b[0m     \u001b[38;5;66;03m# process, as it may not be compiled yet\u001b[39;00m\n\u001b[0;32m     51\u001b[0m \u001b[38;5;28;01melse\u001b[39;00m:\n\u001b[1;32m---> 52\u001b[0m     \u001b[38;5;28;01mfrom\u001b[39;00m \u001b[38;5;21;01m.\u001b[39;00m \u001b[38;5;28;01mimport\u001b[39;00m (\n\u001b[0;32m     53\u001b[0m         combine,\n\u001b[0;32m     54\u001b[0m         ensemble,\n\u001b[0;32m     55\u001b[0m         exceptions,\n\u001b[0;32m     56\u001b[0m         metrics,\n\u001b[0;32m     57\u001b[0m         over_sampling,\n\u001b[0;32m     58\u001b[0m         pipeline,\n\u001b[0;32m     59\u001b[0m         tensorflow,\n\u001b[0;32m     60\u001b[0m         under_sampling,\n\u001b[0;32m     61\u001b[0m         utils,\n\u001b[0;32m     62\u001b[0m     )\n\u001b[0;32m     63\u001b[0m     \u001b[38;5;28;01mfrom\u001b[39;00m \u001b[38;5;21;01m.\u001b[39;00m\u001b[38;5;21;01m_version\u001b[39;00m \u001b[38;5;28;01mimport\u001b[39;00m __version__\n\u001b[0;32m     64\u001b[0m     \u001b[38;5;28;01mfrom\u001b[39;00m \u001b[38;5;21;01m.\u001b[39;00m\u001b[38;5;21;01mbase\u001b[39;00m \u001b[38;5;28;01mimport\u001b[39;00m FunctionSampler\n",
      "File \u001b[1;32mC:\\ProgramData\\anaconda3\\Lib\\site-packages\\imblearn\\combine\\__init__.py:5\u001b[0m\n\u001b[0;32m      1\u001b[0m \u001b[38;5;124;03m\"\"\"The :mod:`imblearn.combine` provides methods which combine\u001b[39;00m\n\u001b[0;32m      2\u001b[0m \u001b[38;5;124;03mover-sampling and under-sampling.\u001b[39;00m\n\u001b[0;32m      3\u001b[0m \u001b[38;5;124;03m\"\"\"\u001b[39;00m\n\u001b[1;32m----> 5\u001b[0m \u001b[38;5;28;01mfrom\u001b[39;00m \u001b[38;5;21;01m.\u001b[39;00m\u001b[38;5;21;01m_smote_enn\u001b[39;00m \u001b[38;5;28;01mimport\u001b[39;00m SMOTEENN\n\u001b[0;32m      6\u001b[0m \u001b[38;5;28;01mfrom\u001b[39;00m \u001b[38;5;21;01m.\u001b[39;00m\u001b[38;5;21;01m_smote_tomek\u001b[39;00m \u001b[38;5;28;01mimport\u001b[39;00m SMOTETomek\n\u001b[0;32m      8\u001b[0m __all__ \u001b[38;5;241m=\u001b[39m [\u001b[38;5;124m\"\u001b[39m\u001b[38;5;124mSMOTEENN\u001b[39m\u001b[38;5;124m\"\u001b[39m, \u001b[38;5;124m\"\u001b[39m\u001b[38;5;124mSMOTETomek\u001b[39m\u001b[38;5;124m\"\u001b[39m]\n",
      "File \u001b[1;32mC:\\ProgramData\\anaconda3\\Lib\\site-packages\\imblearn\\combine\\_smote_enn.py:12\u001b[0m\n\u001b[0;32m      9\u001b[0m \u001b[38;5;28;01mfrom\u001b[39;00m \u001b[38;5;21;01msklearn\u001b[39;00m\u001b[38;5;21;01m.\u001b[39;00m\u001b[38;5;21;01mbase\u001b[39;00m \u001b[38;5;28;01mimport\u001b[39;00m clone\n\u001b[0;32m     10\u001b[0m \u001b[38;5;28;01mfrom\u001b[39;00m \u001b[38;5;21;01msklearn\u001b[39;00m\u001b[38;5;21;01m.\u001b[39;00m\u001b[38;5;21;01mutils\u001b[39;00m \u001b[38;5;28;01mimport\u001b[39;00m check_X_y\n\u001b[1;32m---> 12\u001b[0m \u001b[38;5;28;01mfrom\u001b[39;00m \u001b[38;5;21;01m.\u001b[39;00m\u001b[38;5;21;01m.\u001b[39;00m\u001b[38;5;21;01mbase\u001b[39;00m \u001b[38;5;28;01mimport\u001b[39;00m BaseSampler\n\u001b[0;32m     13\u001b[0m \u001b[38;5;28;01mfrom\u001b[39;00m \u001b[38;5;21;01m.\u001b[39;00m\u001b[38;5;21;01m.\u001b[39;00m\u001b[38;5;21;01mover_sampling\u001b[39;00m \u001b[38;5;28;01mimport\u001b[39;00m SMOTE\n\u001b[0;32m     14\u001b[0m \u001b[38;5;28;01mfrom\u001b[39;00m \u001b[38;5;21;01m.\u001b[39;00m\u001b[38;5;21;01m.\u001b[39;00m\u001b[38;5;21;01mover_sampling\u001b[39;00m\u001b[38;5;21;01m.\u001b[39;00m\u001b[38;5;21;01mbase\u001b[39;00m \u001b[38;5;28;01mimport\u001b[39;00m BaseOverSampler\n",
      "File \u001b[1;32mC:\\ProgramData\\anaconda3\\Lib\\site-packages\\imblearn\\base.py:21\u001b[0m\n\u001b[0;32m     18\u001b[0m \u001b[38;5;28;01mfrom\u001b[39;00m \u001b[38;5;21;01msklearn\u001b[39;00m\u001b[38;5;21;01m.\u001b[39;00m\u001b[38;5;21;01mutils\u001b[39;00m\u001b[38;5;21;01m.\u001b[39;00m\u001b[38;5;21;01mmulticlass\u001b[39;00m \u001b[38;5;28;01mimport\u001b[39;00m check_classification_targets\n\u001b[0;32m     20\u001b[0m \u001b[38;5;28;01mfrom\u001b[39;00m \u001b[38;5;21;01m.\u001b[39;00m\u001b[38;5;21;01mutils\u001b[39;00m \u001b[38;5;28;01mimport\u001b[39;00m check_sampling_strategy, check_target_type\n\u001b[1;32m---> 21\u001b[0m \u001b[38;5;28;01mfrom\u001b[39;00m \u001b[38;5;21;01m.\u001b[39;00m\u001b[38;5;21;01mutils\u001b[39;00m\u001b[38;5;21;01m.\u001b[39;00m\u001b[38;5;21;01m_param_validation\u001b[39;00m \u001b[38;5;28;01mimport\u001b[39;00m validate_parameter_constraints\n\u001b[0;32m     22\u001b[0m \u001b[38;5;28;01mfrom\u001b[39;00m \u001b[38;5;21;01m.\u001b[39;00m\u001b[38;5;21;01mutils\u001b[39;00m\u001b[38;5;21;01m.\u001b[39;00m\u001b[38;5;21;01m_validation\u001b[39;00m \u001b[38;5;28;01mimport\u001b[39;00m ArraysTransformer\n\u001b[0;32m     25\u001b[0m \u001b[38;5;28;01mclass\u001b[39;00m \u001b[38;5;21;01mSamplerMixin\u001b[39;00m(BaseEstimator, metaclass\u001b[38;5;241m=\u001b[39mABCMeta):\n",
      "File \u001b[1;32mC:\\ProgramData\\anaconda3\\Lib\\site-packages\\imblearn\\utils\\_param_validation.py:908\u001b[0m\n\u001b[0;32m    906\u001b[0m \u001b[38;5;28;01mfrom\u001b[39;00m \u001b[38;5;21;01msklearn\u001b[39;00m\u001b[38;5;21;01m.\u001b[39;00m\u001b[38;5;21;01mutils\u001b[39;00m\u001b[38;5;21;01m.\u001b[39;00m\u001b[38;5;21;01m_param_validation\u001b[39;00m \u001b[38;5;28;01mimport\u001b[39;00m generate_valid_param  \u001b[38;5;66;03m# noqa\u001b[39;00m\n\u001b[0;32m    907\u001b[0m \u001b[38;5;28;01mfrom\u001b[39;00m \u001b[38;5;21;01msklearn\u001b[39;00m\u001b[38;5;21;01m.\u001b[39;00m\u001b[38;5;21;01mutils\u001b[39;00m\u001b[38;5;21;01m.\u001b[39;00m\u001b[38;5;21;01m_param_validation\u001b[39;00m \u001b[38;5;28;01mimport\u001b[39;00m validate_parameter_constraints  \u001b[38;5;66;03m# noqa\u001b[39;00m\n\u001b[1;32m--> 908\u001b[0m \u001b[38;5;28;01mfrom\u001b[39;00m \u001b[38;5;21;01msklearn\u001b[39;00m\u001b[38;5;21;01m.\u001b[39;00m\u001b[38;5;21;01mutils\u001b[39;00m\u001b[38;5;21;01m.\u001b[39;00m\u001b[38;5;21;01m_param_validation\u001b[39;00m \u001b[38;5;28;01mimport\u001b[39;00m (\n\u001b[0;32m    909\u001b[0m     HasMethods,\n\u001b[0;32m    910\u001b[0m     Hidden,\n\u001b[0;32m    911\u001b[0m     Interval,\n\u001b[0;32m    912\u001b[0m     Options,\n\u001b[0;32m    913\u001b[0m     StrOptions,\n\u001b[0;32m    914\u001b[0m     _ArrayLikes,\n\u001b[0;32m    915\u001b[0m     _Booleans,\n\u001b[0;32m    916\u001b[0m     _Callables,\n\u001b[0;32m    917\u001b[0m     _CVObjects,\n\u001b[0;32m    918\u001b[0m     _InstancesOf,\n\u001b[0;32m    919\u001b[0m     _IterablesNotString,\n\u001b[0;32m    920\u001b[0m     _MissingValues,\n\u001b[0;32m    921\u001b[0m     _NoneConstraint,\n\u001b[0;32m    922\u001b[0m     _PandasNAConstraint,\n\u001b[0;32m    923\u001b[0m     _RandomStates,\n\u001b[0;32m    924\u001b[0m     _SparseMatrices,\n\u001b[0;32m    925\u001b[0m     _VerboseHelper,\n\u001b[0;32m    926\u001b[0m     make_constraint,\n\u001b[0;32m    927\u001b[0m     validate_params,\n\u001b[0;32m    928\u001b[0m )\n",
      "\u001b[1;31mImportError\u001b[0m: cannot import name '_MissingValues' from 'sklearn.utils._param_validation' (C:\\ProgramData\\anaconda3\\Lib\\site-packages\\sklearn\\utils\\_param_validation.py)"
     ]
    }
   ],
   "source": [
    "from imblearn.over_sampling import SMOTE"
   ]
  },
  {
   "cell_type": "code",
   "execution_count": null,
   "id": "4627c030",
   "metadata": {
    "execution": {
     "iopub.execute_input": "2022-10-07T09:59:17.660593Z",
     "iopub.status.busy": "2022-10-07T09:59:17.659779Z",
     "iopub.status.idle": "2022-10-07T09:59:18.204416Z",
     "shell.execute_reply": "2022-10-07T09:59:18.203055Z"
    },
    "papermill": {
     "duration": 0.578118,
     "end_time": "2022-10-07T09:59:18.207049",
     "exception": false,
     "start_time": "2022-10-07T09:59:17.628931",
     "status": "completed"
    },
    "tags": []
   },
   "outputs": [],
   "source": [
    "X_res,y_res = SMOTE().fit_resample(X,y)"
   ]
  },
  {
   "cell_type": "code",
   "execution_count": null,
   "id": "3dfc62ae",
   "metadata": {
    "execution": {
     "iopub.execute_input": "2022-10-07T09:59:18.265947Z",
     "iopub.status.busy": "2022-10-07T09:59:18.265328Z",
     "iopub.status.idle": "2022-10-07T09:59:18.277221Z",
     "shell.execute_reply": "2022-10-07T09:59:18.276251Z"
    },
    "papermill": {
     "duration": 0.043987,
     "end_time": "2022-10-07T09:59:18.279614",
     "exception": false,
     "start_time": "2022-10-07T09:59:18.235627",
     "status": "completed"
    },
    "tags": []
   },
   "outputs": [],
   "source": [
    "y_res.value_counts()"
   ]
  },
  {
   "cell_type": "code",
   "execution_count": null,
   "id": "ab297152",
   "metadata": {
    "execution": {
     "iopub.execute_input": "2022-10-07T09:59:18.337716Z",
     "iopub.status.busy": "2022-10-07T09:59:18.337304Z",
     "iopub.status.idle": "2022-10-07T09:59:18.598115Z",
     "shell.execute_reply": "2022-10-07T09:59:18.596921Z"
    },
    "papermill": {
     "duration": 0.292937,
     "end_time": "2022-10-07T09:59:18.600814",
     "exception": false,
     "start_time": "2022-10-07T09:59:18.307877",
     "status": "completed"
    },
    "tags": []
   },
   "outputs": [],
   "source": [
    "from sklearn.model_selection import train_test_split\n",
    "X_train,X_test,y_train,y_test = train_test_split(X_res,y_res,test_size=0.20,\n",
    "                                                 random_state=42)"
   ]
  },
  {
   "cell_type": "markdown",
   "id": "bafb5857",
   "metadata": {
    "papermill": {
     "duration": 0.030835,
     "end_time": "2022-10-07T09:59:18.661356",
     "exception": false,
     "start_time": "2022-10-07T09:59:18.630521",
     "status": "completed"
    },
    "tags": []
   },
   "source": [
    "# 10. Logistic Regression"
   ]
  },
  {
   "cell_type": "code",
   "execution_count": null,
   "id": "571a33ce",
   "metadata": {
    "execution": {
     "iopub.execute_input": "2022-10-07T09:59:18.721238Z",
     "iopub.status.busy": "2022-10-07T09:59:18.720379Z",
     "iopub.status.idle": "2022-10-07T09:59:24.079104Z",
     "shell.execute_reply": "2022-10-07T09:59:24.077793Z"
    },
    "papermill": {
     "duration": 5.392642,
     "end_time": "2022-10-07T09:59:24.082650",
     "exception": false,
     "start_time": "2022-10-07T09:59:18.690008",
     "status": "completed"
    },
    "tags": []
   },
   "outputs": [],
   "source": [
    "log = LogisticRegression()\n",
    "log.fit(X_train,y_train)"
   ]
  },
  {
   "cell_type": "code",
   "execution_count": null,
   "id": "dbbdaada",
   "metadata": {
    "execution": {
     "iopub.execute_input": "2022-10-07T09:59:24.177885Z",
     "iopub.status.busy": "2022-10-07T09:59:24.177339Z",
     "iopub.status.idle": "2022-10-07T09:59:24.191701Z",
     "shell.execute_reply": "2022-10-07T09:59:24.190470Z"
    },
    "papermill": {
     "duration": 0.065586,
     "end_time": "2022-10-07T09:59:24.194864",
     "exception": false,
     "start_time": "2022-10-07T09:59:24.129278",
     "status": "completed"
    },
    "tags": []
   },
   "outputs": [],
   "source": [
    "y_pred1 = log.predict(X_test)"
   ]
  },
  {
   "cell_type": "code",
   "execution_count": null,
   "id": "fa123fca",
   "metadata": {
    "execution": {
     "iopub.execute_input": "2022-10-07T09:59:24.289646Z",
     "iopub.status.busy": "2022-10-07T09:59:24.289100Z",
     "iopub.status.idle": "2022-10-07T09:59:24.313874Z",
     "shell.execute_reply": "2022-10-07T09:59:24.312777Z"
    },
    "papermill": {
     "duration": 0.075369,
     "end_time": "2022-10-07T09:59:24.316190",
     "exception": false,
     "start_time": "2022-10-07T09:59:24.240821",
     "status": "completed"
    },
    "tags": []
   },
   "outputs": [],
   "source": [
    "accuracy_score(y_test,y_pred1)"
   ]
  },
  {
   "cell_type": "code",
   "execution_count": null,
   "id": "9445138d",
   "metadata": {
    "execution": {
     "iopub.execute_input": "2022-10-07T09:59:24.375724Z",
     "iopub.status.busy": "2022-10-07T09:59:24.374886Z",
     "iopub.status.idle": "2022-10-07T09:59:24.434491Z",
     "shell.execute_reply": "2022-10-07T09:59:24.433185Z"
    },
    "papermill": {
     "duration": 0.092538,
     "end_time": "2022-10-07T09:59:24.437247",
     "exception": false,
     "start_time": "2022-10-07T09:59:24.344709",
     "status": "completed"
    },
    "tags": []
   },
   "outputs": [],
   "source": [
    "precision_score(y_test,y_pred1)"
   ]
  },
  {
   "cell_type": "code",
   "execution_count": null,
   "id": "21b0aeef",
   "metadata": {
    "execution": {
     "iopub.execute_input": "2022-10-07T09:59:24.497508Z",
     "iopub.status.busy": "2022-10-07T09:59:24.497115Z",
     "iopub.status.idle": "2022-10-07T09:59:24.556707Z",
     "shell.execute_reply": "2022-10-07T09:59:24.555639Z"
    },
    "papermill": {
     "duration": 0.092985,
     "end_time": "2022-10-07T09:59:24.559217",
     "exception": false,
     "start_time": "2022-10-07T09:59:24.466232",
     "status": "completed"
    },
    "tags": []
   },
   "outputs": [],
   "source": [
    "recall_score(y_test,y_pred1)"
   ]
  },
  {
   "cell_type": "code",
   "execution_count": 66,
   "id": "7ade7c23",
   "metadata": {
    "execution": {
     "iopub.execute_input": "2022-10-07T09:59:24.619427Z",
     "iopub.status.busy": "2022-10-07T09:59:24.618647Z",
     "iopub.status.idle": "2022-10-07T09:59:24.677525Z",
     "shell.execute_reply": "2022-10-07T09:59:24.676409Z"
    },
    "papermill": {
     "duration": 0.091637,
     "end_time": "2022-10-07T09:59:24.679937",
     "exception": false,
     "start_time": "2022-10-07T09:59:24.588300",
     "status": "completed"
    },
    "tags": []
   },
   "outputs": [
    {
     "data": {
      "text/plain": [
       "0.9547738693467337"
      ]
     },
     "execution_count": 66,
     "metadata": {},
     "output_type": "execute_result"
    }
   ],
   "source": [
    "f1_score(y_test,y_pred1)"
   ]
  },
  {
   "cell_type": "markdown",
   "id": "a271c375",
   "metadata": {
    "papermill": {
     "duration": 0.029095,
     "end_time": "2022-10-07T09:59:24.737993",
     "exception": false,
     "start_time": "2022-10-07T09:59:24.708898",
     "status": "completed"
    },
    "tags": []
   },
   "source": [
    "# 11. Decision Tree Classifier"
   ]
  },
  {
   "cell_type": "code",
   "execution_count": 67,
   "id": "0782a74f",
   "metadata": {
    "execution": {
     "iopub.execute_input": "2022-10-07T09:59:24.799150Z",
     "iopub.status.busy": "2022-10-07T09:59:24.798718Z",
     "iopub.status.idle": "2022-10-07T10:00:17.283089Z",
     "shell.execute_reply": "2022-10-07T10:00:17.281748Z"
    },
    "papermill": {
     "duration": 52.546611,
     "end_time": "2022-10-07T10:00:17.314153",
     "exception": false,
     "start_time": "2022-10-07T09:59:24.767542",
     "status": "completed"
    },
    "tags": []
   },
   "outputs": [
    {
     "data": {
      "text/html": [
       "<style>#sk-container-id-4 {color: black;}#sk-container-id-4 pre{padding: 0;}#sk-container-id-4 div.sk-toggleable {background-color: white;}#sk-container-id-4 label.sk-toggleable__label {cursor: pointer;display: block;width: 100%;margin-bottom: 0;padding: 0.3em;box-sizing: border-box;text-align: center;}#sk-container-id-4 label.sk-toggleable__label-arrow:before {content: \"▸\";float: left;margin-right: 0.25em;color: #696969;}#sk-container-id-4 label.sk-toggleable__label-arrow:hover:before {color: black;}#sk-container-id-4 div.sk-estimator:hover label.sk-toggleable__label-arrow:before {color: black;}#sk-container-id-4 div.sk-toggleable__content {max-height: 0;max-width: 0;overflow: hidden;text-align: left;background-color: #f0f8ff;}#sk-container-id-4 div.sk-toggleable__content pre {margin: 0.2em;color: black;border-radius: 0.25em;background-color: #f0f8ff;}#sk-container-id-4 input.sk-toggleable__control:checked~div.sk-toggleable__content {max-height: 200px;max-width: 100%;overflow: auto;}#sk-container-id-4 input.sk-toggleable__control:checked~label.sk-toggleable__label-arrow:before {content: \"▾\";}#sk-container-id-4 div.sk-estimator input.sk-toggleable__control:checked~label.sk-toggleable__label {background-color: #d4ebff;}#sk-container-id-4 div.sk-label input.sk-toggleable__control:checked~label.sk-toggleable__label {background-color: #d4ebff;}#sk-container-id-4 input.sk-hidden--visually {border: 0;clip: rect(1px 1px 1px 1px);clip: rect(1px, 1px, 1px, 1px);height: 1px;margin: -1px;overflow: hidden;padding: 0;position: absolute;width: 1px;}#sk-container-id-4 div.sk-estimator {font-family: monospace;background-color: #f0f8ff;border: 1px dotted black;border-radius: 0.25em;box-sizing: border-box;margin-bottom: 0.5em;}#sk-container-id-4 div.sk-estimator:hover {background-color: #d4ebff;}#sk-container-id-4 div.sk-parallel-item::after {content: \"\";width: 100%;border-bottom: 1px solid gray;flex-grow: 1;}#sk-container-id-4 div.sk-label:hover label.sk-toggleable__label {background-color: #d4ebff;}#sk-container-id-4 div.sk-serial::before {content: \"\";position: absolute;border-left: 1px solid gray;box-sizing: border-box;top: 0;bottom: 0;left: 50%;z-index: 0;}#sk-container-id-4 div.sk-serial {display: flex;flex-direction: column;align-items: center;background-color: white;padding-right: 0.2em;padding-left: 0.2em;position: relative;}#sk-container-id-4 div.sk-item {position: relative;z-index: 1;}#sk-container-id-4 div.sk-parallel {display: flex;align-items: stretch;justify-content: center;background-color: white;position: relative;}#sk-container-id-4 div.sk-item::before, #sk-container-id-4 div.sk-parallel-item::before {content: \"\";position: absolute;border-left: 1px solid gray;box-sizing: border-box;top: 0;bottom: 0;left: 50%;z-index: -1;}#sk-container-id-4 div.sk-parallel-item {display: flex;flex-direction: column;z-index: 1;position: relative;background-color: white;}#sk-container-id-4 div.sk-parallel-item:first-child::after {align-self: flex-end;width: 50%;}#sk-container-id-4 div.sk-parallel-item:last-child::after {align-self: flex-start;width: 50%;}#sk-container-id-4 div.sk-parallel-item:only-child::after {width: 0;}#sk-container-id-4 div.sk-dashed-wrapped {border: 1px dashed gray;margin: 0 0.4em 0.5em 0.4em;box-sizing: border-box;padding-bottom: 0.4em;background-color: white;}#sk-container-id-4 div.sk-label label {font-family: monospace;font-weight: bold;display: inline-block;line-height: 1.2em;}#sk-container-id-4 div.sk-label-container {text-align: center;}#sk-container-id-4 div.sk-container {/* jupyter's `normalize.less` sets `[hidden] { display: none; }` but bootstrap.min.css set `[hidden] { display: none !important; }` so we also need the `!important` here to be able to override the default hidden behavior on the sphinx rendered scikit-learn.org. See: https://github.com/scikit-learn/scikit-learn/issues/21755 */display: inline-block !important;position: relative;}#sk-container-id-4 div.sk-text-repr-fallback {display: none;}</style><div id=\"sk-container-id-4\" class=\"sk-top-container\"><div class=\"sk-text-repr-fallback\"><pre>DecisionTreeClassifier()</pre><b>In a Jupyter environment, please rerun this cell to show the HTML representation or trust the notebook. <br />On GitHub, the HTML representation is unable to render, please try loading this page with nbviewer.org.</b></div><div class=\"sk-container\" hidden><div class=\"sk-item\"><div class=\"sk-estimator sk-toggleable\"><input class=\"sk-toggleable__control sk-hidden--visually\" id=\"sk-estimator-id-4\" type=\"checkbox\" checked><label for=\"sk-estimator-id-4\" class=\"sk-toggleable__label sk-toggleable__label-arrow\">DecisionTreeClassifier</label><div class=\"sk-toggleable__content\"><pre>DecisionTreeClassifier()</pre></div></div></div></div></div>"
      ],
      "text/plain": [
       "DecisionTreeClassifier()"
      ]
     },
     "execution_count": 67,
     "metadata": {},
     "output_type": "execute_result"
    }
   ],
   "source": [
    "dt=DecisionTreeClassifier()\n",
    "dt.fit(X_train,y_train)"
   ]
  },
  {
   "cell_type": "code",
   "execution_count": 68,
   "id": "c6445421",
   "metadata": {
    "execution": {
     "iopub.execute_input": "2022-10-07T10:00:17.374266Z",
     "iopub.status.busy": "2022-10-07T10:00:17.373564Z",
     "iopub.status.idle": "2022-10-07T10:00:17.400803Z",
     "shell.execute_reply": "2022-10-07T10:00:17.399576Z"
    },
    "papermill": {
     "duration": 0.060673,
     "end_time": "2022-10-07T10:00:17.403795",
     "exception": false,
     "start_time": "2022-10-07T10:00:17.343122",
     "status": "completed"
    },
    "tags": []
   },
   "outputs": [],
   "source": [
    "y_pred2 = dt.predict(X_test)"
   ]
  },
  {
   "cell_type": "code",
   "execution_count": 69,
   "id": "6d603c4f",
   "metadata": {
    "execution": {
     "iopub.execute_input": "2022-10-07T10:00:17.465542Z",
     "iopub.status.busy": "2022-10-07T10:00:17.465144Z",
     "iopub.status.idle": "2022-10-07T10:00:17.485427Z",
     "shell.execute_reply": "2022-10-07T10:00:17.484158Z"
    },
    "papermill": {
     "duration": 0.054276,
     "end_time": "2022-10-07T10:00:17.488086",
     "exception": false,
     "start_time": "2022-10-07T10:00:17.433810",
     "status": "completed"
    },
    "tags": []
   },
   "outputs": [
    {
     "data": {
      "text/plain": [
       "0.9210526315789473"
      ]
     },
     "execution_count": 69,
     "metadata": {},
     "output_type": "execute_result"
    }
   ],
   "source": [
    "accuracy_score(y_test,y_pred2)"
   ]
  },
  {
   "cell_type": "code",
   "execution_count": 70,
   "id": "19c376b7",
   "metadata": {
    "execution": {
     "iopub.execute_input": "2022-10-07T10:00:17.549588Z",
     "iopub.status.busy": "2022-10-07T10:00:17.549205Z",
     "iopub.status.idle": "2022-10-07T10:00:17.607725Z",
     "shell.execute_reply": "2022-10-07T10:00:17.606626Z"
    },
    "papermill": {
     "duration": 0.09258,
     "end_time": "2022-10-07T10:00:17.610109",
     "exception": false,
     "start_time": "2022-10-07T10:00:17.517529",
     "status": "completed"
    },
    "tags": []
   },
   "outputs": [
    {
     "data": {
      "text/plain": [
       "0.9306930693069307"
      ]
     },
     "execution_count": 70,
     "metadata": {},
     "output_type": "execute_result"
    }
   ],
   "source": [
    "precision_score(y_test,y_pred2)"
   ]
  },
  {
   "cell_type": "code",
   "execution_count": 71,
   "id": "6602ca42",
   "metadata": {
    "execution": {
     "iopub.execute_input": "2022-10-07T10:00:17.670871Z",
     "iopub.status.busy": "2022-10-07T10:00:17.670446Z",
     "iopub.status.idle": "2022-10-07T10:00:17.729834Z",
     "shell.execute_reply": "2022-10-07T10:00:17.728799Z"
    },
    "papermill": {
     "duration": 0.09277,
     "end_time": "2022-10-07T10:00:17.732405",
     "exception": false,
     "start_time": "2022-10-07T10:00:17.639635",
     "status": "completed"
    },
    "tags": []
   },
   "outputs": [
    {
     "data": {
      "text/plain": [
       "0.9215686274509803"
      ]
     },
     "execution_count": 71,
     "metadata": {},
     "output_type": "execute_result"
    }
   ],
   "source": [
    "recall_score(y_test,y_pred2)"
   ]
  },
  {
   "cell_type": "code",
   "execution_count": 72,
   "id": "40c1c513",
   "metadata": {
    "execution": {
     "iopub.execute_input": "2022-10-07T10:00:17.793943Z",
     "iopub.status.busy": "2022-10-07T10:00:17.793543Z",
     "iopub.status.idle": "2022-10-07T10:00:17.853743Z",
     "shell.execute_reply": "2022-10-07T10:00:17.852548Z"
    },
    "papermill": {
     "duration": 0.093831,
     "end_time": "2022-10-07T10:00:17.856230",
     "exception": false,
     "start_time": "2022-10-07T10:00:17.762399",
     "status": "completed"
    },
    "tags": []
   },
   "outputs": [
    {
     "data": {
      "text/plain": [
       "0.9261083743842364"
      ]
     },
     "execution_count": 72,
     "metadata": {},
     "output_type": "execute_result"
    }
   ],
   "source": [
    "f1_score(y_test,y_pred2)"
   ]
  },
  {
   "cell_type": "markdown",
   "id": "42f895d6",
   "metadata": {
    "papermill": {
     "duration": 0.029724,
     "end_time": "2022-10-07T10:00:17.915887",
     "exception": false,
     "start_time": "2022-10-07T10:00:17.886163",
     "status": "completed"
    },
    "tags": []
   },
   "source": [
    "# 12. Random Forest Classifier"
   ]
  },
  {
   "cell_type": "code",
   "execution_count": 73,
   "id": "3c25f718",
   "metadata": {
    "execution": {
     "iopub.execute_input": "2022-10-07T10:00:17.977046Z",
     "iopub.status.busy": "2022-10-07T10:00:17.976625Z",
     "iopub.status.idle": "2022-10-07T10:08:14.735678Z",
     "shell.execute_reply": "2022-10-07T10:08:14.734436Z"
    },
    "papermill": {
     "duration": 476.822541,
     "end_time": "2022-10-07T10:08:14.768437",
     "exception": false,
     "start_time": "2022-10-07T10:00:17.945896",
     "status": "completed"
    },
    "tags": []
   },
   "outputs": [
    {
     "data": {
      "text/html": [
       "<style>#sk-container-id-5 {color: black;}#sk-container-id-5 pre{padding: 0;}#sk-container-id-5 div.sk-toggleable {background-color: white;}#sk-container-id-5 label.sk-toggleable__label {cursor: pointer;display: block;width: 100%;margin-bottom: 0;padding: 0.3em;box-sizing: border-box;text-align: center;}#sk-container-id-5 label.sk-toggleable__label-arrow:before {content: \"▸\";float: left;margin-right: 0.25em;color: #696969;}#sk-container-id-5 label.sk-toggleable__label-arrow:hover:before {color: black;}#sk-container-id-5 div.sk-estimator:hover label.sk-toggleable__label-arrow:before {color: black;}#sk-container-id-5 div.sk-toggleable__content {max-height: 0;max-width: 0;overflow: hidden;text-align: left;background-color: #f0f8ff;}#sk-container-id-5 div.sk-toggleable__content pre {margin: 0.2em;color: black;border-radius: 0.25em;background-color: #f0f8ff;}#sk-container-id-5 input.sk-toggleable__control:checked~div.sk-toggleable__content {max-height: 200px;max-width: 100%;overflow: auto;}#sk-container-id-5 input.sk-toggleable__control:checked~label.sk-toggleable__label-arrow:before {content: \"▾\";}#sk-container-id-5 div.sk-estimator input.sk-toggleable__control:checked~label.sk-toggleable__label {background-color: #d4ebff;}#sk-container-id-5 div.sk-label input.sk-toggleable__control:checked~label.sk-toggleable__label {background-color: #d4ebff;}#sk-container-id-5 input.sk-hidden--visually {border: 0;clip: rect(1px 1px 1px 1px);clip: rect(1px, 1px, 1px, 1px);height: 1px;margin: -1px;overflow: hidden;padding: 0;position: absolute;width: 1px;}#sk-container-id-5 div.sk-estimator {font-family: monospace;background-color: #f0f8ff;border: 1px dotted black;border-radius: 0.25em;box-sizing: border-box;margin-bottom: 0.5em;}#sk-container-id-5 div.sk-estimator:hover {background-color: #d4ebff;}#sk-container-id-5 div.sk-parallel-item::after {content: \"\";width: 100%;border-bottom: 1px solid gray;flex-grow: 1;}#sk-container-id-5 div.sk-label:hover label.sk-toggleable__label {background-color: #d4ebff;}#sk-container-id-5 div.sk-serial::before {content: \"\";position: absolute;border-left: 1px solid gray;box-sizing: border-box;top: 0;bottom: 0;left: 50%;z-index: 0;}#sk-container-id-5 div.sk-serial {display: flex;flex-direction: column;align-items: center;background-color: white;padding-right: 0.2em;padding-left: 0.2em;position: relative;}#sk-container-id-5 div.sk-item {position: relative;z-index: 1;}#sk-container-id-5 div.sk-parallel {display: flex;align-items: stretch;justify-content: center;background-color: white;position: relative;}#sk-container-id-5 div.sk-item::before, #sk-container-id-5 div.sk-parallel-item::before {content: \"\";position: absolute;border-left: 1px solid gray;box-sizing: border-box;top: 0;bottom: 0;left: 50%;z-index: -1;}#sk-container-id-5 div.sk-parallel-item {display: flex;flex-direction: column;z-index: 1;position: relative;background-color: white;}#sk-container-id-5 div.sk-parallel-item:first-child::after {align-self: flex-end;width: 50%;}#sk-container-id-5 div.sk-parallel-item:last-child::after {align-self: flex-start;width: 50%;}#sk-container-id-5 div.sk-parallel-item:only-child::after {width: 0;}#sk-container-id-5 div.sk-dashed-wrapped {border: 1px dashed gray;margin: 0 0.4em 0.5em 0.4em;box-sizing: border-box;padding-bottom: 0.4em;background-color: white;}#sk-container-id-5 div.sk-label label {font-family: monospace;font-weight: bold;display: inline-block;line-height: 1.2em;}#sk-container-id-5 div.sk-label-container {text-align: center;}#sk-container-id-5 div.sk-container {/* jupyter's `normalize.less` sets `[hidden] { display: none; }` but bootstrap.min.css set `[hidden] { display: none !important; }` so we also need the `!important` here to be able to override the default hidden behavior on the sphinx rendered scikit-learn.org. See: https://github.com/scikit-learn/scikit-learn/issues/21755 */display: inline-block !important;position: relative;}#sk-container-id-5 div.sk-text-repr-fallback {display: none;}</style><div id=\"sk-container-id-5\" class=\"sk-top-container\"><div class=\"sk-text-repr-fallback\"><pre>RandomForestClassifier()</pre><b>In a Jupyter environment, please rerun this cell to show the HTML representation or trust the notebook. <br />On GitHub, the HTML representation is unable to render, please try loading this page with nbviewer.org.</b></div><div class=\"sk-container\" hidden><div class=\"sk-item\"><div class=\"sk-estimator sk-toggleable\"><input class=\"sk-toggleable__control sk-hidden--visually\" id=\"sk-estimator-id-5\" type=\"checkbox\" checked><label for=\"sk-estimator-id-5\" class=\"sk-toggleable__label sk-toggleable__label-arrow\">RandomForestClassifier</label><div class=\"sk-toggleable__content\"><pre>RandomForestClassifier()</pre></div></div></div></div></div>"
      ],
      "text/plain": [
       "RandomForestClassifier()"
      ]
     },
     "execution_count": 73,
     "metadata": {},
     "output_type": "execute_result"
    }
   ],
   "source": [
    "rf = RandomForestClassifier()\n",
    "rf.fit(X_train,y_train)"
   ]
  },
  {
   "cell_type": "code",
   "execution_count": 74,
   "id": "d68bc39b",
   "metadata": {
    "execution": {
     "iopub.execute_input": "2022-10-07T10:08:14.832018Z",
     "iopub.status.busy": "2022-10-07T10:08:14.831592Z",
     "iopub.status.idle": "2022-10-07T10:08:16.505309Z",
     "shell.execute_reply": "2022-10-07T10:08:16.504056Z"
    },
    "papermill": {
     "duration": 1.709128,
     "end_time": "2022-10-07T10:08:16.508663",
     "exception": false,
     "start_time": "2022-10-07T10:08:14.799535",
     "status": "completed"
    },
    "tags": []
   },
   "outputs": [],
   "source": [
    "y_pred3 = rf.predict(X_test)"
   ]
  },
  {
   "cell_type": "code",
   "execution_count": 75,
   "id": "56e4731d",
   "metadata": {
    "execution": {
     "iopub.execute_input": "2022-10-07T10:08:16.574900Z",
     "iopub.status.busy": "2022-10-07T10:08:16.573693Z",
     "iopub.status.idle": "2022-10-07T10:08:16.594201Z",
     "shell.execute_reply": "2022-10-07T10:08:16.593063Z"
    },
    "papermill": {
     "duration": 0.054644,
     "end_time": "2022-10-07T10:08:16.596986",
     "exception": false,
     "start_time": "2022-10-07T10:08:16.542342",
     "status": "completed"
    },
    "tags": []
   },
   "outputs": [
    {
     "data": {
      "text/plain": [
       "0.9368421052631579"
      ]
     },
     "execution_count": 75,
     "metadata": {},
     "output_type": "execute_result"
    }
   ],
   "source": [
    "accuracy_score(y_test,y_pred3)"
   ]
  },
  {
   "cell_type": "code",
   "execution_count": 76,
   "id": "25b073d7",
   "metadata": {
    "execution": {
     "iopub.execute_input": "2022-10-07T10:08:16.669250Z",
     "iopub.status.busy": "2022-10-07T10:08:16.668420Z",
     "iopub.status.idle": "2022-10-07T10:08:16.733929Z",
     "shell.execute_reply": "2022-10-07T10:08:16.733021Z"
    },
    "papermill": {
     "duration": 0.101874,
     "end_time": "2022-10-07T10:08:16.736449",
     "exception": false,
     "start_time": "2022-10-07T10:08:16.634575",
     "status": "completed"
    },
    "tags": []
   },
   "outputs": [
    {
     "data": {
      "text/plain": [
       "0.9787234042553191"
      ]
     },
     "execution_count": 76,
     "metadata": {},
     "output_type": "execute_result"
    }
   ],
   "source": [
    "precision_score(y_test,y_pred3)"
   ]
  },
  {
   "cell_type": "code",
   "execution_count": 77,
   "id": "82310b5c",
   "metadata": {
    "execution": {
     "iopub.execute_input": "2022-10-07T10:08:16.802166Z",
     "iopub.status.busy": "2022-10-07T10:08:16.801350Z",
     "iopub.status.idle": "2022-10-07T10:08:16.861242Z",
     "shell.execute_reply": "2022-10-07T10:08:16.859990Z"
    },
    "papermill": {
     "duration": 0.09489,
     "end_time": "2022-10-07T10:08:16.863854",
     "exception": false,
     "start_time": "2022-10-07T10:08:16.768964",
     "status": "completed"
    },
    "tags": []
   },
   "outputs": [
    {
     "data": {
      "text/plain": [
       "0.9019607843137255"
      ]
     },
     "execution_count": 77,
     "metadata": {},
     "output_type": "execute_result"
    }
   ],
   "source": [
    "recall_score(y_test,y_pred3)"
   ]
  },
  {
   "cell_type": "code",
   "execution_count": 78,
   "id": "52ef9d9b",
   "metadata": {
    "execution": {
     "iopub.execute_input": "2022-10-07T10:08:16.927513Z",
     "iopub.status.busy": "2022-10-07T10:08:16.926466Z",
     "iopub.status.idle": "2022-10-07T10:08:16.987362Z",
     "shell.execute_reply": "2022-10-07T10:08:16.986127Z"
    },
    "papermill": {
     "duration": 0.095367,
     "end_time": "2022-10-07T10:08:16.989922",
     "exception": false,
     "start_time": "2022-10-07T10:08:16.894555",
     "status": "completed"
    },
    "tags": []
   },
   "outputs": [
    {
     "data": {
      "text/plain": [
       "0.9387755102040817"
      ]
     },
     "execution_count": 78,
     "metadata": {},
     "output_type": "execute_result"
    }
   ],
   "source": [
    "f1_score(y_test,y_pred3)"
   ]
  },
  {
   "cell_type": "code",
   "execution_count": 79,
   "id": "c120152b",
   "metadata": {
    "execution": {
     "iopub.execute_input": "2022-10-07T10:08:17.054531Z",
     "iopub.status.busy": "2022-10-07T10:08:17.053732Z",
     "iopub.status.idle": "2022-10-07T10:08:17.093802Z",
     "shell.execute_reply": "2022-10-07T10:08:17.092886Z"
    },
    "papermill": {
     "duration": 0.07451,
     "end_time": "2022-10-07T10:08:17.096338",
     "exception": false,
     "start_time": "2022-10-07T10:08:17.021828",
     "status": "completed"
    },
    "tags": []
   },
   "outputs": [],
   "source": [
    "final_data = pd.DataFrame({'Models':['LR','DT','RF'],\n",
    "              \"ACC\":[accuracy_score(y_test,y_pred1)*100,\n",
    "                     accuracy_score(y_test,y_pred2)*100,\n",
    "                     accuracy_score(y_test,y_pred3)*100\n",
    "                    ]})"
   ]
  },
  {
   "cell_type": "code",
   "execution_count": 80,
   "id": "ba9e99ba",
   "metadata": {
    "execution": {
     "iopub.execute_input": "2022-10-07T10:08:17.159677Z",
     "iopub.status.busy": "2022-10-07T10:08:17.158881Z",
     "iopub.status.idle": "2022-10-07T10:08:17.169513Z",
     "shell.execute_reply": "2022-10-07T10:08:17.168475Z"
    },
    "papermill": {
     "duration": 0.044853,
     "end_time": "2022-10-07T10:08:17.171766",
     "exception": false,
     "start_time": "2022-10-07T10:08:17.126913",
     "status": "completed"
    },
    "tags": []
   },
   "outputs": [
    {
     "data": {
      "text/html": [
       "<div>\n",
       "<style scoped>\n",
       "    .dataframe tbody tr th:only-of-type {\n",
       "        vertical-align: middle;\n",
       "    }\n",
       "\n",
       "    .dataframe tbody tr th {\n",
       "        vertical-align: top;\n",
       "    }\n",
       "\n",
       "    .dataframe thead th {\n",
       "        text-align: right;\n",
       "    }\n",
       "</style>\n",
       "<table border=\"1\" class=\"dataframe\">\n",
       "  <thead>\n",
       "    <tr style=\"text-align: right;\">\n",
       "      <th></th>\n",
       "      <th>Models</th>\n",
       "      <th>ACC</th>\n",
       "    </tr>\n",
       "  </thead>\n",
       "  <tbody>\n",
       "    <tr>\n",
       "      <th>0</th>\n",
       "      <td>LR</td>\n",
       "      <td>95.263158</td>\n",
       "    </tr>\n",
       "    <tr>\n",
       "      <th>1</th>\n",
       "      <td>DT</td>\n",
       "      <td>92.105263</td>\n",
       "    </tr>\n",
       "    <tr>\n",
       "      <th>2</th>\n",
       "      <td>RF</td>\n",
       "      <td>93.684211</td>\n",
       "    </tr>\n",
       "  </tbody>\n",
       "</table>\n",
       "</div>"
      ],
      "text/plain": [
       "  Models        ACC\n",
       "0     LR  95.263158\n",
       "1     DT  92.105263\n",
       "2     RF  93.684211"
      ]
     },
     "execution_count": 80,
     "metadata": {},
     "output_type": "execute_result"
    }
   ],
   "source": [
    "final_data"
   ]
  },
  {
   "cell_type": "code",
   "execution_count": null,
   "id": "35dd2143",
   "metadata": {
    "execution": {
     "iopub.execute_input": "2022-10-07T10:08:17.235645Z",
     "iopub.status.busy": "2022-10-07T10:08:17.234842Z",
     "iopub.status.idle": "2022-10-07T10:08:17.374395Z",
     "shell.execute_reply": "2022-10-07T10:08:17.373241Z"
    },
    "papermill": {
     "duration": 0.175005,
     "end_time": "2022-10-07T10:08:17.377435",
     "exception": false,
     "start_time": "2022-10-07T10:08:17.202430",
     "status": "completed"
    },
    "tags": []
   },
   "outputs": [],
   "source": []
  },
  {
   "cell_type": "markdown",
   "id": "a0025e5a",
   "metadata": {
    "papermill": {
     "duration": 0.031182,
     "end_time": "2022-10-07T10:08:17.440345",
     "exception": false,
     "start_time": "2022-10-07T10:08:17.409163",
     "status": "completed"
    },
    "tags": []
   },
   "source": [
    "# Save The Model"
   ]
  },
  {
   "cell_type": "code",
   "execution_count": 86,
   "id": "1a39de54",
   "metadata": {
    "execution": {
     "iopub.execute_input": "2022-10-07T10:08:17.508258Z",
     "iopub.status.busy": "2022-10-07T10:08:17.507837Z",
     "iopub.status.idle": "2022-10-07T10:17:55.335459Z",
     "shell.execute_reply": "2022-10-07T10:17:55.334392Z"
    },
    "papermill": {
     "duration": 577.895213,
     "end_time": "2022-10-07T10:17:55.367823",
     "exception": false,
     "start_time": "2022-10-07T10:08:17.472610",
     "status": "completed"
    },
    "tags": []
   },
   "outputs": [
    {
     "ename": "NameError",
     "evalue": "name 'X_res' is not defined",
     "output_type": "error",
     "traceback": [
      "\u001b[1;31m---------------------------------------------------------------------------\u001b[0m",
      "\u001b[1;31mNameError\u001b[0m                                 Traceback (most recent call last)",
      "Cell \u001b[1;32mIn[86], line 2\u001b[0m\n\u001b[0;32m      1\u001b[0m rf1 \u001b[38;5;241m=\u001b[39m RandomForestClassifier()\n\u001b[1;32m----> 2\u001b[0m rf1\u001b[38;5;241m.\u001b[39mfit(X_res,y_res)\n",
      "\u001b[1;31mNameError\u001b[0m: name 'X_res' is not defined"
     ]
    }
   ],
   "source": [
    "rf1 = RandomForestClassifier()\n",
    "rf1.fit(X_res,y_res)"
   ]
  },
  {
   "cell_type": "code",
   "execution_count": 87,
   "id": "da60516f",
   "metadata": {
    "execution": {
     "iopub.execute_input": "2022-10-07T10:17:55.497415Z",
     "iopub.status.busy": "2022-10-07T10:17:55.497019Z",
     "iopub.status.idle": "2022-10-07T10:17:55.502110Z",
     "shell.execute_reply": "2022-10-07T10:17:55.500922Z"
    },
    "papermill": {
     "duration": 0.105984,
     "end_time": "2022-10-07T10:17:55.504437",
     "exception": false,
     "start_time": "2022-10-07T10:17:55.398453",
     "status": "completed"
    },
    "tags": []
   },
   "outputs": [],
   "source": [
    "import joblib"
   ]
  },
  {
   "cell_type": "code",
   "execution_count": 85,
   "id": "503c8294",
   "metadata": {
    "execution": {
     "iopub.execute_input": "2022-10-07T10:17:55.569306Z",
     "iopub.status.busy": "2022-10-07T10:17:55.568870Z",
     "iopub.status.idle": "2022-10-07T10:17:55.643250Z",
     "shell.execute_reply": "2022-10-07T10:17:55.642229Z"
    },
    "papermill": {
     "duration": 0.109436,
     "end_time": "2022-10-07T10:17:55.645583",
     "exception": false,
     "start_time": "2022-10-07T10:17:55.536147",
     "status": "completed"
    },
    "tags": []
   },
   "outputs": [
    {
     "data": {
      "text/plain": [
       "['credit_card_model']"
      ]
     },
     "execution_count": 85,
     "metadata": {},
     "output_type": "execute_result"
    }
   ],
   "source": [
    "joblib.dump(rf1,\"credit_card_model\")"
   ]
  },
  {
   "cell_type": "code",
   "execution_count": null,
   "id": "c305b80a",
   "metadata": {
    "execution": {
     "iopub.execute_input": "2022-10-07T10:17:55.708671Z",
     "iopub.status.busy": "2022-10-07T10:17:55.708270Z",
     "iopub.status.idle": "2022-10-07T10:17:55.764886Z",
     "shell.execute_reply": "2022-10-07T10:17:55.763788Z"
    },
    "papermill": {
     "duration": 0.091014,
     "end_time": "2022-10-07T10:17:55.767519",
     "exception": false,
     "start_time": "2022-10-07T10:17:55.676505",
     "status": "completed"
    },
    "tags": []
   },
   "outputs": [],
   "source": [
    "model = joblib.load(\"credit_card_model\")"
   ]
  },
  {
   "cell_type": "code",
   "execution_count": null,
   "id": "d19259e0",
   "metadata": {
    "execution": {
     "iopub.execute_input": "2022-10-07T10:17:55.830451Z",
     "iopub.status.busy": "2022-10-07T10:17:55.830059Z",
     "iopub.status.idle": "2022-10-07T10:17:55.849145Z",
     "shell.execute_reply": "2022-10-07T10:17:55.848087Z"
    },
    "papermill": {
     "duration": 0.053025,
     "end_time": "2022-10-07T10:17:55.851463",
     "exception": false,
     "start_time": "2022-10-07T10:17:55.798438",
     "status": "completed"
    },
    "tags": []
   },
   "outputs": [],
   "source": [
    "pred = model.predict([[1,1,1,1,1,1,1,1,1,1,1,1,1,1,1,1,1,1,1,1,1,1,1,1,1,1,1,1,1]])"
   ]
  },
  {
   "cell_type": "code",
   "execution_count": null,
   "id": "6439d1c2",
   "metadata": {
    "execution": {
     "iopub.execute_input": "2022-10-07T10:17:55.915528Z",
     "iopub.status.busy": "2022-10-07T10:17:55.914698Z",
     "iopub.status.idle": "2022-10-07T10:17:55.921487Z",
     "shell.execute_reply": "2022-10-07T10:17:55.920358Z"
    },
    "papermill": {
     "duration": 0.041368,
     "end_time": "2022-10-07T10:17:55.923635",
     "exception": false,
     "start_time": "2022-10-07T10:17:55.882267",
     "status": "completed"
    },
    "tags": []
   },
   "outputs": [],
   "source": [
    "if pred == 0:\n",
    "    print(\"Normal Transcation\")\n",
    "else:\n",
    "    print(\"Fraudulent Transcation\")"
   ]
  },
  {
   "cell_type": "code",
   "execution_count": null,
   "id": "3bdd0f1f",
   "metadata": {},
   "outputs": [],
   "source": []
  },
  {
   "cell_type": "code",
   "execution_count": null,
   "id": "9e50e461",
   "metadata": {},
   "outputs": [],
   "source": []
  },
  {
   "cell_type": "code",
   "execution_count": null,
   "id": "b01887e0",
   "metadata": {},
   "outputs": [],
   "source": []
  },
  {
   "cell_type": "code",
   "execution_count": null,
   "id": "b220a597",
   "metadata": {},
   "outputs": [],
   "source": []
  },
  {
   "cell_type": "code",
   "execution_count": null,
   "id": "3fec0d20",
   "metadata": {},
   "outputs": [],
   "source": []
  },
  {
   "cell_type": "code",
   "execution_count": null,
   "id": "8c8da481",
   "metadata": {},
   "outputs": [],
   "source": []
  },
  {
   "cell_type": "code",
   "execution_count": null,
   "id": "a193c334",
   "metadata": {},
   "outputs": [],
   "source": []
  },
  {
   "cell_type": "code",
   "execution_count": null,
   "id": "a9171d60",
   "metadata": {},
   "outputs": [],
   "source": []
  },
  {
   "cell_type": "code",
   "execution_count": null,
   "id": "1b135cf9",
   "metadata": {},
   "outputs": [],
   "source": []
  },
  {
   "cell_type": "code",
   "execution_count": null,
   "id": "4f057db0",
   "metadata": {},
   "outputs": [],
   "source": []
  },
  {
   "cell_type": "code",
   "execution_count": null,
   "id": "6771f687",
   "metadata": {},
   "outputs": [],
   "source": []
  },
  {
   "cell_type": "code",
   "execution_count": null,
   "id": "00ac9493",
   "metadata": {},
   "outputs": [],
   "source": []
  },
  {
   "cell_type": "code",
   "execution_count": null,
   "id": "8e838c0d",
   "metadata": {},
   "outputs": [],
   "source": []
  },
  {
   "cell_type": "code",
   "execution_count": null,
   "id": "b9214259",
   "metadata": {},
   "outputs": [],
   "source": []
  },
  {
   "cell_type": "code",
   "execution_count": null,
   "id": "b1eac4cb",
   "metadata": {},
   "outputs": [],
   "source": []
  },
  {
   "cell_type": "code",
   "execution_count": null,
   "id": "92e9acd6",
   "metadata": {},
   "outputs": [],
   "source": []
  },
  {
   "cell_type": "code",
   "execution_count": null,
   "id": "3b0724b1",
   "metadata": {},
   "outputs": [],
   "source": []
  },
  {
   "cell_type": "code",
   "execution_count": null,
   "id": "40fc8d2c",
   "metadata": {},
   "outputs": [],
   "source": []
  },
  {
   "cell_type": "code",
   "execution_count": null,
   "id": "ea99215b",
   "metadata": {},
   "outputs": [],
   "source": []
  },
  {
   "cell_type": "code",
   "execution_count": null,
   "id": "5ffb3278",
   "metadata": {},
   "outputs": [],
   "source": []
  },
  {
   "cell_type": "code",
   "execution_count": null,
   "id": "0c6af00f",
   "metadata": {},
   "outputs": [],
   "source": []
  },
  {
   "cell_type": "code",
   "execution_count": null,
   "id": "f0333620",
   "metadata": {},
   "outputs": [],
   "source": []
  },
  {
   "cell_type": "code",
   "execution_count": null,
   "id": "bc2c843b",
   "metadata": {},
   "outputs": [],
   "source": []
  },
  {
   "cell_type": "code",
   "execution_count": null,
   "id": "1cbb11f6",
   "metadata": {},
   "outputs": [],
   "source": []
  },
  {
   "cell_type": "code",
   "execution_count": null,
   "id": "a167ba01",
   "metadata": {},
   "outputs": [],
   "source": []
  },
  {
   "cell_type": "code",
   "execution_count": null,
   "id": "e5fefeaa",
   "metadata": {},
   "outputs": [],
   "source": []
  },
  {
   "cell_type": "code",
   "execution_count": null,
   "id": "912bb6d5",
   "metadata": {},
   "outputs": [],
   "source": []
  },
  {
   "cell_type": "code",
   "execution_count": null,
   "id": "fe891e1a",
   "metadata": {},
   "outputs": [],
   "source": []
  },
  {
   "cell_type": "code",
   "execution_count": null,
   "id": "c18d8154",
   "metadata": {},
   "outputs": [],
   "source": []
  },
  {
   "cell_type": "code",
   "execution_count": null,
   "id": "33f35780",
   "metadata": {},
   "outputs": [],
   "source": []
  },
  {
   "cell_type": "code",
   "execution_count": null,
   "id": "1a362812",
   "metadata": {},
   "outputs": [],
   "source": []
  },
  {
   "cell_type": "code",
   "execution_count": null,
   "id": "a9a65c46",
   "metadata": {},
   "outputs": [],
   "source": []
  },
  {
   "cell_type": "code",
   "execution_count": null,
   "id": "4145473b",
   "metadata": {},
   "outputs": [],
   "source": []
  },
  {
   "cell_type": "code",
   "execution_count": null,
   "id": "94fa4b0c",
   "metadata": {},
   "outputs": [],
   "source": []
  },
  {
   "cell_type": "code",
   "execution_count": null,
   "id": "4300de78",
   "metadata": {},
   "outputs": [],
   "source": []
  },
  {
   "cell_type": "code",
   "execution_count": null,
   "id": "ed77a91a",
   "metadata": {},
   "outputs": [],
   "source": []
  },
  {
   "cell_type": "code",
   "execution_count": null,
   "id": "772f725c",
   "metadata": {},
   "outputs": [],
   "source": []
  },
  {
   "cell_type": "code",
   "execution_count": null,
   "id": "f3e94ca0",
   "metadata": {},
   "outputs": [],
   "source": []
  },
  {
   "cell_type": "code",
   "execution_count": null,
   "id": "e31258ed",
   "metadata": {},
   "outputs": [],
   "source": []
  },
  {
   "cell_type": "code",
   "execution_count": null,
   "id": "ada3689a",
   "metadata": {},
   "outputs": [],
   "source": []
  },
  {
   "cell_type": "code",
   "execution_count": null,
   "id": "83b379f8",
   "metadata": {},
   "outputs": [],
   "source": []
  },
  {
   "cell_type": "code",
   "execution_count": null,
   "id": "43ed5c85",
   "metadata": {},
   "outputs": [],
   "source": []
  },
  {
   "cell_type": "code",
   "execution_count": null,
   "id": "142f5cc8",
   "metadata": {},
   "outputs": [],
   "source": []
  },
  {
   "cell_type": "code",
   "execution_count": null,
   "id": "a57c07ec",
   "metadata": {},
   "outputs": [],
   "source": []
  },
  {
   "cell_type": "code",
   "execution_count": null,
   "id": "0d25823d",
   "metadata": {},
   "outputs": [],
   "source": []
  },
  {
   "cell_type": "code",
   "execution_count": null,
   "id": "f4960e23",
   "metadata": {},
   "outputs": [],
   "source": []
  },
  {
   "cell_type": "code",
   "execution_count": null,
   "id": "5860ff00",
   "metadata": {},
   "outputs": [],
   "source": []
  },
  {
   "cell_type": "code",
   "execution_count": null,
   "id": "04d2de9e",
   "metadata": {},
   "outputs": [],
   "source": []
  },
  {
   "cell_type": "code",
   "execution_count": null,
   "id": "6d9bb03c",
   "metadata": {},
   "outputs": [],
   "source": []
  },
  {
   "cell_type": "code",
   "execution_count": null,
   "id": "3fda330e",
   "metadata": {},
   "outputs": [],
   "source": []
  },
  {
   "cell_type": "code",
   "execution_count": null,
   "id": "39f31477",
   "metadata": {},
   "outputs": [],
   "source": []
  },
  {
   "cell_type": "code",
   "execution_count": null,
   "id": "4865f78d",
   "metadata": {},
   "outputs": [],
   "source": []
  },
  {
   "cell_type": "code",
   "execution_count": null,
   "id": "f66370bd",
   "metadata": {},
   "outputs": [],
   "source": []
  },
  {
   "cell_type": "code",
   "execution_count": null,
   "id": "f1f7028e",
   "metadata": {},
   "outputs": [],
   "source": []
  },
  {
   "cell_type": "code",
   "execution_count": null,
   "id": "896496f3",
   "metadata": {},
   "outputs": [],
   "source": []
  },
  {
   "cell_type": "code",
   "execution_count": null,
   "id": "6941dbd2",
   "metadata": {},
   "outputs": [],
   "source": []
  },
  {
   "cell_type": "code",
   "execution_count": null,
   "id": "6a47e617",
   "metadata": {},
   "outputs": [],
   "source": []
  }
 ],
 "metadata": {
  "kernelspec": {
   "display_name": "Python 3 (ipykernel)",
   "language": "python",
   "name": "python3"
  },
  "language_info": {
   "codemirror_mode": {
    "name": "ipython",
    "version": 3
   },
   "file_extension": ".py",
   "mimetype": "text/x-python",
   "name": "python",
   "nbconvert_exporter": "python",
   "pygments_lexer": "ipython3",
   "version": "3.11.5"
  },
  "papermill": {
   "default_parameters": {},
   "duration": 1142.417884,
   "end_time": "2022-10-07T10:17:56.677779",
   "environment_variables": {},
   "exception": null,
   "input_path": "__notebook__.ipynb",
   "output_path": "__notebook__.ipynb",
   "parameters": {},
   "start_time": "2022-10-07T09:58:54.259895",
   "version": "2.3.4"
  }
 },
 "nbformat": 4,
 "nbformat_minor": 5
}
