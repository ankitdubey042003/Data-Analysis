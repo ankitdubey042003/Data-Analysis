{
 "cells": [
  {
   "cell_type": "markdown",
   "id": "5c0c06a7",
   "metadata": {
    "papermill": {
     "duration": 0.002518,
     "end_time": "2024-04-21T12:13:59.893076",
     "exception": false,
     "start_time": "2024-04-21T12:13:59.890558",
     "status": "completed"
    },
    "tags": []
   },
   "source": [
    "# Tableau Visualization\n",
    "<div style=\"text-align: justify;\">\n",
    "Among these tabs are \"Average Earnings Per School,\" which provides an overview of the average earnings across various educational institutions, aiding in comparisons and benchmarking. The \"Average Earnings Per Year\" tab offers insights into earnings trends over time, facilitating historical analysis and identifying patterns or anomalies. Additionally, the \"Top 2 Departments in each school\" tab showcases the highest-earning departments within each school, helping stakeholders understand revenue distribution and prioritize resource allocation. Moreover, the \"Earnings across Years for each School\" tab presents a detailed view of earnings data for each school over multiple years, enabling in-depth exploration and trend identification. It's important to note that each visualization within these tabs is interactive, empowering users to delve deeper, apply filters, and extract actionable insights with ease, enhancing decision-making processes in the educational sector.\n",
    "</div>\n"
   ]
  },
  {
   "cell_type": "code",
   "execution_count": 1,
   "id": "938ffe16",
   "metadata": {
    "execution": {
     "iopub.execute_input": "2024-04-21T12:13:59.901275Z",
     "iopub.status.busy": "2024-04-21T12:13:59.900552Z",
     "iopub.status.idle": "2024-04-21T12:13:59.918224Z",
     "shell.execute_reply": "2024-04-21T12:13:59.917128Z"
    },
    "papermill": {
     "duration": 0.025176,
     "end_time": "2024-04-21T12:13:59.921471",
     "exception": false,
     "start_time": "2024-04-21T12:13:59.896295",
     "status": "completed"
    },
    "tags": []
   },
   "outputs": [
    {
     "data": {
      "text/html": [
       "<div class='tableauPlaceholder' id='viz1713701529059' style='position: relative'>\n",
       "  <noscript>\n",
       "    <a href='#'><img alt=' ' src='https:&#47;&#47;public.tableau.com&#47;static&#47;images&#47;Bo&#47;Book1_17131990378690&#47;Top2Departmentsineachschool&#47;1_rss.png' style='border: none' /></a>\n",
       "  </noscript>\n",
       "  <object class='tableauViz' style='width:100%;height:800px;'> <!-- Increased height to 800px -->\n",
       "    <param name='host_url' value='https%3A%2F%2Fpublic.tableau.com%2F' />\n",
       "    <param name='embed_code_version' value='3' />\n",
       "    <param name='site_root' value='' />\n",
       "    <param name='name' value='Book1_17131990378690&#47;Top2Departmentsineachschool' />\n",
       "    <param name='tabs' value='yes' />\n",
       "    <param name='toolbar' value='yes' />\n",
       "    <param name='static_image' value='https:&#47;&#47;public.tableau.com&#47;static&#47;images&#47;Bo&#47;Book1_17131990378690&#47;Top2Departmentsineachschool&#47;1.png' />\n",
       "    <param name='animate_transition' value='yes' />\n",
       "    <param name='display_static_image' value='yes' />\n",
       "    <param name='display_spinner' value='yes' />\n",
       "    <param name='display_overlay' value='yes' />\n",
       "    <param name='display_count' value='yes' />\n",
       "    <param name='language' value='en-US' />\n",
       "  </object>\n",
       "</div>\n",
       "<script type='text/javascript'>\n",
       "  var divElement = document.getElementById('viz1713701529059');\n",
       "  var vizElement = divElement.getElementsByTagName('object')[0];\n",
       "  vizElement.style.width='100%';\n",
       "  vizElement.style.height='800px'; // Set height to 800px\n",
       "  var scriptElement = document.createElement('script');\n",
       "  scriptElement.src = 'https://public.tableau.com/javascripts/api/viz_v1.js';\n",
       "  vizElement.parentNode.insertBefore(scriptElement, vizElement);\n",
       "</script>\n"
      ],
      "text/plain": [
       "<IPython.core.display.HTML object>"
      ]
     },
     "metadata": {},
     "output_type": "display_data"
    }
   ],
   "source": [
    "%%html\n",
    "<div class='tableauPlaceholder' id='viz1713701529059' style='position: relative'>\n",
    "  <noscript>\n",
    "    <a href='#'><img alt=' ' src='https:&#47;&#47;public.tableau.com&#47;static&#47;images&#47;Bo&#47;Book1_17131990378690&#47;Top2Departmentsineachschool&#47;1_rss.png' style='border: none' /></a>\n",
    "  </noscript>\n",
    "  <object class='tableauViz' style='width:100%;height:800px;'> <!-- Increased height to 800px -->\n",
    "    <param name='host_url' value='https%3A%2F%2Fpublic.tableau.com%2F' />\n",
    "    <param name='embed_code_version' value='3' />\n",
    "    <param name='site_root' value='' />\n",
    "    <param name='name' value='Book1_17131990378690&#47;Top2Departmentsineachschool' />\n",
    "    <param name='tabs' value='yes' />\n",
    "    <param name='toolbar' value='yes' />\n",
    "    <param name='static_image' value='https:&#47;&#47;public.tableau.com&#47;static&#47;images&#47;Bo&#47;Book1_17131990378690&#47;Top2Departmentsineachschool&#47;1.png' />\n",
    "    <param name='animate_transition' value='yes' />\n",
    "    <param name='display_static_image' value='yes' />\n",
    "    <param name='display_spinner' value='yes' />\n",
    "    <param name='display_overlay' value='yes' />\n",
    "    <param name='display_count' value='yes' />\n",
    "    <param name='language' value='en-US' />\n",
    "  </object>\n",
    "</div>\n",
    "<script type='text/javascript'>\n",
    "  var divElement = document.getElementById('viz1713701529059');\n",
    "  var vizElement = divElement.getElementsByTagName('object')[0];\n",
    "  vizElement.style.width='100%';\n",
    "  vizElement.style.height='800px'; // Set height to 800px\n",
    "  var scriptElement = document.createElement('script');\n",
    "  scriptElement.src = 'https://public.tableau.com/javascripts/api/viz_v1.js';\n",
    "  vizElement.parentNode.insertBefore(scriptElement, vizElement);\n",
    "</script>\n"
   ]
  }
 ],
 "metadata": {
  "kaggle": {
   "accelerator": "none",
   "dataSources": [
    {
     "datasetId": 4749135,
     "sourceId": 8052802,
     "sourceType": "datasetVersion"
    }
   ],
   "dockerImageVersionId": 30702,
   "isGpuEnabled": false,
   "isInternetEnabled": true,
   "language": "python",
   "sourceType": "notebook"
  },
  "kernelspec": {
   "display_name": "Python 3 (ipykernel)",
   "language": "python",
   "name": "python3"
  },
  "language_info": {
   "codemirror_mode": {
    "name": "ipython",
    "version": 3
   },
   "file_extension": ".py",
   "mimetype": "text/x-python",
   "name": "python",
   "nbconvert_exporter": "python",
   "pygments_lexer": "ipython3",
   "version": "3.11.5"
  },
  "papermill": {
   "default_parameters": {},
   "duration": 3.569928,
   "end_time": "2024-04-21T12:14:00.344123",
   "environment_variables": {},
   "exception": null,
   "input_path": "__notebook__.ipynb",
   "output_path": "__notebook__.ipynb",
   "parameters": {},
   "start_time": "2024-04-21T12:13:56.774195",
   "version": "2.5.0"
  }
 },
 "nbformat": 4,
 "nbformat_minor": 5
}
